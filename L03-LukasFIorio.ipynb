{
 "cells": [
  {
   "cell_type": "markdown",
   "metadata": {},
   "source": [
    "# Lesson 3 - RFM\n",
    "\n",
    "## Author - Lukas Fiorio"
   ]
  },
  {
   "cell_type": "markdown",
   "metadata": {},
   "source": [
    "## Instructions\n",
    "\n",
    "- Read data\n",
    "- Calculate RFM\n",
    "- Segment customer transactions using Kmeans\n",
    "- Describe the 2-cluster centroids"
   ]
  },
  {
   "cell_type": "code",
   "execution_count": 1,
   "metadata": {},
   "outputs": [],
   "source": [
    "# Import libraries\n",
    "import pandas as pd\n",
    "import numpy as np\n",
    "import matplotlib.pyplot as plt\n",
    "import seaborn as sns\n",
    "import math\n",
    "\n",
    "from sklearn.preprocessing import StandardScaler\n",
    "from sklearn.cluster import KMeans\n",
    "from IPython.display import display"
   ]
  },
  {
   "cell_type": "code",
   "execution_count": 2,
   "metadata": {},
   "outputs": [],
   "source": [
    "# set package options\n",
    "pd.set_option('display.max_columns', None) # show all columns"
   ]
  },
  {
   "cell_type": "markdown",
   "metadata": {},
   "source": [
    "## Read data\n",
    "\n",
    "This project uses data from Tableau Public on Superstore Transactions, [available here](https://community.tableau.com/s/contentdocument/0694T000001GnpUQAS).\n",
    "\n",
    "The subset of data we work with is made available for download directly from the University of Washington."
   ]
  },
  {
   "cell_type": "code",
   "execution_count": 3,
   "metadata": {},
   "outputs": [],
   "source": [
    "# Locate & load dataset\n",
    "file = \"https://library.startlearninglabs.uw.edu/DATASCI420/2019/Datasets/SuperstoreTransaction.csv\"\n",
    "ss_txn = pd.read_csv(file) # read file into df"
   ]
  },
  {
   "cell_type": "markdown",
   "metadata": {},
   "source": [
    "We start by previewing the data. We see about 10,000 transactions and 21 attributes.  Visually, it looks like many of the attributes are non-numeric."
   ]
  },
  {
   "cell_type": "code",
   "execution_count": 4,
   "metadata": {},
   "outputs": [
    {
     "name": "stdout",
     "output_type": "stream",
     "text": [
      "(9994, 21)\n"
     ]
    },
    {
     "data": {
      "text/html": [
       "<div>\n",
       "<style scoped>\n",
       "    .dataframe tbody tr th:only-of-type {\n",
       "        vertical-align: middle;\n",
       "    }\n",
       "\n",
       "    .dataframe tbody tr th {\n",
       "        vertical-align: top;\n",
       "    }\n",
       "\n",
       "    .dataframe thead th {\n",
       "        text-align: right;\n",
       "    }\n",
       "</style>\n",
       "<table border=\"1\" class=\"dataframe\">\n",
       "  <thead>\n",
       "    <tr style=\"text-align: right;\">\n",
       "      <th></th>\n",
       "      <th>Row ID</th>\n",
       "      <th>Order ID</th>\n",
       "      <th>Order Date</th>\n",
       "      <th>Ship Date</th>\n",
       "      <th>Ship Mode</th>\n",
       "      <th>Customer ID</th>\n",
       "      <th>Customer Name</th>\n",
       "      <th>Segment</th>\n",
       "      <th>Country</th>\n",
       "      <th>City</th>\n",
       "      <th>State</th>\n",
       "      <th>Postal Code</th>\n",
       "      <th>Region</th>\n",
       "      <th>Product ID</th>\n",
       "      <th>Category</th>\n",
       "      <th>Sub-Category</th>\n",
       "      <th>Product Name</th>\n",
       "      <th>Sales</th>\n",
       "      <th>Quantity</th>\n",
       "      <th>Discount</th>\n",
       "      <th>Profit</th>\n",
       "    </tr>\n",
       "  </thead>\n",
       "  <tbody>\n",
       "    <tr>\n",
       "      <th>0</th>\n",
       "      <td>1</td>\n",
       "      <td>CA-2016-152156</td>\n",
       "      <td>11/8/2016</td>\n",
       "      <td>11/11/2016</td>\n",
       "      <td>Second Class</td>\n",
       "      <td>CG-12520</td>\n",
       "      <td>Claire Gute</td>\n",
       "      <td>Consumer</td>\n",
       "      <td>United States</td>\n",
       "      <td>Henderson</td>\n",
       "      <td>Kentucky</td>\n",
       "      <td>42420</td>\n",
       "      <td>South</td>\n",
       "      <td>FUR-BO-10001798</td>\n",
       "      <td>Furniture</td>\n",
       "      <td>Bookcases</td>\n",
       "      <td>Bush Somerset Collection Bookcase</td>\n",
       "      <td>261.9600</td>\n",
       "      <td>2</td>\n",
       "      <td>0.00</td>\n",
       "      <td>41.9136</td>\n",
       "    </tr>\n",
       "    <tr>\n",
       "      <th>1</th>\n",
       "      <td>2</td>\n",
       "      <td>CA-2016-152156</td>\n",
       "      <td>11/8/2016</td>\n",
       "      <td>11/11/2016</td>\n",
       "      <td>Second Class</td>\n",
       "      <td>CG-12520</td>\n",
       "      <td>Claire Gute</td>\n",
       "      <td>Consumer</td>\n",
       "      <td>United States</td>\n",
       "      <td>Henderson</td>\n",
       "      <td>Kentucky</td>\n",
       "      <td>42420</td>\n",
       "      <td>South</td>\n",
       "      <td>FUR-CH-10000454</td>\n",
       "      <td>Furniture</td>\n",
       "      <td>Chairs</td>\n",
       "      <td>Hon Deluxe Fabric Upholstered Stacking Chairs,...</td>\n",
       "      <td>731.9400</td>\n",
       "      <td>3</td>\n",
       "      <td>0.00</td>\n",
       "      <td>219.5820</td>\n",
       "    </tr>\n",
       "    <tr>\n",
       "      <th>2</th>\n",
       "      <td>3</td>\n",
       "      <td>CA-2016-138688</td>\n",
       "      <td>6/12/2016</td>\n",
       "      <td>6/16/2016</td>\n",
       "      <td>Second Class</td>\n",
       "      <td>DV-13045</td>\n",
       "      <td>Darrin Van Huff</td>\n",
       "      <td>Corporate</td>\n",
       "      <td>United States</td>\n",
       "      <td>Los Angeles</td>\n",
       "      <td>California</td>\n",
       "      <td>90036</td>\n",
       "      <td>West</td>\n",
       "      <td>OFF-LA-10000240</td>\n",
       "      <td>Office Supplies</td>\n",
       "      <td>Labels</td>\n",
       "      <td>Self-Adhesive Address Labels for Typewriters b...</td>\n",
       "      <td>14.6200</td>\n",
       "      <td>2</td>\n",
       "      <td>0.00</td>\n",
       "      <td>6.8714</td>\n",
       "    </tr>\n",
       "    <tr>\n",
       "      <th>3</th>\n",
       "      <td>4</td>\n",
       "      <td>US-2015-108966</td>\n",
       "      <td>10/11/2015</td>\n",
       "      <td>10/18/2015</td>\n",
       "      <td>Standard Class</td>\n",
       "      <td>SO-20335</td>\n",
       "      <td>Sean O'Donnell</td>\n",
       "      <td>Consumer</td>\n",
       "      <td>United States</td>\n",
       "      <td>Fort Lauderdale</td>\n",
       "      <td>Florida</td>\n",
       "      <td>33311</td>\n",
       "      <td>South</td>\n",
       "      <td>FUR-TA-10000577</td>\n",
       "      <td>Furniture</td>\n",
       "      <td>Tables</td>\n",
       "      <td>Bretford CR4500 Series Slim Rectangular Table</td>\n",
       "      <td>957.5775</td>\n",
       "      <td>5</td>\n",
       "      <td>0.45</td>\n",
       "      <td>-383.0310</td>\n",
       "    </tr>\n",
       "    <tr>\n",
       "      <th>4</th>\n",
       "      <td>5</td>\n",
       "      <td>US-2015-108966</td>\n",
       "      <td>10/11/2015</td>\n",
       "      <td>10/18/2015</td>\n",
       "      <td>Standard Class</td>\n",
       "      <td>SO-20335</td>\n",
       "      <td>Sean O'Donnell</td>\n",
       "      <td>Consumer</td>\n",
       "      <td>United States</td>\n",
       "      <td>Fort Lauderdale</td>\n",
       "      <td>Florida</td>\n",
       "      <td>33311</td>\n",
       "      <td>South</td>\n",
       "      <td>OFF-ST-10000760</td>\n",
       "      <td>Office Supplies</td>\n",
       "      <td>Storage</td>\n",
       "      <td>Eldon Fold 'N Roll Cart System</td>\n",
       "      <td>22.3680</td>\n",
       "      <td>2</td>\n",
       "      <td>0.20</td>\n",
       "      <td>2.5164</td>\n",
       "    </tr>\n",
       "  </tbody>\n",
       "</table>\n",
       "</div>"
      ],
      "text/plain": [
       "   Row ID        Order ID  Order Date   Ship Date       Ship Mode Customer ID  \\\n",
       "0       1  CA-2016-152156   11/8/2016  11/11/2016    Second Class    CG-12520   \n",
       "1       2  CA-2016-152156   11/8/2016  11/11/2016    Second Class    CG-12520   \n",
       "2       3  CA-2016-138688   6/12/2016   6/16/2016    Second Class    DV-13045   \n",
       "3       4  US-2015-108966  10/11/2015  10/18/2015  Standard Class    SO-20335   \n",
       "4       5  US-2015-108966  10/11/2015  10/18/2015  Standard Class    SO-20335   \n",
       "\n",
       "     Customer Name    Segment        Country             City       State  \\\n",
       "0      Claire Gute   Consumer  United States        Henderson    Kentucky   \n",
       "1      Claire Gute   Consumer  United States        Henderson    Kentucky   \n",
       "2  Darrin Van Huff  Corporate  United States      Los Angeles  California   \n",
       "3   Sean O'Donnell   Consumer  United States  Fort Lauderdale     Florida   \n",
       "4   Sean O'Donnell   Consumer  United States  Fort Lauderdale     Florida   \n",
       "\n",
       "   Postal Code Region       Product ID         Category Sub-Category  \\\n",
       "0        42420  South  FUR-BO-10001798        Furniture    Bookcases   \n",
       "1        42420  South  FUR-CH-10000454        Furniture       Chairs   \n",
       "2        90036   West  OFF-LA-10000240  Office Supplies       Labels   \n",
       "3        33311  South  FUR-TA-10000577        Furniture       Tables   \n",
       "4        33311  South  OFF-ST-10000760  Office Supplies      Storage   \n",
       "\n",
       "                                        Product Name     Sales  Quantity  \\\n",
       "0                  Bush Somerset Collection Bookcase  261.9600         2   \n",
       "1  Hon Deluxe Fabric Upholstered Stacking Chairs,...  731.9400         3   \n",
       "2  Self-Adhesive Address Labels for Typewriters b...   14.6200         2   \n",
       "3      Bretford CR4500 Series Slim Rectangular Table  957.5775         5   \n",
       "4                     Eldon Fold 'N Roll Cart System   22.3680         2   \n",
       "\n",
       "   Discount    Profit  \n",
       "0      0.00   41.9136  \n",
       "1      0.00  219.5820  \n",
       "2      0.00    6.8714  \n",
       "3      0.45 -383.0310  \n",
       "4      0.20    2.5164  "
      ]
     },
     "execution_count": 4,
     "metadata": {},
     "output_type": "execute_result"
    }
   ],
   "source": [
    "print(ss_txn.shape)\n",
    "ss_txn.head()"
   ]
  },
  {
   "cell_type": "markdown",
   "metadata": {},
   "source": [
    "Explicitly examining our data structure shows that other than the few quantitative attributes at the end, our data is indeed mostly string data.\n",
    "\n",
    "Conveniently, we also see that there are no missing values in our data.\n",
    "\n",
    "*NB: although `Postal Code` is parsed as numeric, we would treat it as categorical for any analytical purposes.*"
   ]
  },
  {
   "cell_type": "code",
   "execution_count": 5,
   "metadata": {},
   "outputs": [
    {
     "name": "stdout",
     "output_type": "stream",
     "text": [
      "<class 'pandas.core.frame.DataFrame'>\n",
      "RangeIndex: 9994 entries, 0 to 9993\n",
      "Data columns (total 21 columns):\n",
      " #   Column         Non-Null Count  Dtype  \n",
      "---  ------         --------------  -----  \n",
      " 0   Row ID         9994 non-null   int64  \n",
      " 1   Order ID       9994 non-null   object \n",
      " 2   Order Date     9994 non-null   object \n",
      " 3   Ship Date      9994 non-null   object \n",
      " 4   Ship Mode      9994 non-null   object \n",
      " 5   Customer ID    9994 non-null   object \n",
      " 6   Customer Name  9994 non-null   object \n",
      " 7   Segment        9994 non-null   object \n",
      " 8   Country        9994 non-null   object \n",
      " 9   City           9994 non-null   object \n",
      " 10  State          9994 non-null   object \n",
      " 11  Postal Code    9994 non-null   int64  \n",
      " 12  Region         9994 non-null   object \n",
      " 13  Product ID     9994 non-null   object \n",
      " 14  Category       9994 non-null   object \n",
      " 15  Sub-Category   9994 non-null   object \n",
      " 16  Product Name   9994 non-null   object \n",
      " 17  Sales          9994 non-null   float64\n",
      " 18  Quantity       9994 non-null   int64  \n",
      " 19  Discount       9994 non-null   float64\n",
      " 20  Profit         9994 non-null   float64\n",
      "dtypes: float64(3), int64(3), object(15)\n",
      "memory usage: 1.6+ MB\n"
     ]
    }
   ],
   "source": [
    "ss_txn.info() # data structure"
   ]
  },
  {
   "cell_type": "markdown",
   "metadata": {},
   "source": [
    "Looking at unique values, we see that our data contains \\~10,000 products bought in \\~5,000 orders made by \\~800 customers.\n",
    "\n",
    "Furthermore, we can get a sense of the columns with high cardinality versus low cardinality.\n",
    "\n",
    "Those with low cardinality (e.g. `Ship Mode`, `Segment`, `Region`, etc.) may be good candidates for onehot encoding.  Those with high cardinality would likely need to be sensibly aggregated first (to avoid increasing the dimensionality of our data too significantly)."
   ]
  },
  {
   "cell_type": "code",
   "execution_count": 6,
   "metadata": {},
   "outputs": [
    {
     "data": {
      "text/plain": [
       "Row ID           9994\n",
       "Order ID         5009\n",
       "Order Date       1237\n",
       "Ship Date        1334\n",
       "Ship Mode           4\n",
       "Customer ID       793\n",
       "Customer Name     793\n",
       "Segment             3\n",
       "Country             1\n",
       "City              531\n",
       "State              49\n",
       "Postal Code       631\n",
       "Region              4\n",
       "Product ID       1862\n",
       "Category            3\n",
       "Sub-Category       17\n",
       "Product Name     1850\n",
       "Sales            5825\n",
       "Quantity           14\n",
       "Discount           12\n",
       "Profit           7287\n",
       "dtype: int64"
      ]
     },
     "execution_count": 6,
     "metadata": {},
     "output_type": "execute_result"
    }
   ],
   "source": [
    "ss_txn.nunique() # count of unique values in each field"
   ]
  },
  {
   "cell_type": "markdown",
   "metadata": {},
   "source": [
    "Describing our numeric fields is really only useful for `Sales`, `Quantity`, `Discount`, and `Profit`.  \n",
    "\n",
    "We see that a typical order (median) is for about \\\\$55 with profit just under \\$10.  Bsaed on the max values, it looks like our data may skew right (as is typical for financial data).\n",
    "\n",
    "We apply a lambda function to round the stats for readability."
   ]
  },
  {
   "cell_type": "code",
   "execution_count": 7,
   "metadata": {
    "scrolled": true
   },
   "outputs": [
    {
     "data": {
      "text/html": [
       "<div>\n",
       "<style scoped>\n",
       "    .dataframe tbody tr th:only-of-type {\n",
       "        vertical-align: middle;\n",
       "    }\n",
       "\n",
       "    .dataframe tbody tr th {\n",
       "        vertical-align: top;\n",
       "    }\n",
       "\n",
       "    .dataframe thead th {\n",
       "        text-align: right;\n",
       "    }\n",
       "</style>\n",
       "<table border=\"1\" class=\"dataframe\">\n",
       "  <thead>\n",
       "    <tr style=\"text-align: right;\">\n",
       "      <th></th>\n",
       "      <th>Row ID</th>\n",
       "      <th>Postal Code</th>\n",
       "      <th>Sales</th>\n",
       "      <th>Quantity</th>\n",
       "      <th>Discount</th>\n",
       "      <th>Profit</th>\n",
       "    </tr>\n",
       "  </thead>\n",
       "  <tbody>\n",
       "    <tr>\n",
       "      <th>count</th>\n",
       "      <td>9994</td>\n",
       "      <td>9994</td>\n",
       "      <td>9994</td>\n",
       "      <td>9994</td>\n",
       "      <td>9994</td>\n",
       "      <td>9994</td>\n",
       "    </tr>\n",
       "    <tr>\n",
       "      <th>mean</th>\n",
       "      <td>4997.5</td>\n",
       "      <td>55190.4</td>\n",
       "      <td>229.858</td>\n",
       "      <td>3.78957</td>\n",
       "      <td>0.156203</td>\n",
       "      <td>28.6569</td>\n",
       "    </tr>\n",
       "    <tr>\n",
       "      <th>std</th>\n",
       "      <td>2885.16</td>\n",
       "      <td>32063.7</td>\n",
       "      <td>623.245</td>\n",
       "      <td>2.22511</td>\n",
       "      <td>0.206452</td>\n",
       "      <td>234.26</td>\n",
       "    </tr>\n",
       "    <tr>\n",
       "      <th>min</th>\n",
       "      <td>1</td>\n",
       "      <td>1040</td>\n",
       "      <td>0.444</td>\n",
       "      <td>1</td>\n",
       "      <td>0</td>\n",
       "      <td>-6599.98</td>\n",
       "    </tr>\n",
       "    <tr>\n",
       "      <th>25%</th>\n",
       "      <td>2499.25</td>\n",
       "      <td>23223</td>\n",
       "      <td>17.28</td>\n",
       "      <td>2</td>\n",
       "      <td>0</td>\n",
       "      <td>1.72875</td>\n",
       "    </tr>\n",
       "    <tr>\n",
       "      <th>50%</th>\n",
       "      <td>4997.5</td>\n",
       "      <td>56430.5</td>\n",
       "      <td>54.49</td>\n",
       "      <td>3</td>\n",
       "      <td>0.2</td>\n",
       "      <td>8.6665</td>\n",
       "    </tr>\n",
       "    <tr>\n",
       "      <th>75%</th>\n",
       "      <td>7495.75</td>\n",
       "      <td>90008</td>\n",
       "      <td>209.94</td>\n",
       "      <td>5</td>\n",
       "      <td>0.2</td>\n",
       "      <td>29.364</td>\n",
       "    </tr>\n",
       "    <tr>\n",
       "      <th>max</th>\n",
       "      <td>9994</td>\n",
       "      <td>99301</td>\n",
       "      <td>22638.5</td>\n",
       "      <td>14</td>\n",
       "      <td>0.8</td>\n",
       "      <td>8399.98</td>\n",
       "    </tr>\n",
       "  </tbody>\n",
       "</table>\n",
       "</div>"
      ],
      "text/plain": [
       "        Row ID Postal Code    Sales Quantity  Discount    Profit\n",
       "count     9994        9994     9994     9994      9994      9994\n",
       "mean    4997.5     55190.4  229.858  3.78957  0.156203   28.6569\n",
       "std    2885.16     32063.7  623.245  2.22511  0.206452    234.26\n",
       "min          1        1040    0.444        1         0  -6599.98\n",
       "25%    2499.25       23223    17.28        2         0   1.72875\n",
       "50%     4997.5     56430.5    54.49        3       0.2    8.6665\n",
       "75%    7495.75       90008   209.94        5       0.2    29.364\n",
       "max       9994       99301  22638.5       14       0.8   8399.98"
      ]
     },
     "execution_count": 7,
     "metadata": {},
     "output_type": "execute_result"
    }
   ],
   "source": [
    "ss_txn.describe().apply(lambda s: s.apply(lambda x: format(x, 'g'))) # data stats"
   ]
  },
  {
   "cell_type": "markdown",
   "metadata": {},
   "source": [
    "### Data Prep\n",
    "\n",
    "Next we'll clean up our column names and convert our date columns from objects to datetime fields"
   ]
  },
  {
   "cell_type": "code",
   "execution_count": 8,
   "metadata": {},
   "outputs": [],
   "source": [
    "# rename columns for consistency\n",
    "ss_txn.columns = ss_txn.columns.str.replace(\"-\", \"_\") # replace hyphens\n",
    "ss_txn.columns = ss_txn.columns.str.replace(\" \", \"_\") # replace white space\n",
    "ss_txn.columns = ss_txn.columns.str.lower() # lower case\n",
    "\n",
    "# convert date columns to datetime (from object)\n",
    "ss_txn['order_date'] = pd.to_datetime(ss_txn['order_date'])\n",
    "ss_txn['ship_date'] = pd.to_datetime(ss_txn['ship_date'])"
   ]
  },
  {
   "cell_type": "markdown",
   "metadata": {},
   "source": [
    "### Data Visualization\n",
    "\n",
    "In this section we'll explore our dataset a bit."
   ]
  },
  {
   "cell_type": "markdown",
   "metadata": {},
   "source": [
    "First, we'll store the count of observations (transactions) by `order_date`.  From the preview, it looks like our transaction data span 2014 - 2017."
   ]
  },
  {
   "cell_type": "code",
   "execution_count": 9,
   "metadata": {},
   "outputs": [
    {
     "data": {
      "text/plain": [
       "2014-01-03     1\n",
       "2014-01-04     3\n",
       "2014-01-05     1\n",
       "2014-01-06     9\n",
       "2014-01-07     2\n",
       "              ..\n",
       "2017-12-26     4\n",
       "2017-12-27     2\n",
       "2017-12-28    19\n",
       "2017-12-29    12\n",
       "2017-12-30     7\n",
       "Name: order_date, Length: 1237, dtype: int64"
      ]
     },
     "execution_count": 9,
     "metadata": {},
     "output_type": "execute_result"
    }
   ],
   "source": [
    "txn_count_daily = ss_txn['order_date'].value_counts().sort_index()\n",
    "txn_count_daily"
   ]
  },
  {
   "cell_type": "markdown",
   "metadata": {},
   "source": [
    "#### Transaction Volume Trends\n",
    "\n",
    "Plotting transaction counts by day, we see our data spans from January 2014 thru December 2017 (4 years of transactions).  We also see that the data is pretty noisy (fairly volatile from day-to-day).\n",
    "\n",
    "Applying a 14-day rolling average helps make the long-term upward trend a bit more visible.  We still some seasonal spikes around in the latter half of the year (September, November, December) before dropping back down in January."
   ]
  },
  {
   "cell_type": "code",
   "execution_count": 10,
   "metadata": {},
   "outputs": [
    {
     "data": {
      "image/png": "[encoded data removed]",
      "text/plain": [
       "<Figure size 1152x432 with 1 Axes>"
      ]
     },
     "metadata": {
      "needs_background": "light"
     },
     "output_type": "display_data"
    }
   ],
   "source": [
    "# plot the daily headcount (including a 14 day rolling average)\n",
    "plt.figure(figsize = (16, 6))\n",
    "sns.lineplot(x = txn_count_daily.index, y = txn_count_daily, alpha = 0.25);\n",
    "sns.lineplot(x = txn_count_daily.index, y = txn_count_daily.rolling(14).mean()); # 14day rolling avg"
   ]
  },
  {
   "cell_type": "code",
   "execution_count": null,
   "metadata": {},
   "outputs": [],
   "source": []
  },
  {
   "cell_type": "code",
   "execution_count": 11,
   "metadata": {},
   "outputs": [],
   "source": [
    "def dist_plots(df, col_list, plot_type, n_cols=2):\n",
    "    '''\n",
    "    df: dataframe\n",
    "    col_list: list of column names.\n",
    "    plot_type: ['countplot', 'distplot']\n",
    "    n_cols: number of columns in grid of plots. default = 2.\n",
    "    '''\n",
    "    \n",
    "    # deduce nbr of rows needed for plot\n",
    "    n_rows = math.ceil(len(col_list) / n_cols)\n",
    "\n",
    "    # set figure, axis properties\n",
    "    fig, ax = plt.subplots(ncols = n_cols, nrows = n_rows)\n",
    "    fig.set_size_inches(16, 4 * n_rows)\n",
    "    fig.tight_layout(h_pad = 6, w_pad = 12)\n",
    "\n",
    "    # if one column only, plot just that one\n",
    "    if len(col_list) == 1:\n",
    "        sns.countplot(y = df[col_list[0]], ax = ax);\n",
    "        ax.title.set_text('# of transactions, by ' + col_list[0]);\n",
    "    \n",
    "    # if multiple columns, loop & plot each\n",
    "    else:\n",
    "        # loop through each column & plot\n",
    "        for i, col in enumerate(col_list):\n",
    "\n",
    "            # compute row, col index\n",
    "            i_row = math.floor(i / n_cols)\n",
    "            i_col = i % n_cols\n",
    "\n",
    "            # make plots\n",
    "            getattr(sns, plot_type)(df[col], ax = ax[i_row][i_col])\n",
    "            ax[i_row][i_col].title.set_text('Transactions, by ' + col);"
   ]
  },
  {
   "cell_type": "markdown",
   "metadata": {},
   "source": [
    "Identify the low-cardinality categorical columns to plot."
   ]
  },
  {
   "cell_type": "code",
   "execution_count": 12,
   "metadata": {},
   "outputs": [],
   "source": [
    "# store object columns\n",
    "obj_cols = ss_txn.select_dtypes(['object']).columns.tolist()\n",
    "\n",
    "# count of unique values by column\n",
    "ss_txn_nunique_obj = ss_txn[obj_cols].nunique().tolist()\n",
    "\n",
    "# store object columns with cardinality of 2-10\n",
    "obj_low_card = ss_txn[obj_cols].columns[\n",
    "    np.where(\n",
    "        (np.array(ss_txn_nunique_obj) >= 2) & \n",
    "        (np.array(ss_txn_nunique_obj) <= 10)\n",
    "    )[0]]"
   ]
  },
  {
   "cell_type": "markdown",
   "metadata": {},
   "source": [
    "Plot categorical columns."
   ]
  },
  {
   "cell_type": "code",
   "execution_count": 13,
   "metadata": {},
   "outputs": [
    {
     "data": {
      "image/png": "[encoded data removed]",
      "text/plain": [
       "<Figure size 1152x576 with 4 Axes>"
      ]
     },
     "metadata": {
      "needs_background": "light"
     },
     "output_type": "display_data"
    }
   ],
   "source": [
    "dist_plots(ss_txn, obj_low_card, plot_type = 'countplot', n_cols=2)"
   ]
  },
  {
   "cell_type": "code",
   "execution_count": 14,
   "metadata": {},
   "outputs": [],
   "source": [
    "# store numeric columns; excluding row_id, postal_code\n",
    "num_cols = ss_txn.select_dtypes(['float', 'int']).columns.tolist()\n",
    "num_cols = list(set(num_cols) ^ set(['row_id', 'postal_code']))"
   ]
  },
  {
   "cell_type": "code",
   "execution_count": 15,
   "metadata": {},
   "outputs": [
    {
     "data": {
      "image/png": "[encoded data removed]",
      "text/plain": [
       "<Figure size 1152x576 with 4 Axes>"
      ]
     },
     "metadata": {
      "needs_background": "light"
     },
     "output_type": "display_data"
    }
   ],
   "source": [
    "dist_plots(ss_txn, num_cols, plot_type = 'distplot', n_cols=2)"
   ]
  },
  {
   "cell_type": "markdown",
   "metadata": {},
   "source": [
    "Let's check whether the sales amount includes the discount or whether the discount still needs to be taken off.\n",
    "\n",
    "It appears that `sales` **already** includes the discount % off, meaning `discount` is a convenience feature (it could be derived)."
   ]
  },
  {
   "cell_type": "code",
   "execution_count": 16,
   "metadata": {},
   "outputs": [
    {
     "data": {
      "text/html": [
       "<div>\n",
       "<style scoped>\n",
       "    .dataframe tbody tr th:only-of-type {\n",
       "        vertical-align: middle;\n",
       "    }\n",
       "\n",
       "    .dataframe tbody tr th {\n",
       "        vertical-align: top;\n",
       "    }\n",
       "\n",
       "    .dataframe thead th {\n",
       "        text-align: right;\n",
       "    }\n",
       "</style>\n",
       "<table border=\"1\" class=\"dataframe\">\n",
       "  <thead>\n",
       "    <tr style=\"text-align: right;\">\n",
       "      <th></th>\n",
       "      <th></th>\n",
       "      <th>product_price</th>\n",
       "    </tr>\n",
       "    <tr>\n",
       "      <th>product_id</th>\n",
       "      <th>discount</th>\n",
       "      <th></th>\n",
       "    </tr>\n",
       "  </thead>\n",
       "  <tbody>\n",
       "    <tr>\n",
       "      <th>FUR-BO-10000112</th>\n",
       "      <th>0.30</th>\n",
       "      <td>91.686</td>\n",
       "    </tr>\n",
       "    <tr>\n",
       "      <th rowspan=\"2\" valign=\"top\">FUR-BO-10000330</th>\n",
       "      <th>0.00</th>\n",
       "      <td>120.980</td>\n",
       "    </tr>\n",
       "    <tr>\n",
       "      <th>0.15</th>\n",
       "      <td>102.833</td>\n",
       "    </tr>\n",
       "    <tr>\n",
       "      <th rowspan=\"2\" valign=\"top\">FUR-BO-10000362</th>\n",
       "      <th>0.00</th>\n",
       "      <td>170.980</td>\n",
       "    </tr>\n",
       "    <tr>\n",
       "      <th>0.15</th>\n",
       "      <td>145.333</td>\n",
       "    </tr>\n",
       "    <tr>\n",
       "      <th>...</th>\n",
       "      <th>...</th>\n",
       "      <td>...</td>\n",
       "    </tr>\n",
       "    <tr>\n",
       "      <th rowspan=\"2\" valign=\"top\">TEC-PH-10004959</th>\n",
       "      <th>0.00</th>\n",
       "      <td>100.490</td>\n",
       "    </tr>\n",
       "    <tr>\n",
       "      <th>0.20</th>\n",
       "      <td>80.392</td>\n",
       "    </tr>\n",
       "    <tr>\n",
       "      <th rowspan=\"3\" valign=\"top\">TEC-PH-10004977</th>\n",
       "      <th>0.00</th>\n",
       "      <td>195.990</td>\n",
       "    </tr>\n",
       "    <tr>\n",
       "      <th>0.20</th>\n",
       "      <td>156.792</td>\n",
       "    </tr>\n",
       "    <tr>\n",
       "      <th>0.40</th>\n",
       "      <td>117.594</td>\n",
       "    </tr>\n",
       "  </tbody>\n",
       "</table>\n",
       "<p>4119 rows × 1 columns</p>\n",
       "</div>"
      ],
      "text/plain": [
       "                          product_price\n",
       "product_id      discount               \n",
       "FUR-BO-10000112 0.30             91.686\n",
       "FUR-BO-10000330 0.00            120.980\n",
       "                0.15            102.833\n",
       "FUR-BO-10000362 0.00            170.980\n",
       "                0.15            145.333\n",
       "...                                 ...\n",
       "TEC-PH-10004959 0.00            100.490\n",
       "                0.20             80.392\n",
       "TEC-PH-10004977 0.00            195.990\n",
       "                0.20            156.792\n",
       "                0.40            117.594\n",
       "\n",
       "[4119 rows x 1 columns]"
      ]
     },
     "execution_count": 16,
     "metadata": {},
     "output_type": "execute_result"
    }
   ],
   "source": [
    "ss_txn['product_price'] = ss_txn['sales'] / ss_txn['quantity']\n",
    "group_cols = ['product_id', 'discount']\n",
    "agg_cols = ['product_price']\n",
    "ss_txn[group_cols + agg_cols].groupby(group_cols).mean()"
   ]
  },
  {
   "cell_type": "markdown",
   "metadata": {},
   "source": [
    "Next, take the log of `product_price` and `sales` and take another look at those distributions."
   ]
  },
  {
   "cell_type": "code",
   "execution_count": null,
   "metadata": {},
   "outputs": [],
   "source": []
  },
  {
   "cell_type": "code",
   "execution_count": null,
   "metadata": {},
   "outputs": [],
   "source": []
  },
  {
   "cell_type": "code",
   "execution_count": null,
   "metadata": {},
   "outputs": [],
   "source": []
  },
  {
   "cell_type": "markdown",
   "metadata": {},
   "source": [
    "### Calculate RFM"
   ]
  },
  {
   "cell_type": "code",
   "execution_count": 17,
   "metadata": {},
   "outputs": [],
   "source": [
    "# group by customer id and order date\n",
    "# aggregate $ sales, # of total products, # of distinct products, # of distinct orders\n",
    "ss_txn_agg = ss_txn.groupby(['customer_id', 'order_date']).agg({\n",
    "    'sales': 'sum',\n",
    "    'quantity': 'sum', \n",
    "    'product_id': 'nunique',\n",
    "    'order_id': 'nunique'\n",
    "    })\n",
    "ss_txn_agg = ss_txn_agg.reset_index()"
   ]
  },
  {
   "cell_type": "markdown",
   "metadata": {},
   "source": [
    "#### examine new structure.  we've aggregated to about half the rows"
   ]
  },
  {
   "cell_type": "code",
   "execution_count": 18,
   "metadata": {
    "scrolled": true
   },
   "outputs": [
    {
     "data": {
      "text/html": [
       "<div>\n",
       "<style scoped>\n",
       "    .dataframe tbody tr th:only-of-type {\n",
       "        vertical-align: middle;\n",
       "    }\n",
       "\n",
       "    .dataframe tbody tr th {\n",
       "        vertical-align: top;\n",
       "    }\n",
       "\n",
       "    .dataframe thead th {\n",
       "        text-align: right;\n",
       "    }\n",
       "</style>\n",
       "<table border=\"1\" class=\"dataframe\">\n",
       "  <thead>\n",
       "    <tr style=\"text-align: right;\">\n",
       "      <th></th>\n",
       "      <th>customer_id</th>\n",
       "      <th>order_date</th>\n",
       "      <th>sales</th>\n",
       "      <th>quantity</th>\n",
       "      <th>product_id</th>\n",
       "      <th>order_id</th>\n",
       "    </tr>\n",
       "  </thead>\n",
       "  <tbody>\n",
       "    <tr>\n",
       "      <th>0</th>\n",
       "      <td>AA-10315</td>\n",
       "      <td>2014-03-31</td>\n",
       "      <td>726.548</td>\n",
       "      <td>4</td>\n",
       "      <td>2</td>\n",
       "      <td>1</td>\n",
       "    </tr>\n",
       "    <tr>\n",
       "      <th>1</th>\n",
       "      <td>AA-10315</td>\n",
       "      <td>2014-09-15</td>\n",
       "      <td>29.500</td>\n",
       "      <td>5</td>\n",
       "      <td>2</td>\n",
       "      <td>1</td>\n",
       "    </tr>\n",
       "    <tr>\n",
       "      <th>2</th>\n",
       "      <td>AA-10315</td>\n",
       "      <td>2015-10-04</td>\n",
       "      <td>26.960</td>\n",
       "      <td>2</td>\n",
       "      <td>1</td>\n",
       "      <td>1</td>\n",
       "    </tr>\n",
       "    <tr>\n",
       "      <th>3</th>\n",
       "      <td>AA-10315</td>\n",
       "      <td>2016-03-03</td>\n",
       "      <td>4406.072</td>\n",
       "      <td>14</td>\n",
       "      <td>4</td>\n",
       "      <td>1</td>\n",
       "    </tr>\n",
       "    <tr>\n",
       "      <th>4</th>\n",
       "      <td>AA-10315</td>\n",
       "      <td>2017-06-29</td>\n",
       "      <td>374.480</td>\n",
       "      <td>5</td>\n",
       "      <td>2</td>\n",
       "      <td>1</td>\n",
       "    </tr>\n",
       "  </tbody>\n",
       "</table>\n",
       "</div>"
      ],
      "text/plain": [
       "  customer_id order_date     sales  quantity  product_id  order_id\n",
       "0    AA-10315 2014-03-31   726.548         4           2         1\n",
       "1    AA-10315 2014-09-15    29.500         5           2         1\n",
       "2    AA-10315 2015-10-04    26.960         2           1         1\n",
       "3    AA-10315 2016-03-03  4406.072        14           4         1\n",
       "4    AA-10315 2017-06-29   374.480         5           2         1"
      ]
     },
     "execution_count": 18,
     "metadata": {},
     "output_type": "execute_result"
    }
   ],
   "source": [
    "ss_txn_agg.head() # preview the data"
   ]
  },
  {
   "cell_type": "code",
   "execution_count": 19,
   "metadata": {},
   "outputs": [
    {
     "name": "stdout",
     "output_type": "stream",
     "text": [
      "<class 'pandas.core.frame.DataFrame'>\n",
      "RangeIndex: 4992 entries, 0 to 4991\n",
      "Data columns (total 6 columns):\n",
      " #   Column       Non-Null Count  Dtype         \n",
      "---  ------       --------------  -----         \n",
      " 0   customer_id  4992 non-null   object        \n",
      " 1   order_date   4992 non-null   datetime64[ns]\n",
      " 2   sales        4992 non-null   float64       \n",
      " 3   quantity     4992 non-null   int64         \n",
      " 4   product_id   4992 non-null   int64         \n",
      " 5   order_id     4992 non-null   int64         \n",
      "dtypes: datetime64[ns](1), float64(1), int64(3), object(1)\n",
      "memory usage: 234.1+ KB\n"
     ]
    }
   ],
   "source": [
    "ss_txn_agg.info() # data structure"
   ]
  },
  {
   "cell_type": "code",
   "execution_count": 20,
   "metadata": {},
   "outputs": [
    {
     "data": {
      "text/html": [
       "<div>\n",
       "<style scoped>\n",
       "    .dataframe tbody tr th:only-of-type {\n",
       "        vertical-align: middle;\n",
       "    }\n",
       "\n",
       "    .dataframe tbody tr th {\n",
       "        vertical-align: top;\n",
       "    }\n",
       "\n",
       "    .dataframe thead th {\n",
       "        text-align: right;\n",
       "    }\n",
       "</style>\n",
       "<table border=\"1\" class=\"dataframe\">\n",
       "  <thead>\n",
       "    <tr style=\"text-align: right;\">\n",
       "      <th></th>\n",
       "      <th>customer_id</th>\n",
       "      <th>order_date</th>\n",
       "      <th>sales</th>\n",
       "      <th>quantity</th>\n",
       "      <th>product_id</th>\n",
       "      <th>order_id</th>\n",
       "    </tr>\n",
       "  </thead>\n",
       "  <tbody>\n",
       "    <tr>\n",
       "      <th>869</th>\n",
       "      <td>CG-12520</td>\n",
       "      <td>2015-10-15</td>\n",
       "      <td>136.72</td>\n",
       "      <td>7</td>\n",
       "      <td>2</td>\n",
       "      <td>1</td>\n",
       "    </tr>\n",
       "    <tr>\n",
       "      <th>870</th>\n",
       "      <td>CG-12520</td>\n",
       "      <td>2016-11-08</td>\n",
       "      <td>993.90</td>\n",
       "      <td>5</td>\n",
       "      <td>2</td>\n",
       "      <td>1</td>\n",
       "    </tr>\n",
       "    <tr>\n",
       "      <th>871</th>\n",
       "      <td>CG-12520</td>\n",
       "      <td>2017-01-26</td>\n",
       "      <td>18.16</td>\n",
       "      <td>2</td>\n",
       "      <td>1</td>\n",
       "      <td>1</td>\n",
       "    </tr>\n",
       "  </tbody>\n",
       "</table>\n",
       "</div>"
      ],
      "text/plain": [
       "    customer_id order_date   sales  quantity  product_id  order_id\n",
       "869    CG-12520 2015-10-15  136.72         7           2         1\n",
       "870    CG-12520 2016-11-08  993.90         5           2         1\n",
       "871    CG-12520 2017-01-26   18.16         2           1         1"
      ]
     },
     "execution_count": 20,
     "metadata": {},
     "output_type": "execute_result"
    }
   ],
   "source": [
    "# examine records associated with an arbitrary customer\n",
    "ss_txn_agg[ss_txn_agg['customer_id']=='CG-12520']"
   ]
  },
  {
   "cell_type": "markdown",
   "metadata": {},
   "source": [
    "#### calculate rolling sums on aggregated data"
   ]
  },
  {
   "cell_type": "code",
   "execution_count": 21,
   "metadata": {},
   "outputs": [],
   "source": [
    "# take rolling sums at each check point, examining past 90 days\n",
    "roll_sum_sales = ss_txn_agg.groupby('customer_id').rolling(window = '90D', on = 'order_date')['sales'].sum()\n",
    "roll_cnt_products = ss_txn_agg.groupby('customer_id').rolling(window = '90D', on = 'order_date')['quantity'].sum()\n",
    "roll_cnt_products_distinct = ss_txn_agg.groupby('customer_id').rolling(window = '90D', on = 'order_date')['product_id'].sum()"
   ]
  },
  {
   "cell_type": "code",
   "execution_count": 22,
   "metadata": {},
   "outputs": [],
   "source": [
    "# compute recency metric (days since customers last txn)\n",
    "roll_last_order = ss_txn_agg.groupby('customer_id')['order_date'].diff(periods = 1).dt.days\n",
    "\n",
    "# calculate max observed recency, for imputation\n",
    "last_order_imputation = (ss_txn_agg['order_date'].max() - ss_txn_agg['order_date'].min()).days"
   ]
  },
  {
   "cell_type": "code",
   "execution_count": 23,
   "metadata": {},
   "outputs": [],
   "source": [
    "# combine rolling sum and recency metrics\n",
    "ss_txn_roll = pd.concat([roll_sum_sales, roll_cnt_products, roll_cnt_products_distinct], axis = 1)\n",
    "ss_txn_roll.columns = ['dollar_roll_sum_90d', 'product_roll_sum_90d', 'distinct_product_roll_sum_90d']\n",
    "ss_txn_roll = ss_txn_roll.reset_index()\n",
    "\n",
    "# if first visit, fill w max date range\n",
    "ss_txn_roll['last_visit_ndays'] = roll_last_order.fillna(last_order_imputation) "
   ]
  },
  {
   "cell_type": "code",
   "execution_count": 24,
   "metadata": {},
   "outputs": [
    {
     "data": {
      "text/html": [
       "<div>\n",
       "<style scoped>\n",
       "    .dataframe tbody tr th:only-of-type {\n",
       "        vertical-align: middle;\n",
       "    }\n",
       "\n",
       "    .dataframe tbody tr th {\n",
       "        vertical-align: top;\n",
       "    }\n",
       "\n",
       "    .dataframe thead th {\n",
       "        text-align: right;\n",
       "    }\n",
       "</style>\n",
       "<table border=\"1\" class=\"dataframe\">\n",
       "  <thead>\n",
       "    <tr style=\"text-align: right;\">\n",
       "      <th></th>\n",
       "      <th>customer_id</th>\n",
       "      <th>order_date</th>\n",
       "      <th>sales</th>\n",
       "      <th>quantity</th>\n",
       "      <th>product_id</th>\n",
       "      <th>order_id</th>\n",
       "      <th>dollar_roll_sum_90d</th>\n",
       "      <th>product_roll_sum_90d</th>\n",
       "      <th>distinct_product_roll_sum_90d</th>\n",
       "      <th>last_visit_ndays</th>\n",
       "    </tr>\n",
       "  </thead>\n",
       "  <tbody>\n",
       "    <tr>\n",
       "      <th>0</th>\n",
       "      <td>AA-10315</td>\n",
       "      <td>2014-03-31</td>\n",
       "      <td>726.548</td>\n",
       "      <td>4</td>\n",
       "      <td>2</td>\n",
       "      <td>1</td>\n",
       "      <td>726.548</td>\n",
       "      <td>4.0</td>\n",
       "      <td>2.0</td>\n",
       "      <td>1457.0</td>\n",
       "    </tr>\n",
       "    <tr>\n",
       "      <th>1</th>\n",
       "      <td>AA-10315</td>\n",
       "      <td>2014-09-15</td>\n",
       "      <td>29.500</td>\n",
       "      <td>5</td>\n",
       "      <td>2</td>\n",
       "      <td>1</td>\n",
       "      <td>29.500</td>\n",
       "      <td>5.0</td>\n",
       "      <td>2.0</td>\n",
       "      <td>168.0</td>\n",
       "    </tr>\n",
       "    <tr>\n",
       "      <th>2</th>\n",
       "      <td>AA-10315</td>\n",
       "      <td>2015-10-04</td>\n",
       "      <td>26.960</td>\n",
       "      <td>2</td>\n",
       "      <td>1</td>\n",
       "      <td>1</td>\n",
       "      <td>26.960</td>\n",
       "      <td>2.0</td>\n",
       "      <td>1.0</td>\n",
       "      <td>384.0</td>\n",
       "    </tr>\n",
       "    <tr>\n",
       "      <th>3</th>\n",
       "      <td>AA-10315</td>\n",
       "      <td>2016-03-03</td>\n",
       "      <td>4406.072</td>\n",
       "      <td>14</td>\n",
       "      <td>4</td>\n",
       "      <td>1</td>\n",
       "      <td>4406.072</td>\n",
       "      <td>14.0</td>\n",
       "      <td>4.0</td>\n",
       "      <td>151.0</td>\n",
       "    </tr>\n",
       "    <tr>\n",
       "      <th>4</th>\n",
       "      <td>AA-10315</td>\n",
       "      <td>2017-06-29</td>\n",
       "      <td>374.480</td>\n",
       "      <td>5</td>\n",
       "      <td>2</td>\n",
       "      <td>1</td>\n",
       "      <td>374.480</td>\n",
       "      <td>5.0</td>\n",
       "      <td>2.0</td>\n",
       "      <td>483.0</td>\n",
       "    </tr>\n",
       "  </tbody>\n",
       "</table>\n",
       "</div>"
      ],
      "text/plain": [
       "  customer_id order_date     sales  quantity  product_id  order_id  \\\n",
       "0    AA-10315 2014-03-31   726.548         4           2         1   \n",
       "1    AA-10315 2014-09-15    29.500         5           2         1   \n",
       "2    AA-10315 2015-10-04    26.960         2           1         1   \n",
       "3    AA-10315 2016-03-03  4406.072        14           4         1   \n",
       "4    AA-10315 2017-06-29   374.480         5           2         1   \n",
       "\n",
       "   dollar_roll_sum_90d  product_roll_sum_90d  distinct_product_roll_sum_90d  \\\n",
       "0              726.548                   4.0                            2.0   \n",
       "1               29.500                   5.0                            2.0   \n",
       "2               26.960                   2.0                            1.0   \n",
       "3             4406.072                  14.0                            4.0   \n",
       "4              374.480                   5.0                            2.0   \n",
       "\n",
       "   last_visit_ndays  \n",
       "0            1457.0  \n",
       "1             168.0  \n",
       "2             384.0  \n",
       "3             151.0  \n",
       "4             483.0  "
      ]
     },
     "execution_count": 24,
     "metadata": {},
     "output_type": "execute_result"
    }
   ],
   "source": [
    "# inner merge agg & roll (on customer_id, order_date)\n",
    "ss_txn_rfm = ss_txn_agg.merge(\n",
    "    ss_txn_roll, \n",
    "    how = \"inner\", \n",
    "    on = ['customer_id', 'order_date'], \n",
    "    validate = 'one_to_one'\n",
    "    )\n",
    "\n",
    "# preview rfm data\n",
    "ss_txn_rfm.head()"
   ]
  },
  {
   "cell_type": "code",
   "execution_count": 25,
   "metadata": {},
   "outputs": [
    {
     "name": "stdout",
     "output_type": "stream",
     "text": [
      "<class 'pandas.core.frame.DataFrame'>\n",
      "Int64Index: 4992 entries, 0 to 4991\n",
      "Data columns (total 10 columns):\n",
      " #   Column                         Non-Null Count  Dtype         \n",
      "---  ------                         --------------  -----         \n",
      " 0   customer_id                    4992 non-null   object        \n",
      " 1   order_date                     4992 non-null   datetime64[ns]\n",
      " 2   sales                          4992 non-null   float64       \n",
      " 3   quantity                       4992 non-null   int64         \n",
      " 4   product_id                     4992 non-null   int64         \n",
      " 5   order_id                       4992 non-null   int64         \n",
      " 6   dollar_roll_sum_90d            4992 non-null   float64       \n",
      " 7   product_roll_sum_90d           4992 non-null   float64       \n",
      " 8   distinct_product_roll_sum_90d  4992 non-null   float64       \n",
      " 9   last_visit_ndays               4992 non-null   float64       \n",
      "dtypes: datetime64[ns](1), float64(5), int64(3), object(1)\n",
      "memory usage: 429.0+ KB\n"
     ]
    }
   ],
   "source": [
    "ss_txn_rfm.info() # data structure of rfm"
   ]
  },
  {
   "cell_type": "markdown",
   "metadata": {},
   "source": [
    "## Segment using kmeans"
   ]
  },
  {
   "cell_type": "markdown",
   "metadata": {},
   "source": [
    "#### Make a copy of the dataset to handle numeric outliers/normalization for KMeans"
   ]
  },
  {
   "cell_type": "code",
   "execution_count": 26,
   "metadata": {},
   "outputs": [],
   "source": [
    "# make a copy of the dataset (no pointer)\n",
    "ss_txn_rfm_scaled = ss_txn_rfm.copy()"
   ]
  },
  {
   "cell_type": "markdown",
   "metadata": {},
   "source": [
    "#### Normalize the data\n",
    "\n",
    "- This is important for kmeans as it is a distance-based algorithm\n",
    "- select relevant numeric columns and z-scale them for use in kmeans\n",
    "- if data are not scaled, then distances will not be appropriately weighted"
   ]
  },
  {
   "cell_type": "code",
   "execution_count": 27,
   "metadata": {},
   "outputs": [],
   "source": [
    "# normalize the data\n",
    "scale_cols = ss_txn_rfm_scaled.columns.difference(['customer_id', 'order_date'], sort = False)\n",
    "ss_txn_rfm_scaled[scale_cols] = StandardScaler().fit_transform(ss_txn_rfm_scaled[scale_cols]) "
   ]
  },
  {
   "cell_type": "markdown",
   "metadata": {},
   "source": [
    "#### initialize & fit kmeans"
   ]
  },
  {
   "cell_type": "code",
   "execution_count": 28,
   "metadata": {},
   "outputs": [
    {
     "data": {
      "text/plain": [
       "KMeans(n_clusters=2, random_state=0)"
      ]
     },
     "execution_count": 28,
     "metadata": {},
     "output_type": "execute_result"
    }
   ],
   "source": [
    "n_clusters = 2 # set number of clusters\n",
    "\n",
    "X = ss_txn_rfm_scaled[scale_cols]\n",
    "kmeans = KMeans(n_clusters = n_clusters, random_state = 0) # initialize kmeans\n",
    "kmeans.fit(X) # train the model"
   ]
  },
  {
   "cell_type": "code",
   "execution_count": 29,
   "metadata": {},
   "outputs": [],
   "source": [
    "# assign cluster to each row of the original RFM data\n",
    "ss_txn_rfm['cluster'] = kmeans.predict(X) "
   ]
  },
  {
   "cell_type": "code",
   "execution_count": 30,
   "metadata": {},
   "outputs": [
    {
     "data": {
      "text/html": [
       "<div>\n",
       "<style scoped>\n",
       "    .dataframe tbody tr th:only-of-type {\n",
       "        vertical-align: middle;\n",
       "    }\n",
       "\n",
       "    .dataframe tbody tr th {\n",
       "        vertical-align: top;\n",
       "    }\n",
       "\n",
       "    .dataframe thead th {\n",
       "        text-align: right;\n",
       "    }\n",
       "</style>\n",
       "<table border=\"1\" class=\"dataframe\">\n",
       "  <thead>\n",
       "    <tr style=\"text-align: right;\">\n",
       "      <th></th>\n",
       "      <th>customer_id</th>\n",
       "      <th>order_date</th>\n",
       "      <th>sales</th>\n",
       "      <th>quantity</th>\n",
       "      <th>product_id</th>\n",
       "      <th>order_id</th>\n",
       "      <th>dollar_roll_sum_90d</th>\n",
       "      <th>product_roll_sum_90d</th>\n",
       "      <th>distinct_product_roll_sum_90d</th>\n",
       "      <th>last_visit_ndays</th>\n",
       "      <th>cluster</th>\n",
       "    </tr>\n",
       "  </thead>\n",
       "  <tbody>\n",
       "    <tr>\n",
       "      <th>0</th>\n",
       "      <td>AA-10315</td>\n",
       "      <td>2014-03-31</td>\n",
       "      <td>726.548</td>\n",
       "      <td>4</td>\n",
       "      <td>2</td>\n",
       "      <td>1</td>\n",
       "      <td>726.548</td>\n",
       "      <td>4.0</td>\n",
       "      <td>2.0</td>\n",
       "      <td>1457.0</td>\n",
       "      <td>0</td>\n",
       "    </tr>\n",
       "    <tr>\n",
       "      <th>1</th>\n",
       "      <td>AA-10315</td>\n",
       "      <td>2014-09-15</td>\n",
       "      <td>29.500</td>\n",
       "      <td>5</td>\n",
       "      <td>2</td>\n",
       "      <td>1</td>\n",
       "      <td>29.500</td>\n",
       "      <td>5.0</td>\n",
       "      <td>2.0</td>\n",
       "      <td>168.0</td>\n",
       "      <td>0</td>\n",
       "    </tr>\n",
       "    <tr>\n",
       "      <th>2</th>\n",
       "      <td>AA-10315</td>\n",
       "      <td>2015-10-04</td>\n",
       "      <td>26.960</td>\n",
       "      <td>2</td>\n",
       "      <td>1</td>\n",
       "      <td>1</td>\n",
       "      <td>26.960</td>\n",
       "      <td>2.0</td>\n",
       "      <td>1.0</td>\n",
       "      <td>384.0</td>\n",
       "      <td>0</td>\n",
       "    </tr>\n",
       "    <tr>\n",
       "      <th>3</th>\n",
       "      <td>AA-10315</td>\n",
       "      <td>2016-03-03</td>\n",
       "      <td>4406.072</td>\n",
       "      <td>14</td>\n",
       "      <td>4</td>\n",
       "      <td>1</td>\n",
       "      <td>4406.072</td>\n",
       "      <td>14.0</td>\n",
       "      <td>4.0</td>\n",
       "      <td>151.0</td>\n",
       "      <td>1</td>\n",
       "    </tr>\n",
       "    <tr>\n",
       "      <th>4</th>\n",
       "      <td>AA-10315</td>\n",
       "      <td>2017-06-29</td>\n",
       "      <td>374.480</td>\n",
       "      <td>5</td>\n",
       "      <td>2</td>\n",
       "      <td>1</td>\n",
       "      <td>374.480</td>\n",
       "      <td>5.0</td>\n",
       "      <td>2.0</td>\n",
       "      <td>483.0</td>\n",
       "      <td>0</td>\n",
       "    </tr>\n",
       "  </tbody>\n",
       "</table>\n",
       "</div>"
      ],
      "text/plain": [
       "  customer_id order_date     sales  quantity  product_id  order_id  \\\n",
       "0    AA-10315 2014-03-31   726.548         4           2         1   \n",
       "1    AA-10315 2014-09-15    29.500         5           2         1   \n",
       "2    AA-10315 2015-10-04    26.960         2           1         1   \n",
       "3    AA-10315 2016-03-03  4406.072        14           4         1   \n",
       "4    AA-10315 2017-06-29   374.480         5           2         1   \n",
       "\n",
       "   dollar_roll_sum_90d  product_roll_sum_90d  distinct_product_roll_sum_90d  \\\n",
       "0              726.548                   4.0                            2.0   \n",
       "1               29.500                   5.0                            2.0   \n",
       "2               26.960                   2.0                            1.0   \n",
       "3             4406.072                  14.0                            4.0   \n",
       "4              374.480                   5.0                            2.0   \n",
       "\n",
       "   last_visit_ndays  cluster  \n",
       "0            1457.0        0  \n",
       "1             168.0        0  \n",
       "2             384.0        0  \n",
       "3             151.0        1  \n",
       "4             483.0        0  "
      ]
     },
     "execution_count": 30,
     "metadata": {},
     "output_type": "execute_result"
    }
   ],
   "source": [
    "ss_txn_rfm.head() # preview the data"
   ]
  },
  {
   "cell_type": "markdown",
   "metadata": {},
   "source": [
    "### Examine and describe cluster centers\n",
    "\n",
    "- **cluster**: <ins>*Large, Frequent Transaction Days*</ins>\n",
    "  - The smaller cluster (23% of observations).  Defining characteristc: Larger, more frequent transaction days\n",
    "  - Transactions consist of more products and items\n",
    "    - However, the item::product ratio is similar to the other cluster, indicating that larger transaction size is primiarily driven by the # of distinct products purchased (not a higher # of each product)\n",
    "  - Transactions are more frequent, although not overwhelmingly so.\n",
    "  - Larger rolling window spend, but mostly (not entirely) driven by the transaction itself.\n",
    "- **cluster**: <ins>*Small, Infrequent Transactoin Days*</ins>\n",
    "  - The larger cluster (77% of observations).  Defining characteristic: Smaller, less frequent transaction days\n",
    "  - As opposed to the other cluster, these transactions tend to be smaller (due to fewer products purchased), and a bit less frequent."
   ]
  },
  {
   "cell_type": "code",
   "execution_count": 31,
   "metadata": {},
   "outputs": [
    {
     "data": {
      "text/html": [
       "<div>\n",
       "<style scoped>\n",
       "    .dataframe tbody tr th:only-of-type {\n",
       "        vertical-align: middle;\n",
       "    }\n",
       "\n",
       "    .dataframe tbody tr th {\n",
       "        vertical-align: top;\n",
       "    }\n",
       "\n",
       "    .dataframe thead th {\n",
       "        text-align: right;\n",
       "    }\n",
       "</style>\n",
       "<table border=\"1\" class=\"dataframe\">\n",
       "  <thead>\n",
       "    <tr style=\"text-align: right;\">\n",
       "      <th></th>\n",
       "      <th>sales</th>\n",
       "      <th>quantity</th>\n",
       "      <th>product_id</th>\n",
       "      <th>order_id</th>\n",
       "      <th>dollar_roll_sum_90d</th>\n",
       "      <th>product_roll_sum_90d</th>\n",
       "      <th>distinct_product_roll_sum_90d</th>\n",
       "      <th>last_visit_ndays</th>\n",
       "    </tr>\n",
       "  </thead>\n",
       "  <tbody>\n",
       "    <tr>\n",
       "      <th>0</th>\n",
       "      <td>-0.226494</td>\n",
       "      <td>-0.373551</td>\n",
       "      <td>-0.376214</td>\n",
       "      <td>-0.022648</td>\n",
       "      <td>-0.260411</td>\n",
       "      <td>-0.402840</td>\n",
       "      <td>-0.393806</td>\n",
       "      <td>0.046687</td>\n",
       "    </tr>\n",
       "    <tr>\n",
       "      <th>1</th>\n",
       "      <td>0.750739</td>\n",
       "      <td>1.238176</td>\n",
       "      <td>1.247001</td>\n",
       "      <td>0.075069</td>\n",
       "      <td>0.863160</td>\n",
       "      <td>1.335256</td>\n",
       "      <td>1.305312</td>\n",
       "      <td>-0.154748</td>\n",
       "    </tr>\n",
       "  </tbody>\n",
       "</table>\n",
       "</div>"
      ],
      "text/plain": [
       "      sales  quantity  product_id  order_id  dollar_roll_sum_90d  \\\n",
       "0 -0.226494 -0.373551   -0.376214 -0.022648            -0.260411   \n",
       "1  0.750739  1.238176    1.247001  0.075069             0.863160   \n",
       "\n",
       "   product_roll_sum_90d  distinct_product_roll_sum_90d  last_visit_ndays  \n",
       "0             -0.402840                      -0.393806          0.046687  \n",
       "1              1.335256                       1.305312         -0.154748  "
      ]
     },
     "execution_count": 31,
     "metadata": {},
     "output_type": "execute_result"
    }
   ],
   "source": [
    "# examine cluster centers\n",
    "pd.DataFrame(kmeans.cluster_centers_, columns=scale_cols)"
   ]
  },
  {
   "cell_type": "code",
   "execution_count": 32,
   "metadata": {},
   "outputs": [
    {
     "data": {
      "text/plain": [
       "0    0.77\n",
       "1    0.23\n",
       "Name: cluster, dtype: float64"
      ]
     },
     "execution_count": 32,
     "metadata": {},
     "output_type": "execute_result"
    }
   ],
   "source": [
    "# relative size of each cluster\n",
    "round(ss_txn_rfm['cluster'].value_counts(normalize = True).sort_index(),2)"
   ]
  },
  {
   "cell_type": "code",
   "execution_count": 33,
   "metadata": {},
   "outputs": [
    {
     "data": {
      "text/html": [
       "<div>\n",
       "<style scoped>\n",
       "    .dataframe tbody tr th:only-of-type {\n",
       "        vertical-align: middle;\n",
       "    }\n",
       "\n",
       "    .dataframe tbody tr th {\n",
       "        vertical-align: top;\n",
       "    }\n",
       "\n",
       "    .dataframe thead th {\n",
       "        text-align: right;\n",
       "    }\n",
       "</style>\n",
       "<table border=\"1\" class=\"dataframe\">\n",
       "  <thead>\n",
       "    <tr style=\"text-align: right;\">\n",
       "      <th></th>\n",
       "      <th>sales</th>\n",
       "      <th>quantity</th>\n",
       "      <th>product_id</th>\n",
       "      <th>order_id</th>\n",
       "      <th>dollar_roll_sum_90d</th>\n",
       "      <th>product_roll_sum_90d</th>\n",
       "      <th>distinct_product_roll_sum_90d</th>\n",
       "      <th>last_visit_ndays</th>\n",
       "    </tr>\n",
       "    <tr>\n",
       "      <th>cluster</th>\n",
       "      <th></th>\n",
       "      <th></th>\n",
       "      <th></th>\n",
       "      <th></th>\n",
       "      <th></th>\n",
       "      <th></th>\n",
       "      <th></th>\n",
       "      <th></th>\n",
       "    </tr>\n",
       "  </thead>\n",
       "  <tbody>\n",
       "    <tr>\n",
       "      <th>0</th>\n",
       "      <td>243.171932</td>\n",
       "      <td>5.256524</td>\n",
       "      <td>1.467380</td>\n",
       "      <td>1.002088</td>\n",
       "      <td>334.811032</td>\n",
       "      <td>7.081681</td>\n",
       "      <td>1.966075</td>\n",
       "      <td>413.542797</td>\n",
       "    </tr>\n",
       "    <tr>\n",
       "      <th>1</th>\n",
       "      <td>1177.039670</td>\n",
       "      <td>15.284483</td>\n",
       "      <td>3.761207</td>\n",
       "      <td>1.007759</td>\n",
       "      <td>1642.979568</td>\n",
       "      <td>21.880172</td>\n",
       "      <td>5.461207</td>\n",
       "      <td>313.300000</td>\n",
       "    </tr>\n",
       "  </tbody>\n",
       "</table>\n",
       "</div>"
      ],
      "text/plain": [
       "               sales   quantity  product_id  order_id  dollar_roll_sum_90d  \\\n",
       "cluster                                                                      \n",
       "0         243.171932   5.256524    1.467380  1.002088           334.811032   \n",
       "1        1177.039670  15.284483    3.761207  1.007759          1642.979568   \n",
       "\n",
       "         product_roll_sum_90d  distinct_product_roll_sum_90d  last_visit_ndays  \n",
       "cluster                                                                         \n",
       "0                    7.081681                       1.966075        413.542797  \n",
       "1                   21.880172                       5.461207        313.300000  "
      ]
     },
     "metadata": {},
     "output_type": "display_data"
    }
   ],
   "source": [
    "# columns to examine means by cluster\n",
    "display(ss_txn_rfm.groupby(['cluster']).mean())"
   ]
  }
 ],
 "metadata": {
  "kernelspec": {
   "display_name": "Python 3",
   "language": "python",
   "name": "python3"
  },
  "language_info": {
   "codemirror_mode": {
    "name": "ipython",
    "version": 3
   },
   "file_extension": ".py",
   "mimetype": "text/x-python",
   "name": "python",
   "nbconvert_exporter": "python",
   "pygments_lexer": "ipython3",
   "version": "3.6.10"
  }
 },
 "nbformat": 4,
 "nbformat_minor": 4
}
