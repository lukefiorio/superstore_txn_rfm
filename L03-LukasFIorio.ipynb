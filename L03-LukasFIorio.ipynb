{
 "cells": [
  {
   "cell_type": "markdown",
   "metadata": {},
   "source": [
    "# RFM and Customer Segmentation\n",
    "\n",
    "### Author - Lukas Fiorio"
   ]
  },
  {
   "cell_type": "markdown",
   "metadata": {},
   "source": [
    "This project uses data from Tableau Public on Customer transactions to compute RFM (Recency, Frequency, Monetary Value) and then segment customer orders through kmeans clustering.\n",
    "The data can be found and downloaded here: \n",
    "- https://community.tableau.com/s/contentdocument/0694T000001GnpUQAS\n",
    "\n",
    "For this project, we download the data from a link made available through University of Washington.\n",
    "- https://library.startlearninglabs.uw.edu/DATASCI420/2019/Datasets/SuperstoreTransaction.csv\n",
    "\n",
    "#### Abstract\n",
    "\n",
    "Our data consists of \\~10,000 products bought in ~5,000 orders made by ~800 customers from 2014-2017.  Our goal is to engineer new features to inform customer segmentation for promotional targeting.\n",
    "\n",
    "Specifically, we aggregate product purchases to customer orders and compute RFM, then (kmeans) cluster those orders based on our new quantitative features measuring recency, frequency, and value."
   ]
  },
  {
   "cell_type": "code",
   "execution_count": 1,
   "metadata": {},
   "outputs": [],
   "source": [
    "# Import libraries\n",
    "import pandas as pd\n",
    "import numpy as np\n",
    "import matplotlib.pyplot as plt\n",
    "from matplotlib.ticker import FuncFormatter\n",
    "import seaborn as sns\n",
    "import math\n",
    "\n",
    "from sklearn.preprocessing import StandardScaler\n",
    "from sklearn.preprocessing import OneHotEncoder\n",
    "from sklearn.cluster import KMeans\n",
    "from IPython.display import display\n",
    "import textwrap\n",
    "\n",
    "import scipy.stats as ss\n",
    "import statsmodels.api as sm"
   ]
  },
  {
   "cell_type": "code",
   "execution_count": 2,
   "metadata": {},
   "outputs": [],
   "source": [
    "# set package options\n",
    "pd.set_option('display.max_columns', None) # show all columns\n",
    "plt.rc('patch', force_edgecolor = True) # set bar borders in bar plots"
   ]
  },
  {
   "cell_type": "markdown",
   "metadata": {},
   "source": [
    "## Read data\n",
    "\n",
    "Our first step is to load the transaction data for analysis. \n",
    "\n",
    "The data is originally sourced from Tableau Public [(available here)](https://community.tableau.com/s/contentdocument/0694T000001GnpUQAS), although in this project we source directly through University of Washington."
   ]
  },
  {
   "cell_type": "code",
   "execution_count": 3,
   "metadata": {},
   "outputs": [],
   "source": [
    "# Locate & load dataset\n",
    "file = \"https://library.startlearninglabs.uw.edu/DATASCI420/2019/Datasets/SuperstoreTransaction.csv\"\n",
    "ss_txn = pd.read_csv(file) # read file into df"
   ]
  },
  {
   "cell_type": "markdown",
   "metadata": {},
   "source": [
    "After loading, we next preview the data. We see about 10,000 transactions and 21 attributes.  From inspection, it appears that most of the attributes are not numeric."
   ]
  },
  {
   "cell_type": "code",
   "execution_count": 4,
   "metadata": {},
   "outputs": [
    {
     "name": "stdout",
     "output_type": "stream",
     "text": [
      "(9994, 21)\n"
     ]
    },
    {
     "data": {
      "text/html": [
       "<div>\n",
       "<style scoped>\n",
       "    .dataframe tbody tr th:only-of-type {\n",
       "        vertical-align: middle;\n",
       "    }\n",
       "\n",
       "    .dataframe tbody tr th {\n",
       "        vertical-align: top;\n",
       "    }\n",
       "\n",
       "    .dataframe thead th {\n",
       "        text-align: right;\n",
       "    }\n",
       "</style>\n",
       "<table border=\"1\" class=\"dataframe\">\n",
       "  <thead>\n",
       "    <tr style=\"text-align: right;\">\n",
       "      <th></th>\n",
       "      <th>Row ID</th>\n",
       "      <th>Order ID</th>\n",
       "      <th>Order Date</th>\n",
       "      <th>Ship Date</th>\n",
       "      <th>Ship Mode</th>\n",
       "      <th>Customer ID</th>\n",
       "      <th>Customer Name</th>\n",
       "      <th>Segment</th>\n",
       "      <th>Country</th>\n",
       "      <th>City</th>\n",
       "      <th>State</th>\n",
       "      <th>Postal Code</th>\n",
       "      <th>Region</th>\n",
       "      <th>Product ID</th>\n",
       "      <th>Category</th>\n",
       "      <th>Sub-Category</th>\n",
       "      <th>Product Name</th>\n",
       "      <th>Sales</th>\n",
       "      <th>Quantity</th>\n",
       "      <th>Discount</th>\n",
       "      <th>Profit</th>\n",
       "    </tr>\n",
       "  </thead>\n",
       "  <tbody>\n",
       "    <tr>\n",
       "      <th>0</th>\n",
       "      <td>1</td>\n",
       "      <td>CA-2016-152156</td>\n",
       "      <td>11/8/2016</td>\n",
       "      <td>11/11/2016</td>\n",
       "      <td>Second Class</td>\n",
       "      <td>CG-12520</td>\n",
       "      <td>Claire Gute</td>\n",
       "      <td>Consumer</td>\n",
       "      <td>United States</td>\n",
       "      <td>Henderson</td>\n",
       "      <td>Kentucky</td>\n",
       "      <td>42420</td>\n",
       "      <td>South</td>\n",
       "      <td>FUR-BO-10001798</td>\n",
       "      <td>Furniture</td>\n",
       "      <td>Bookcases</td>\n",
       "      <td>Bush Somerset Collection Bookcase</td>\n",
       "      <td>261.9600</td>\n",
       "      <td>2</td>\n",
       "      <td>0.00</td>\n",
       "      <td>41.9136</td>\n",
       "    </tr>\n",
       "    <tr>\n",
       "      <th>1</th>\n",
       "      <td>2</td>\n",
       "      <td>CA-2016-152156</td>\n",
       "      <td>11/8/2016</td>\n",
       "      <td>11/11/2016</td>\n",
       "      <td>Second Class</td>\n",
       "      <td>CG-12520</td>\n",
       "      <td>Claire Gute</td>\n",
       "      <td>Consumer</td>\n",
       "      <td>United States</td>\n",
       "      <td>Henderson</td>\n",
       "      <td>Kentucky</td>\n",
       "      <td>42420</td>\n",
       "      <td>South</td>\n",
       "      <td>FUR-CH-10000454</td>\n",
       "      <td>Furniture</td>\n",
       "      <td>Chairs</td>\n",
       "      <td>Hon Deluxe Fabric Upholstered Stacking Chairs,...</td>\n",
       "      <td>731.9400</td>\n",
       "      <td>3</td>\n",
       "      <td>0.00</td>\n",
       "      <td>219.5820</td>\n",
       "    </tr>\n",
       "    <tr>\n",
       "      <th>2</th>\n",
       "      <td>3</td>\n",
       "      <td>CA-2016-138688</td>\n",
       "      <td>6/12/2016</td>\n",
       "      <td>6/16/2016</td>\n",
       "      <td>Second Class</td>\n",
       "      <td>DV-13045</td>\n",
       "      <td>Darrin Van Huff</td>\n",
       "      <td>Corporate</td>\n",
       "      <td>United States</td>\n",
       "      <td>Los Angeles</td>\n",
       "      <td>California</td>\n",
       "      <td>90036</td>\n",
       "      <td>West</td>\n",
       "      <td>OFF-LA-10000240</td>\n",
       "      <td>Office Supplies</td>\n",
       "      <td>Labels</td>\n",
       "      <td>Self-Adhesive Address Labels for Typewriters b...</td>\n",
       "      <td>14.6200</td>\n",
       "      <td>2</td>\n",
       "      <td>0.00</td>\n",
       "      <td>6.8714</td>\n",
       "    </tr>\n",
       "    <tr>\n",
       "      <th>3</th>\n",
       "      <td>4</td>\n",
       "      <td>US-2015-108966</td>\n",
       "      <td>10/11/2015</td>\n",
       "      <td>10/18/2015</td>\n",
       "      <td>Standard Class</td>\n",
       "      <td>SO-20335</td>\n",
       "      <td>Sean O'Donnell</td>\n",
       "      <td>Consumer</td>\n",
       "      <td>United States</td>\n",
       "      <td>Fort Lauderdale</td>\n",
       "      <td>Florida</td>\n",
       "      <td>33311</td>\n",
       "      <td>South</td>\n",
       "      <td>FUR-TA-10000577</td>\n",
       "      <td>Furniture</td>\n",
       "      <td>Tables</td>\n",
       "      <td>Bretford CR4500 Series Slim Rectangular Table</td>\n",
       "      <td>957.5775</td>\n",
       "      <td>5</td>\n",
       "      <td>0.45</td>\n",
       "      <td>-383.0310</td>\n",
       "    </tr>\n",
       "    <tr>\n",
       "      <th>4</th>\n",
       "      <td>5</td>\n",
       "      <td>US-2015-108966</td>\n",
       "      <td>10/11/2015</td>\n",
       "      <td>10/18/2015</td>\n",
       "      <td>Standard Class</td>\n",
       "      <td>SO-20335</td>\n",
       "      <td>Sean O'Donnell</td>\n",
       "      <td>Consumer</td>\n",
       "      <td>United States</td>\n",
       "      <td>Fort Lauderdale</td>\n",
       "      <td>Florida</td>\n",
       "      <td>33311</td>\n",
       "      <td>South</td>\n",
       "      <td>OFF-ST-10000760</td>\n",
       "      <td>Office Supplies</td>\n",
       "      <td>Storage</td>\n",
       "      <td>Eldon Fold 'N Roll Cart System</td>\n",
       "      <td>22.3680</td>\n",
       "      <td>2</td>\n",
       "      <td>0.20</td>\n",
       "      <td>2.5164</td>\n",
       "    </tr>\n",
       "  </tbody>\n",
       "</table>\n",
       "</div>"
      ],
      "text/plain": [
       "   Row ID        Order ID  Order Date   Ship Date       Ship Mode Customer ID  \\\n",
       "0       1  CA-2016-152156   11/8/2016  11/11/2016    Second Class    CG-12520   \n",
       "1       2  CA-2016-152156   11/8/2016  11/11/2016    Second Class    CG-12520   \n",
       "2       3  CA-2016-138688   6/12/2016   6/16/2016    Second Class    DV-13045   \n",
       "3       4  US-2015-108966  10/11/2015  10/18/2015  Standard Class    SO-20335   \n",
       "4       5  US-2015-108966  10/11/2015  10/18/2015  Standard Class    SO-20335   \n",
       "\n",
       "     Customer Name    Segment        Country             City       State  \\\n",
       "0      Claire Gute   Consumer  United States        Henderson    Kentucky   \n",
       "1      Claire Gute   Consumer  United States        Henderson    Kentucky   \n",
       "2  Darrin Van Huff  Corporate  United States      Los Angeles  California   \n",
       "3   Sean O'Donnell   Consumer  United States  Fort Lauderdale     Florida   \n",
       "4   Sean O'Donnell   Consumer  United States  Fort Lauderdale     Florida   \n",
       "\n",
       "   Postal Code Region       Product ID         Category Sub-Category  \\\n",
       "0        42420  South  FUR-BO-10001798        Furniture    Bookcases   \n",
       "1        42420  South  FUR-CH-10000454        Furniture       Chairs   \n",
       "2        90036   West  OFF-LA-10000240  Office Supplies       Labels   \n",
       "3        33311  South  FUR-TA-10000577        Furniture       Tables   \n",
       "4        33311  South  OFF-ST-10000760  Office Supplies      Storage   \n",
       "\n",
       "                                        Product Name     Sales  Quantity  \\\n",
       "0                  Bush Somerset Collection Bookcase  261.9600         2   \n",
       "1  Hon Deluxe Fabric Upholstered Stacking Chairs,...  731.9400         3   \n",
       "2  Self-Adhesive Address Labels for Typewriters b...   14.6200         2   \n",
       "3      Bretford CR4500 Series Slim Rectangular Table  957.5775         5   \n",
       "4                     Eldon Fold 'N Roll Cart System   22.3680         2   \n",
       "\n",
       "   Discount    Profit  \n",
       "0      0.00   41.9136  \n",
       "1      0.00  219.5820  \n",
       "2      0.00    6.8714  \n",
       "3      0.45 -383.0310  \n",
       "4      0.20    2.5164  "
      ]
     },
     "execution_count": 4,
     "metadata": {},
     "output_type": "execute_result"
    }
   ],
   "source": [
    "print(ss_txn.shape)\n",
    "ss_txn.head()"
   ]
  },
  {
   "cell_type": "markdown",
   "metadata": {},
   "source": [
    "#### Data Structure\n",
    "\n",
    "Explicitly examining our data structure shows that our data is indeed mostly string data.\n",
    "\n",
    "Conveniently, we also see that there are no missing values in our data.\n",
    "\n",
    "*NB: although `Postal Code` is parsed as numeric, we would treat it as categorical for any analytical purposes.*"
   ]
  },
  {
   "cell_type": "code",
   "execution_count": 5,
   "metadata": {},
   "outputs": [
    {
     "name": "stdout",
     "output_type": "stream",
     "text": [
      "<class 'pandas.core.frame.DataFrame'>\n",
      "RangeIndex: 9994 entries, 0 to 9993\n",
      "Data columns (total 21 columns):\n",
      " #   Column         Non-Null Count  Dtype  \n",
      "---  ------         --------------  -----  \n",
      " 0   Row ID         9994 non-null   int64  \n",
      " 1   Order ID       9994 non-null   object \n",
      " 2   Order Date     9994 non-null   object \n",
      " 3   Ship Date      9994 non-null   object \n",
      " 4   Ship Mode      9994 non-null   object \n",
      " 5   Customer ID    9994 non-null   object \n",
      " 6   Customer Name  9994 non-null   object \n",
      " 7   Segment        9994 non-null   object \n",
      " 8   Country        9994 non-null   object \n",
      " 9   City           9994 non-null   object \n",
      " 10  State          9994 non-null   object \n",
      " 11  Postal Code    9994 non-null   int64  \n",
      " 12  Region         9994 non-null   object \n",
      " 13  Product ID     9994 non-null   object \n",
      " 14  Category       9994 non-null   object \n",
      " 15  Sub-Category   9994 non-null   object \n",
      " 16  Product Name   9994 non-null   object \n",
      " 17  Sales          9994 non-null   float64\n",
      " 18  Quantity       9994 non-null   int64  \n",
      " 19  Discount       9994 non-null   float64\n",
      " 20  Profit         9994 non-null   float64\n",
      "dtypes: float64(3), int64(3), object(15)\n",
      "memory usage: 1.6+ MB\n"
     ]
    }
   ],
   "source": [
    "ss_txn.info() # data structure"
   ]
  },
  {
   "cell_type": "markdown",
   "metadata": {},
   "source": [
    "#### Data Grain and Feature Cardinality ####\n",
    "\n",
    "Looking at unique values, we see that our data contains \\~10,000 product transactions (`Row ID`) bought across \\~5,000 orders (`Order ID`) made by \\~800 customers (`Customer ID`).\n",
    "\n",
    "Furthermore, we get a good sense of the cardinality of each column.\n",
    "\n",
    "Those with low cardinality (e.g. `Ship Mode`, `Segment`, `Region`, etc.) may be good candidates for onehot encoding.  Features with high cardinality would likely need to be sensibly aggregated first (to avoid increasing the dimensionality of our data too significantly)."
   ]
  },
  {
   "cell_type": "code",
   "execution_count": 6,
   "metadata": {},
   "outputs": [
    {
     "data": {
      "text/plain": [
       "Row ID           9994\n",
       "Order ID         5009\n",
       "Order Date       1237\n",
       "Ship Date        1334\n",
       "Ship Mode           4\n",
       "Customer ID       793\n",
       "Customer Name     793\n",
       "Segment             3\n",
       "Country             1\n",
       "City              531\n",
       "State              49\n",
       "Postal Code       631\n",
       "Region              4\n",
       "Product ID       1862\n",
       "Category            3\n",
       "Sub-Category       17\n",
       "Product Name     1850\n",
       "Sales            5825\n",
       "Quantity           14\n",
       "Discount           12\n",
       "Profit           7287\n",
       "dtype: int64"
      ]
     },
     "execution_count": 6,
     "metadata": {},
     "output_type": "execute_result"
    }
   ],
   "source": [
    "ss_txn.nunique() # count of unique values in each field"
   ]
  },
  {
   "cell_type": "markdown",
   "metadata": {},
   "source": [
    "#### Numeric Attributes\n",
    "\n",
    "Describing our numeric fields is really only useful for `Sales`, `Quantity`, `Discount`, and `Profit`.  We can't interpret much from the descriptive statistics of `Row ID` and `Postal Code`.\n",
    "\n",
    "We see that a typical order (median) is about \\\\$55, with profit just under \\$10.  Based on the max values, it looks like our data may skew right (as is typical for financial data).\n",
    "\n",
    "We apply a lambda function to round the stats for readability."
   ]
  },
  {
   "cell_type": "code",
   "execution_count": 7,
   "metadata": {
    "scrolled": true
   },
   "outputs": [
    {
     "data": {
      "text/html": [
       "<div>\n",
       "<style scoped>\n",
       "    .dataframe tbody tr th:only-of-type {\n",
       "        vertical-align: middle;\n",
       "    }\n",
       "\n",
       "    .dataframe tbody tr th {\n",
       "        vertical-align: top;\n",
       "    }\n",
       "\n",
       "    .dataframe thead th {\n",
       "        text-align: right;\n",
       "    }\n",
       "</style>\n",
       "<table border=\"1\" class=\"dataframe\">\n",
       "  <thead>\n",
       "    <tr style=\"text-align: right;\">\n",
       "      <th></th>\n",
       "      <th>Row ID</th>\n",
       "      <th>Postal Code</th>\n",
       "      <th>Sales</th>\n",
       "      <th>Quantity</th>\n",
       "      <th>Discount</th>\n",
       "      <th>Profit</th>\n",
       "    </tr>\n",
       "  </thead>\n",
       "  <tbody>\n",
       "    <tr>\n",
       "      <th>count</th>\n",
       "      <td>9994</td>\n",
       "      <td>9994</td>\n",
       "      <td>9994</td>\n",
       "      <td>9994</td>\n",
       "      <td>9994</td>\n",
       "      <td>9994</td>\n",
       "    </tr>\n",
       "    <tr>\n",
       "      <th>mean</th>\n",
       "      <td>4997.5</td>\n",
       "      <td>55190.4</td>\n",
       "      <td>229.858</td>\n",
       "      <td>3.78957</td>\n",
       "      <td>0.156203</td>\n",
       "      <td>28.6569</td>\n",
       "    </tr>\n",
       "    <tr>\n",
       "      <th>std</th>\n",
       "      <td>2885.16</td>\n",
       "      <td>32063.7</td>\n",
       "      <td>623.245</td>\n",
       "      <td>2.22511</td>\n",
       "      <td>0.206452</td>\n",
       "      <td>234.26</td>\n",
       "    </tr>\n",
       "    <tr>\n",
       "      <th>min</th>\n",
       "      <td>1</td>\n",
       "      <td>1040</td>\n",
       "      <td>0.444</td>\n",
       "      <td>1</td>\n",
       "      <td>0</td>\n",
       "      <td>-6599.98</td>\n",
       "    </tr>\n",
       "    <tr>\n",
       "      <th>25%</th>\n",
       "      <td>2499.25</td>\n",
       "      <td>23223</td>\n",
       "      <td>17.28</td>\n",
       "      <td>2</td>\n",
       "      <td>0</td>\n",
       "      <td>1.72875</td>\n",
       "    </tr>\n",
       "    <tr>\n",
       "      <th>50%</th>\n",
       "      <td>4997.5</td>\n",
       "      <td>56430.5</td>\n",
       "      <td>54.49</td>\n",
       "      <td>3</td>\n",
       "      <td>0.2</td>\n",
       "      <td>8.6665</td>\n",
       "    </tr>\n",
       "    <tr>\n",
       "      <th>75%</th>\n",
       "      <td>7495.75</td>\n",
       "      <td>90008</td>\n",
       "      <td>209.94</td>\n",
       "      <td>5</td>\n",
       "      <td>0.2</td>\n",
       "      <td>29.364</td>\n",
       "    </tr>\n",
       "    <tr>\n",
       "      <th>max</th>\n",
       "      <td>9994</td>\n",
       "      <td>99301</td>\n",
       "      <td>22638.5</td>\n",
       "      <td>14</td>\n",
       "      <td>0.8</td>\n",
       "      <td>8399.98</td>\n",
       "    </tr>\n",
       "  </tbody>\n",
       "</table>\n",
       "</div>"
      ],
      "text/plain": [
       "        Row ID Postal Code    Sales Quantity  Discount    Profit\n",
       "count     9994        9994     9994     9994      9994      9994\n",
       "mean    4997.5     55190.4  229.858  3.78957  0.156203   28.6569\n",
       "std    2885.16     32063.7  623.245  2.22511  0.206452    234.26\n",
       "min          1        1040    0.444        1         0  -6599.98\n",
       "25%    2499.25       23223    17.28        2         0   1.72875\n",
       "50%     4997.5     56430.5    54.49        3       0.2    8.6665\n",
       "75%    7495.75       90008   209.94        5       0.2    29.364\n",
       "max       9994       99301  22638.5       14       0.8   8399.98"
      ]
     },
     "execution_count": 7,
     "metadata": {},
     "output_type": "execute_result"
    }
   ],
   "source": [
    "ss_txn.describe().apply(lambda s: s.apply(lambda x: format(x, 'g'))) # data stats"
   ]
  },
  {
   "cell_type": "markdown",
   "metadata": {},
   "source": [
    "### Data Prep\n",
    "\n",
    "Next we'll clean up our column names and convert our date columns from objects to datetime fields"
   ]
  },
  {
   "cell_type": "code",
   "execution_count": 8,
   "metadata": {},
   "outputs": [],
   "source": [
    "# rename columns for consistency\n",
    "ss_txn.columns = ss_txn.columns.str.replace(\"-\", \"_\") # replace hyphens\n",
    "ss_txn.columns = ss_txn.columns.str.replace(\" \", \"_\") # replace white space\n",
    "ss_txn.columns = ss_txn.columns.str.lower() # lower case\n",
    "\n",
    "# convert date columns to datetime (from object)\n",
    "ss_txn['order_date'] = pd.to_datetime(ss_txn['order_date'])\n",
    "ss_txn['ship_date'] = pd.to_datetime(ss_txn['ship_date'])"
   ]
  },
  {
   "cell_type": "markdown",
   "metadata": {},
   "source": [
    "### Data Visualization\n",
    "\n",
    "In this section we'll explore our dataset a bit."
   ]
  },
  {
   "cell_type": "markdown",
   "metadata": {},
   "source": [
    "First, we'll store the count of observations (transactions) by `order_date`.  From the preview, it looks like our transaction data spans four years, from Jan 2014 - Dec 2017 (`.sort_index()` is used to ensure the date values are sorted)."
   ]
  },
  {
   "cell_type": "code",
   "execution_count": 9,
   "metadata": {},
   "outputs": [
    {
     "data": {
      "text/plain": [
       "2014-01-03     1\n",
       "2014-01-04     3\n",
       "2014-01-05     1\n",
       "2014-01-06     9\n",
       "2014-01-07     2\n",
       "              ..\n",
       "2017-12-26     4\n",
       "2017-12-27     2\n",
       "2017-12-28    19\n",
       "2017-12-29    12\n",
       "2017-12-30     7\n",
       "Name: order_date, Length: 1237, dtype: int64"
      ]
     },
     "execution_count": 9,
     "metadata": {},
     "output_type": "execute_result"
    }
   ],
   "source": [
    "txn_count_daily = ss_txn['order_date'].value_counts().sort_index() # sort values\n",
    "txn_count_daily"
   ]
  },
  {
   "cell_type": "markdown",
   "metadata": {},
   "source": [
    "#### Transaction Volume Trends\n",
    "\n",
    "Plotting transaction counts by day, we get confirmation that our data spans from January 2014 thru December 2017 (4 years of transactions).  We also see that the data is pretty noisy (fairly volatile from day-to-day).\n",
    "\n",
    "Applying a 14-day rolling average helps make the overall upward trend a bit more visible.  We also see some seasonal spikes in the latter parts of each year (September, November, December) before dropping back down in January."
   ]
  },
  {
   "cell_type": "code",
   "execution_count": 10,
   "metadata": {},
   "outputs": [
    {
     "data": {
      "image/png": "[encoded data removed]",
      "text/plain": [
       "<Figure size 1152x432 with 1 Axes>"
      ]
     },
     "metadata": {
      "needs_background": "light"
     },
     "output_type": "display_data"
    }
   ],
   "source": [
    "# set figure, axis properties\n",
    "plt.figure(figsize = (16, 6))\n",
    "plt.xlabel(\"Transaction Date\")\n",
    "plt.ylabel(\"Transaction Count\")\n",
    "plt.title(\"Daily Transaction Volume\")\n",
    "\n",
    "# draw line plots\n",
    "sns.lineplot(x = txn_count_daily.index, y = txn_count_daily, alpha = 0.25, label = 'daily txn cnt');\n",
    "sns.lineplot(x = txn_count_daily.index, y = txn_count_daily.rolling(14).mean(), label = '14d avg txn cnt');"
   ]
  },
  {
   "cell_type": "markdown",
   "metadata": {},
   "source": [
    "#### Function: Feature Distributions\n",
    "\n",
    "For a bit more exploration, we also define a function to show distributions of categorical and continuous variables.  Setting `plot_type` to `'distplot'` works best for continuous features, while `'countplot'` is more natural for categorical features."
   ]
  },
  {
   "cell_type": "code",
   "execution_count": 11,
   "metadata": {},
   "outputs": [],
   "source": [
    "def dist_plots(df, col_list, plot_type, n_cols=2):\n",
    "    '''\n",
    "    df: dataframe\n",
    "    col_list: list of column names.\n",
    "    plot_type: ['countplot', 'distplot']\n",
    "    n_cols: number of columns in grid of plots. default = 2.\n",
    "    '''\n",
    "    \n",
    "    # deduce nbr of rows needed for plot\n",
    "    n_rows = math.ceil(len(col_list) / n_cols)\n",
    "\n",
    "    # set figure, axis properties\n",
    "    fig, ax = plt.subplots(ncols = n_cols, nrows = n_rows)\n",
    "    fig.set_size_inches(16, 4 * n_rows)\n",
    "    fig.tight_layout(h_pad = 6, w_pad = 12)\n",
    "    \n",
    "    params = {'kde': False} if plot_type == 'distplot' else {}\n",
    "\n",
    "    # if one column only, plot just that one\n",
    "    if len(col_list) == 1:\n",
    "        sns.countplot(y = df[col_list[0]], ax = ax);\n",
    "        ax.title.set_text('# of transactions, by ' + col_list[0]);\n",
    "    \n",
    "    # if multiple columns, loop & plot each\n",
    "    else:\n",
    "        # loop through each column & plot\n",
    "        for i, col in enumerate(col_list):\n",
    "\n",
    "            # compute row, col index\n",
    "            i_row = math.floor(i / n_cols)\n",
    "            i_col = i % n_cols\n",
    "\n",
    "            # make plots\n",
    "            getattr(sns, plot_type)(df[col], ax = ax[i_row][i_col], **params)\n",
    "            ax[i_row][i_col].title.set_text('Transactions, by ' + col);"
   ]
  },
  {
   "cell_type": "markdown",
   "metadata": {},
   "source": [
    "#### Categorical Features (low-cardinality)\n",
    "\n",
    "Next, we identify categorical columns (those of type `'object'`), and then specifically our low-cardinality categorical columns for plotting."
   ]
  },
  {
   "cell_type": "code",
   "execution_count": 12,
   "metadata": {},
   "outputs": [],
   "source": [
    "# store object columns\n",
    "obj_cols = ss_txn.select_dtypes(['object']).columns.tolist()\n",
    "\n",
    "# count of unique values by column\n",
    "ss_txn_nunique_obj = ss_txn[obj_cols].nunique().tolist()\n",
    "\n",
    "# store object columns with cardinality of 2-10\n",
    "obj_low_card = ss_txn[obj_cols].columns[\n",
    "    np.where(\n",
    "        (np.array(ss_txn_nunique_obj) >= 2) & \n",
    "        (np.array(ss_txn_nunique_obj) <= 10)\n",
    "    )[0]]"
   ]
  },
  {
   "cell_type": "markdown",
   "metadata": {},
   "source": [
    "#### Transaction Counts by Category\n",
    "\n",
    "Transaction counts of categorical columns show that consumers are making the most purchases and office supplies are the most commonly purchased product types.\n",
    "\n",
    "Slower shipping options are more common and region is relatively balanced (although a bit fewer purchases from customers in the South).\n",
    "\n",
    "Does customer segment influence these other attributes at all? Are consumers more likely to buy office supplies than corporate?\n",
    "\n",
    "We'll take a look at that next."
   ]
  },
  {
   "cell_type": "code",
   "execution_count": 13,
   "metadata": {},
   "outputs": [
    {
     "data": {
      "image/png": "[encoded data removed]",
      "text/plain": [
       "<Figure size 1152x576 with 4 Axes>"
      ]
     },
     "metadata": {
      "needs_background": "light"
     },
     "output_type": "display_data"
    }
   ],
   "source": [
    "dist_plots(ss_txn, obj_low_card, plot_type = 'countplot', n_cols=2)"
   ]
  },
  {
   "cell_type": "markdown",
   "metadata": {},
   "source": [
    "#### Function: Crosstab heatmaps\n",
    "\n",
    "Let's define a function to make those comparisons by segment for us. To call the function, we provide a data frame, a list of columns, and the column (`segment`, in this case) to split by."
   ]
  },
  {
   "cell_type": "code",
   "execution_count": 14,
   "metadata": {},
   "outputs": [],
   "source": [
    "def ctab_heatmap(df, col_list, remove_col):\n",
    "\n",
    "    # remove specified column from low-cardinality list (for crosstabs)\n",
    "    col_list_ctab = col_list.tolist() # convert to list if not already\n",
    "    col_list_ctab.remove(remove_col)\n",
    "\n",
    "    # set figure properties\n",
    "    fig, ax = plt.subplots(ncols = 3, nrows = 1)\n",
    "    fig.set_size_inches(14, 8)\n",
    "    fig.tight_layout(w_pad = 12)\n",
    "\n",
    "    for i, col in enumerate(col_list_ctab):\n",
    "\n",
    "        # calculate crosstabs\n",
    "        ctab_txn_cnt = pd.crosstab(df[col], df[remove_col], margins = True, normalize = 'index')\n",
    "        cbar_fmt = lambda x, pos: '{:.0%}'.format(x)\n",
    "\n",
    "        # make plots\n",
    "        sns.heatmap(ctab_txn_cnt, \n",
    "                    cmap = 'Blues', \n",
    "                    square = True, \n",
    "                    cbar_kws = {'shrink': 0.3, 'format': FuncFormatter(cbar_fmt)}, \n",
    "                    annot = True, \n",
    "                    fmt = '.0%',\n",
    "                    linewidths = 1.0,\n",
    "                    ax = ax[i]\n",
    "                   );\n",
    "        \n",
    "        # set labels\n",
    "        ax[i].title.set_text('Product Transaction Mix by segment\\n Split by ' + col);\n",
    "        ax[i].set_yticklabels(ax[i].get_yticklabels(), rotation = 0, fontsize = 12)\n",
    "        ax[i].set_yticklabels(ax[i].get_yticklabels(), rotation = 0, fontsize = 12)"
   ]
  },
  {
   "cell_type": "markdown",
   "metadata": {},
   "source": [
    "#### Transaction mix by segment\n",
    "\n",
    "We see that there's not much difference in Product transaction mix between customer segments.  Overall, about 52% are made by consumers, 30% by corporate, and 18% by home office.\n",
    "\n",
    "The only notable deviation that we see from that is on delivery type, where corporate is much less likely to use same day delivery than we'd otherwise expect."
   ]
  },
  {
   "cell_type": "code",
   "execution_count": 15,
   "metadata": {},
   "outputs": [
    {
     "data": {
      "image/png": "[encoded data removed]",
      "text/plain": [
       "<Figure size 1008x576 with 6 Axes>"
      ]
     },
     "metadata": {
      "needs_background": "light"
     },
     "output_type": "display_data"
    }
   ],
   "source": [
    "ctab_heatmap(ss_txn, obj_low_card, 'segment')"
   ]
  },
  {
   "cell_type": "markdown",
   "metadata": {},
   "source": [
    "#### Numeric Features\n",
    "\n",
    "And now let's also identify numeric columns to visualize those distributions.\n",
    "\n",
    "The `row_id` and `postal_code` columns are both numeric, but we'll exclude them from our plots since those visualizations won't be helpful for us."
   ]
  },
  {
   "cell_type": "code",
   "execution_count": 16,
   "metadata": {},
   "outputs": [],
   "source": [
    "# store numeric columns; excluding row_id, postal_code\n",
    "num_cols = ss_txn.select_dtypes(['float', 'int']).columns.tolist()\n",
    "num_cols = list(set(num_cols) ^ set(['row_id', 'postal_code']))"
   ]
  },
  {
   "cell_type": "markdown",
   "metadata": {},
   "source": [
    "#### Transaction Distribution by Numeric Features\n",
    "\n",
    "Plotting numeric columns, we're able to learn a bit more about each.\n",
    "\n",
    "The `discount` field appears to be a proportion between 0 and 1.  From the plot, the relationship between `sales` and `discount` isn't clear, but we can examine that next.  The primary question is whether the `sales` data is inclusive of the discount.\n",
    "\n",
    "`profit` appears to be the closest to normally distributed and is centered just above 0 (most product transactions are profitable, although some are not).\n",
    "\n",
    "`sales` and `quantity` both have long right tails.  `sales` in particular may be a candidate for log-transformation (depending on how we plan to make use of it)."
   ]
  },
  {
   "cell_type": "code",
   "execution_count": 17,
   "metadata": {},
   "outputs": [
    {
     "data": {
      "image/png": "[encoded data removed]",
      "text/plain": [
       "<Figure size 1152x576 with 4 Axes>"
      ]
     },
     "metadata": {
      "needs_background": "light"
     },
     "output_type": "display_data"
    }
   ],
   "source": [
    "dist_plots(ss_txn, num_cols, plot_type = 'distplot', n_cols=2)"
   ]
  },
  {
   "cell_type": "markdown",
   "metadata": {},
   "source": [
    "### Is `discount` accounted for in `sales`?\n",
    "\n",
    "Let's check whether the sales amount includes the discount or whether the discount still needs to be taken off.\n",
    "\n",
    "We need to control for the number of products in each order, so we'll first calculate the per-unit price (as `product_price`).\n",
    "\n",
    "Then we'll group by `product_id` and `discount` and examine product price based on the discount field.  Lastly, we'll also add a counter field for `product_id`, to make it a bit simpler to sub-sample on product-level data."
   ]
  },
  {
   "cell_type": "code",
   "execution_count": 18,
   "metadata": {},
   "outputs": [],
   "source": [
    "# calculate per unit price\n",
    "ss_txn['product_price'] = ss_txn['sales'] / ss_txn['quantity']\n",
    "\n",
    "# columns to group by & aggregate on\n",
    "group_cols = ['product_id', 'product_name', 'discount']\n",
    "agg_cols = ['product_price']\n",
    "\n",
    "# aggregate by product, discount\n",
    "product_discounts = ss_txn[group_cols + agg_cols].groupby(group_cols, as_index = False).mean()\n",
    "\n",
    "# compute counter field on product_id\n",
    "product_discounts['product_num'] = (product_discounts['product_id'].\n",
    "                                    transform(lambda x: pd.CategoricalIndex(x).codes)) + 1"
   ]
  },
  {
   "cell_type": "markdown",
   "metadata": {},
   "source": [
    "#### Discounts <ins>are</ins> accounted for in the listed sales amounts\n",
    "\n",
    "Now we can compare the product price on various products based on the discount field.  We'll plot product price for just the first 8 products in our dataset and inspect.\n",
    "\n",
    "From the plots, we see that product price is **already** inclusive of the discount % off.  Going up one level, this means that the `sales` field is also already inclusive of the awarded `discount`."
   ]
  },
  {
   "cell_type": "code",
   "execution_count": 19,
   "metadata": {},
   "outputs": [
    {
     "data": {
      "image/png": "[encoded data removed]",
      "text/plain": [
       "<Figure size 2160x720 with 8 Axes>"
      ]
     },
     "metadata": {
      "needs_background": "light"
     },
     "output_type": "display_data"
    }
   ],
   "source": [
    "# make plot\n",
    "ax = sns.catplot(data = product_discounts[product_discounts['product_num'] <= 8], \n",
    "            x = 'discount', y = 'product_price', \n",
    "            col = 'product_name', col_wrap = 4,\n",
    "            kind = 'bar', color = 'blue', saturation = 0.35, aspect = 1.5);\n",
    "\n",
    "# set facet grid height padding\n",
    "ax.fig.tight_layout(h_pad = 10)\n",
    "\n",
    "# set plot title\n",
    "ax.fig.suptitle(\n",
    "    'Product Price by Discount Amount\\nSplit by Product', \n",
    "    fontsize = 40, \n",
    "    y = 1.25)\n",
    "\n",
    "# adjust font sizes\n",
    "for axes in ax.axes.flat:\n",
    "    axes.set_xticklabels(axes.get_xticklabels(), size = 24)\n",
    "    axes.set_yticklabels(axes.get_yticks(), size = 24)\n",
    "    axes.set_xlabel(axes.get_xlabel(), fontsize = 24)\n",
    "    axes.set_ylabel(axes.get_ylabel(), fontsize = 24)\n",
    "    axes.set_title(\n",
    "        textwrap.fill(axes.get_title(loc = 'center'), 30), # wrap product name after 30 chars\n",
    "        size = 24);"
   ]
  },
  {
   "cell_type": "markdown",
   "metadata": {},
   "source": [
    "#### Calculate sales before discount\n",
    "\n",
    "Let's do a bit of feature engineering based on this exploration.  We'll calculate the effect the discount rate has on both the sales amount and absolute discounts awarded."
   ]
  },
  {
   "cell_type": "code",
   "execution_count": 20,
   "metadata": {},
   "outputs": [],
   "source": [
    "# calculate absolute discount effect\n",
    "ss_txn['full_product_price'] = ss_txn['product_price'] / (1 - ss_txn['discount'])\n",
    "ss_txn['sales_before_discount'] = ss_txn['full_product_price'] * ss_txn['quantity']\n",
    "ss_txn['discount_amt'] = ss_txn['sales_before_discount'] - ss_txn['sales']"
   ]
  },
  {
   "cell_type": "markdown",
   "metadata": {},
   "source": [
    "### Function: Compare Distribution Fits of Numeric Attributes\n",
    "\n",
    "Now let's follow up on our numeric fields that were right skewed.\n",
    "\n",
    "From our earlier inspection, we saw that the `product_price` and `sales` features in particular had long right tails.  Next we define a function to apply transformation functions (log and boxcox), then compare the original & transformed distributions to the normal distribution.\n",
    "\n",
    "We'll make comparisons both statistically (using a kolmogorov-smirnov test) and visually."
   ]
  },
  {
   "cell_type": "code",
   "execution_count": 21,
   "metadata": {},
   "outputs": [],
   "source": [
    "# function to graphically and statistically compare distribution transformations\n",
    "def compare_transformations(df, col, const=0, base=math.e):\n",
    "    \n",
    "    # set plot and axis properties\n",
    "    fig, axs = plt.subplots(ncols = 3, nrows = 2)\n",
    "    fig.set_size_inches(12, 8)\n",
    "    fig.tight_layout(pad=6.0)\n",
    "    axs[0][0].title.set_text('QQ plot: ' + col)\n",
    "    axs[0][1].title.set_text('QQ plot: log(' + col + ')')\n",
    "    axs[0][2].title.set_text('QQ plot: boxcox(' + col + ')')\n",
    "    axs[1][0].title.set_text('distribution: ' + col)\n",
    "    axs[1][1].title.set_text('distribution: log(' + col + ')')\n",
    "    axs[1][2].title.set_text('distribution: boxcox(' + col + ')')\n",
    "\n",
    "    ## store transformations\n",
    "    \n",
    "    # optionally specify constant to avoid value=0 errors.\n",
    "    # optionally specify log-base \n",
    "    # (fyi, formula to change log-base: https://en.wikipedia.org/wiki/Logarithm#Change_of_base)\n",
    "    log_col = np.log(df[col] + const) / np.log(base)\n",
    "    \n",
    "    # ignore np.NaN warnings specifically for boxcox transformation\n",
    "    with np.errstate(invalid='ignore'): \n",
    "        # optionally specify a constant to avoid value=0 errors\n",
    "        boxcox_col = pd.Series(ss.boxcox(df[col] + const)[0])\n",
    "    \n",
    "    # make QQ plots\n",
    "    sm.qqplot(df[col], line = 'q', ax = axs[0][0])\n",
    "    sm.qqplot(log_col, line = 'q', ax = axs[0][1])\n",
    "    sm.qqplot(boxcox_col, line = 'q', ax = axs[0][2])\n",
    "\n",
    "    # make distribution plots\n",
    "    sns.distplot(df[col], kde=False, ax = axs[1][0])\n",
    "    sns.distplot(log_col, kde=False, ax = axs[1][1])\n",
    "    sns.distplot(boxcox_col, kde=False, ax = axs[1][2]);\n",
    "    \n",
    "    # normalize columns for ks test\n",
    "    z_col = (df[col] - df[col].mean()) / df[col].std()\n",
    "    z_col_log = (log_col - log_col.mean()) / log_col.std()\n",
    "    z_col_boxcox = (boxcox_col - boxcox_col.mean()) / boxcox_col.std()\n",
    " \n",
    "    # print results of ks test\n",
    "    print(col + ':')\n",
    "    print(ss.kstest(z_col.dropna(), 'norm'))\n",
    "    \n",
    "    print('\\nlog(' + col + '):')\n",
    "    print(ss.kstest(z_col_log.dropna(), 'norm'))\n",
    "    \n",
    "    print('\\nboxcox(' + col + '):')\n",
    "    print(ss.kstest(z_col_boxcox.dropna(), 'norm'))"
   ]
  },
  {
   "cell_type": "markdown",
   "metadata": {},
   "source": [
    "#### `product_price` distribution\n",
    "\n",
    "H<sub>0</sub>: The sample **is** drawn from a Normal distribution.\n",
    "\n",
    "Given the p-values, we reject that comparison.  Even after the log and box-cox transformations, it appears the tails are still too short to follow a normal distribution, although they are much closer."
   ]
  },
  {
   "cell_type": "code",
   "execution_count": 22,
   "metadata": {},
   "outputs": [
    {
     "name": "stdout",
     "output_type": "stream",
     "text": [
      "product_price:\n",
      "KstestResult(statistic=0.33582797782486207, pvalue=0.0)\n",
      "\n",
      "log(product_price):\n",
      "KstestResult(statistic=0.06858018603781363, pvalue=2.9764656010434263e-41)\n",
      "\n",
      "boxcox(product_price):\n",
      "KstestResult(statistic=0.059827603705515875, pvalue=1.697902840813396e-31)\n"
     ]
    },
    {
     "data": {
      "image/png": "[encoded data removed]",
      "text/plain": [
       "<Figure size 864x576 with 6 Axes>"
      ]
     },
     "metadata": {
      "needs_background": "light"
     },
     "output_type": "display_data"
    }
   ],
   "source": [
    "compare_transformations(ss_txn, 'product_price', base = 10)"
   ]
  },
  {
   "cell_type": "markdown",
   "metadata": {},
   "source": [
    "#### `sales` distribution\n",
    "\n",
    "H<sub>0</sub>: The sample **is** drawn from a Normal distribution.\n",
    "\n",
    "Similar to `product_price`, it appears that `sales` also does not follow a normal distribution even after the transformation (tails are still too short).\n",
    "\n",
    "That said - **in both cases, the log and boxcox transformations noticeably improved the right skew of the distributions.**"
   ]
  },
  {
   "cell_type": "code",
   "execution_count": 23,
   "metadata": {},
   "outputs": [
    {
     "name": "stdout",
     "output_type": "stream",
     "text": [
      "sales:\n",
      "KstestResult(statistic=0.35643523525465687, pvalue=0.0)\n",
      "\n",
      "log(sales):\n",
      "KstestResult(statistic=0.041039722258109534, pvalue=4.792051561422696e-15)\n",
      "\n",
      "boxcox(sales):\n",
      "KstestResult(statistic=0.03368198451142412, pvalue=2.837973414233741e-10)\n"
     ]
    },
    {
     "data": {
      "image/png": "[encoded data removed]",
      "text/plain": [
       "<Figure size 864x576 with 6 Axes>"
      ]
     },
     "metadata": {
      "needs_background": "light"
     },
     "output_type": "display_data"
    }
   ],
   "source": [
    "compare_transformations(ss_txn, 'sales', base = 10)"
   ]
  },
  {
   "cell_type": "markdown",
   "metadata": {},
   "source": [
    "## Calculate RFM"
   ]
  },
  {
   "cell_type": "markdown",
   "metadata": {},
   "source": [
    "### Aggregate the data: *Customer Order Days*\n",
    "\n",
    "Now that we've gotten a sense for our dataset, we'll aggregate to the \"customer order day\" level.  Each record in our dataset will represent a unique customer and order date, rather than a unique customer product transaction.\n",
    "\n",
    "We'll start by grouping on `customer_id` and `order_date`, then summing up total sales (\\$ and #) and counting distinct orders and products."
   ]
  },
  {
   "cell_type": "code",
   "execution_count": 24,
   "metadata": {},
   "outputs": [],
   "source": [
    "# group by customer id and order date\n",
    "# aggregate $ sales, # of total products, # of distinct products, # of distinct orders\n",
    "ss_txn_agg = ss_txn.groupby(['customer_id', 'order_date']).agg({\n",
    "    'sales': 'sum',\n",
    "    'quantity': 'sum', \n",
    "    'product_id': 'nunique',\n",
    "    'order_id': 'nunique'\n",
    "    })\n",
    "ss_txn_agg = ss_txn_agg.reset_index()"
   ]
  },
  {
   "cell_type": "markdown",
   "metadata": {},
   "source": [
    "Previewing the data, we see several customer order dates and the corresponding sales attributes we created."
   ]
  },
  {
   "cell_type": "code",
   "execution_count": 25,
   "metadata": {
    "scrolled": true
   },
   "outputs": [
    {
     "data": {
      "text/html": [
       "<div>\n",
       "<style scoped>\n",
       "    .dataframe tbody tr th:only-of-type {\n",
       "        vertical-align: middle;\n",
       "    }\n",
       "\n",
       "    .dataframe tbody tr th {\n",
       "        vertical-align: top;\n",
       "    }\n",
       "\n",
       "    .dataframe thead th {\n",
       "        text-align: right;\n",
       "    }\n",
       "</style>\n",
       "<table border=\"1\" class=\"dataframe\">\n",
       "  <thead>\n",
       "    <tr style=\"text-align: right;\">\n",
       "      <th></th>\n",
       "      <th>customer_id</th>\n",
       "      <th>order_date</th>\n",
       "      <th>sales</th>\n",
       "      <th>quantity</th>\n",
       "      <th>product_id</th>\n",
       "      <th>order_id</th>\n",
       "    </tr>\n",
       "  </thead>\n",
       "  <tbody>\n",
       "    <tr>\n",
       "      <th>0</th>\n",
       "      <td>AA-10315</td>\n",
       "      <td>2014-03-31</td>\n",
       "      <td>726.548</td>\n",
       "      <td>4</td>\n",
       "      <td>2</td>\n",
       "      <td>1</td>\n",
       "    </tr>\n",
       "    <tr>\n",
       "      <th>1</th>\n",
       "      <td>AA-10315</td>\n",
       "      <td>2014-09-15</td>\n",
       "      <td>29.500</td>\n",
       "      <td>5</td>\n",
       "      <td>2</td>\n",
       "      <td>1</td>\n",
       "    </tr>\n",
       "    <tr>\n",
       "      <th>2</th>\n",
       "      <td>AA-10315</td>\n",
       "      <td>2015-10-04</td>\n",
       "      <td>26.960</td>\n",
       "      <td>2</td>\n",
       "      <td>1</td>\n",
       "      <td>1</td>\n",
       "    </tr>\n",
       "    <tr>\n",
       "      <th>3</th>\n",
       "      <td>AA-10315</td>\n",
       "      <td>2016-03-03</td>\n",
       "      <td>4406.072</td>\n",
       "      <td>14</td>\n",
       "      <td>4</td>\n",
       "      <td>1</td>\n",
       "    </tr>\n",
       "    <tr>\n",
       "      <th>4</th>\n",
       "      <td>AA-10315</td>\n",
       "      <td>2017-06-29</td>\n",
       "      <td>374.480</td>\n",
       "      <td>5</td>\n",
       "      <td>2</td>\n",
       "      <td>1</td>\n",
       "    </tr>\n",
       "  </tbody>\n",
       "</table>\n",
       "</div>"
      ],
      "text/plain": [
       "  customer_id order_date     sales  quantity  product_id  order_id\n",
       "0    AA-10315 2014-03-31   726.548         4           2         1\n",
       "1    AA-10315 2014-09-15    29.500         5           2         1\n",
       "2    AA-10315 2015-10-04    26.960         2           1         1\n",
       "3    AA-10315 2016-03-03  4406.072        14           4         1\n",
       "4    AA-10315 2017-06-29   374.480         5           2         1"
      ]
     },
     "execution_count": 25,
     "metadata": {},
     "output_type": "execute_result"
    }
   ],
   "source": [
    "ss_txn_agg.head() # preview the data"
   ]
  },
  {
   "cell_type": "markdown",
   "metadata": {},
   "source": [
    "Examining our new structure, we see we've aggregated down to about half the row count that we began with (4,492 vs 9,994).\n",
    "\n",
    "We should note that this is <ins>not</ins> identical to grouping on customer orders, since a customer could make multiple orders on the same day.  In fact, we know from earlier in our exploration that there were 5,009 unique orders made, which is slightly more than the 4,492 records that we've aggregated to."
   ]
  },
  {
   "cell_type": "code",
   "execution_count": 26,
   "metadata": {},
   "outputs": [
    {
     "name": "stdout",
     "output_type": "stream",
     "text": [
      "<class 'pandas.core.frame.DataFrame'>\n",
      "RangeIndex: 4992 entries, 0 to 4991\n",
      "Data columns (total 6 columns):\n",
      " #   Column       Non-Null Count  Dtype         \n",
      "---  ------       --------------  -----         \n",
      " 0   customer_id  4992 non-null   object        \n",
      " 1   order_date   4992 non-null   datetime64[ns]\n",
      " 2   sales        4992 non-null   float64       \n",
      " 3   quantity     4992 non-null   int64         \n",
      " 4   product_id   4992 non-null   int64         \n",
      " 5   order_id     4992 non-null   int64         \n",
      "dtypes: datetime64[ns](1), float64(1), int64(3), object(1)\n",
      "memory usage: 234.1+ KB\n"
     ]
    }
   ],
   "source": [
    "ss_txn_agg.info() # data structure"
   ]
  },
  {
   "cell_type": "markdown",
   "metadata": {},
   "source": [
    "In fact, we can show exactly where the *customer order* level would not match the *customer order days* level.  Below we filter on just those records (where distinct count of `order_id` - for a given customer & day - is more than one)."
   ]
  },
  {
   "cell_type": "code",
   "execution_count": 27,
   "metadata": {},
   "outputs": [
    {
     "data": {
      "text/html": [
       "<div>\n",
       "<style scoped>\n",
       "    .dataframe tbody tr th:only-of-type {\n",
       "        vertical-align: middle;\n",
       "    }\n",
       "\n",
       "    .dataframe tbody tr th {\n",
       "        vertical-align: top;\n",
       "    }\n",
       "\n",
       "    .dataframe thead th {\n",
       "        text-align: right;\n",
       "    }\n",
       "</style>\n",
       "<table border=\"1\" class=\"dataframe\">\n",
       "  <thead>\n",
       "    <tr style=\"text-align: right;\">\n",
       "      <th></th>\n",
       "      <th>customer_id</th>\n",
       "      <th>order_date</th>\n",
       "      <th>sales</th>\n",
       "      <th>quantity</th>\n",
       "      <th>product_id</th>\n",
       "      <th>order_id</th>\n",
       "    </tr>\n",
       "  </thead>\n",
       "  <tbody>\n",
       "    <tr>\n",
       "      <th>122</th>\n",
       "      <td>AG-10330</td>\n",
       "      <td>2017-12-22</td>\n",
       "      <td>290.680</td>\n",
       "      <td>17</td>\n",
       "      <td>4</td>\n",
       "      <td>2</td>\n",
       "    </tr>\n",
       "    <tr>\n",
       "      <th>477</th>\n",
       "      <td>BE-11455</td>\n",
       "      <td>2016-05-06</td>\n",
       "      <td>165.976</td>\n",
       "      <td>12</td>\n",
       "      <td>4</td>\n",
       "      <td>2</td>\n",
       "    </tr>\n",
       "    <tr>\n",
       "      <th>630</th>\n",
       "      <td>BP-11185</td>\n",
       "      <td>2017-12-10</td>\n",
       "      <td>477.724</td>\n",
       "      <td>17</td>\n",
       "      <td>5</td>\n",
       "      <td>2</td>\n",
       "    </tr>\n",
       "    <tr>\n",
       "      <th>719</th>\n",
       "      <td>BW-11200</td>\n",
       "      <td>2016-10-27</td>\n",
       "      <td>802.502</td>\n",
       "      <td>26</td>\n",
       "      <td>5</td>\n",
       "      <td>2</td>\n",
       "    </tr>\n",
       "    <tr>\n",
       "      <th>760</th>\n",
       "      <td>CB-12025</td>\n",
       "      <td>2017-09-11</td>\n",
       "      <td>506.860</td>\n",
       "      <td>14</td>\n",
       "      <td>3</td>\n",
       "      <td>2</td>\n",
       "    </tr>\n",
       "    <tr>\n",
       "      <th>1062</th>\n",
       "      <td>CS-12355</td>\n",
       "      <td>2014-08-15</td>\n",
       "      <td>306.540</td>\n",
       "      <td>13</td>\n",
       "      <td>3</td>\n",
       "      <td>2</td>\n",
       "    </tr>\n",
       "    <tr>\n",
       "      <th>1672</th>\n",
       "      <td>EM-13960</td>\n",
       "      <td>2015-10-01</td>\n",
       "      <td>684.560</td>\n",
       "      <td>10</td>\n",
       "      <td>3</td>\n",
       "      <td>2</td>\n",
       "    </tr>\n",
       "    <tr>\n",
       "      <th>1946</th>\n",
       "      <td>GT-14710</td>\n",
       "      <td>2016-02-19</td>\n",
       "      <td>358.280</td>\n",
       "      <td>7</td>\n",
       "      <td>3</td>\n",
       "      <td>2</td>\n",
       "    </tr>\n",
       "    <tr>\n",
       "      <th>2057</th>\n",
       "      <td>HM-14860</td>\n",
       "      <td>2017-08-04</td>\n",
       "      <td>20.070</td>\n",
       "      <td>6</td>\n",
       "      <td>3</td>\n",
       "      <td>2</td>\n",
       "    </tr>\n",
       "    <tr>\n",
       "      <th>2127</th>\n",
       "      <td>JB-15400</td>\n",
       "      <td>2015-09-03</td>\n",
       "      <td>358.440</td>\n",
       "      <td>4</td>\n",
       "      <td>3</td>\n",
       "      <td>2</td>\n",
       "    </tr>\n",
       "    <tr>\n",
       "      <th>2219</th>\n",
       "      <td>JE-15715</td>\n",
       "      <td>2016-12-25</td>\n",
       "      <td>5008.658</td>\n",
       "      <td>16</td>\n",
       "      <td>3</td>\n",
       "      <td>2</td>\n",
       "    </tr>\n",
       "    <tr>\n",
       "      <th>2291</th>\n",
       "      <td>JG-15160</td>\n",
       "      <td>2016-12-05</td>\n",
       "      <td>657.000</td>\n",
       "      <td>6</td>\n",
       "      <td>2</td>\n",
       "      <td>2</td>\n",
       "    </tr>\n",
       "    <tr>\n",
       "      <th>2580</th>\n",
       "      <td>KB-16240</td>\n",
       "      <td>2015-11-07</td>\n",
       "      <td>215.120</td>\n",
       "      <td>3</td>\n",
       "      <td>2</td>\n",
       "      <td>2</td>\n",
       "    </tr>\n",
       "    <tr>\n",
       "      <th>2874</th>\n",
       "      <td>LC-17140</td>\n",
       "      <td>2017-12-17</td>\n",
       "      <td>94.754</td>\n",
       "      <td>10</td>\n",
       "      <td>3</td>\n",
       "      <td>2</td>\n",
       "    </tr>\n",
       "    <tr>\n",
       "      <th>3609</th>\n",
       "      <td>NS-18640</td>\n",
       "      <td>2015-08-07</td>\n",
       "      <td>80.884</td>\n",
       "      <td>10</td>\n",
       "      <td>2</td>\n",
       "      <td>2</td>\n",
       "    </tr>\n",
       "    <tr>\n",
       "      <th>3717</th>\n",
       "      <td>PJ-18835</td>\n",
       "      <td>2015-11-14</td>\n",
       "      <td>994.570</td>\n",
       "      <td>14</td>\n",
       "      <td>5</td>\n",
       "      <td>2</td>\n",
       "    </tr>\n",
       "    <tr>\n",
       "      <th>3975</th>\n",
       "      <td>RD-19585</td>\n",
       "      <td>2017-07-03</td>\n",
       "      <td>255.888</td>\n",
       "      <td>8</td>\n",
       "      <td>2</td>\n",
       "      <td>2</td>\n",
       "    </tr>\n",
       "  </tbody>\n",
       "</table>\n",
       "</div>"
      ],
      "text/plain": [
       "     customer_id order_date     sales  quantity  product_id  order_id\n",
       "122     AG-10330 2017-12-22   290.680        17           4         2\n",
       "477     BE-11455 2016-05-06   165.976        12           4         2\n",
       "630     BP-11185 2017-12-10   477.724        17           5         2\n",
       "719     BW-11200 2016-10-27   802.502        26           5         2\n",
       "760     CB-12025 2017-09-11   506.860        14           3         2\n",
       "1062    CS-12355 2014-08-15   306.540        13           3         2\n",
       "1672    EM-13960 2015-10-01   684.560        10           3         2\n",
       "1946    GT-14710 2016-02-19   358.280         7           3         2\n",
       "2057    HM-14860 2017-08-04    20.070         6           3         2\n",
       "2127    JB-15400 2015-09-03   358.440         4           3         2\n",
       "2219    JE-15715 2016-12-25  5008.658        16           3         2\n",
       "2291    JG-15160 2016-12-05   657.000         6           2         2\n",
       "2580    KB-16240 2015-11-07   215.120         3           2         2\n",
       "2874    LC-17140 2017-12-17    94.754        10           3         2\n",
       "3609    NS-18640 2015-08-07    80.884        10           2         2\n",
       "3717    PJ-18835 2015-11-14   994.570        14           5         2\n",
       "3975    RD-19585 2017-07-03   255.888         8           2         2"
      ]
     },
     "execution_count": 27,
     "metadata": {},
     "output_type": "execute_result"
    }
   ],
   "source": [
    "# examine records associated with an multi-order days\n",
    "ss_txn_agg[ss_txn_agg['order_id'] > 1]"
   ]
  },
  {
   "cell_type": "markdown",
   "metadata": {},
   "source": [
    "### Engineer Recency, Frequency, Monetary (RFM) metrics\n",
    "\n",
    "Next, we will use our aggregated data to calculate the recency, frequency, and value associated with each customer order day.\n",
    "\n",
    "We start by splitting on `customer_id` and taking the 90-day rolling sum across order dates for `sales`, `quantity`, and `product_id`.  For each customer order day, we've now calculated the total sales, # of items ordered, and # of unique products ordered over the past 90 days."
   ]
  },
  {
   "cell_type": "code",
   "execution_count": 28,
   "metadata": {},
   "outputs": [],
   "source": [
    "# take rolling sums at each check point, examining past 90 days\n",
    "\n",
    "# sales $\n",
    "roll_sum_sales = ss_txn_agg.groupby('customer_id').\\\n",
    "    rolling(window = '90D', on = 'order_date')['sales'].sum()\n",
    "\n",
    "# item cnt\n",
    "roll_cnt_products = ss_txn_agg.groupby('customer_id').\\\n",
    "    rolling(window = '90D', on = 'order_date')['quantity'].sum()\n",
    "\n",
    "# distinct product cnt\n",
    "roll_cnt_products_distinct = ss_txn_agg.groupby('customer_id').\\\n",
    "    rolling(window = '90D', on = 'order_date')['product_id'].sum()"
   ]
  },
  {
   "cell_type": "markdown",
   "metadata": {},
   "source": [
    "Now we compute our recency metric: how long (in days) since the customer made their last order.  In cases where there is no prior observed order, we assume that the last order was made 4 years prior (the windowing range of our dataset).\n",
    "\n",
    "A better approach for this imputation would be to make an inference about the \"time since last order\" for customers' first order within the window based on other visible attributes specific to the customer.  Namely, when within the window do they make their first purchase and what is the typical gap they have between orders.\n",
    "\n",
    "We leave this imputation to a future iteration of this work."
   ]
  },
  {
   "cell_type": "code",
   "execution_count": 29,
   "metadata": {},
   "outputs": [],
   "source": [
    "# compute recency metric (days since customers last txn)\n",
    "roll_last_order = ss_txn_agg.groupby('customer_id')['order_date'].diff(periods = 1).dt.days\n",
    "\n",
    "# calculate max observed recency, for imputation\n",
    "last_order_imputation = (ss_txn_agg['order_date'].max() - ss_txn_agg['order_date'].min()).days"
   ]
  },
  {
   "cell_type": "markdown",
   "metadata": {},
   "source": [
    "Next we'll combine each of our data series into a single dataframe."
   ]
  },
  {
   "cell_type": "code",
   "execution_count": 30,
   "metadata": {},
   "outputs": [],
   "source": [
    "# combine rolling sum and recency metrics\n",
    "ss_txn_roll = pd.concat([roll_sum_sales, roll_cnt_products, roll_cnt_products_distinct], axis = 1)\n",
    "ss_txn_roll.columns = ['dollar_roll_sum_90d', 'product_roll_sum_90d', 'distinct_product_roll_sum_90d']\n",
    "ss_txn_roll = ss_txn_roll.reset_index()\n",
    "\n",
    "# if first visit, fill w max date range\n",
    "ss_txn_roll['last_visit_ndays'] = roll_last_order.fillna(last_order_imputation) "
   ]
  },
  {
   "cell_type": "markdown",
   "metadata": {},
   "source": [
    "And lastly, we'll merge the RFM-info back into the *Customer Order Days* dataframe we aggregated earlier."
   ]
  },
  {
   "cell_type": "code",
   "execution_count": 31,
   "metadata": {},
   "outputs": [
    {
     "data": {
      "text/html": [
       "<div>\n",
       "<style scoped>\n",
       "    .dataframe tbody tr th:only-of-type {\n",
       "        vertical-align: middle;\n",
       "    }\n",
       "\n",
       "    .dataframe tbody tr th {\n",
       "        vertical-align: top;\n",
       "    }\n",
       "\n",
       "    .dataframe thead th {\n",
       "        text-align: right;\n",
       "    }\n",
       "</style>\n",
       "<table border=\"1\" class=\"dataframe\">\n",
       "  <thead>\n",
       "    <tr style=\"text-align: right;\">\n",
       "      <th></th>\n",
       "      <th>customer_id</th>\n",
       "      <th>order_date</th>\n",
       "      <th>sales</th>\n",
       "      <th>quantity</th>\n",
       "      <th>product_id</th>\n",
       "      <th>order_id</th>\n",
       "      <th>dollar_roll_sum_90d</th>\n",
       "      <th>product_roll_sum_90d</th>\n",
       "      <th>distinct_product_roll_sum_90d</th>\n",
       "      <th>last_visit_ndays</th>\n",
       "    </tr>\n",
       "  </thead>\n",
       "  <tbody>\n",
       "    <tr>\n",
       "      <th>0</th>\n",
       "      <td>AA-10315</td>\n",
       "      <td>2014-03-31</td>\n",
       "      <td>726.548</td>\n",
       "      <td>4</td>\n",
       "      <td>2</td>\n",
       "      <td>1</td>\n",
       "      <td>726.548</td>\n",
       "      <td>4.0</td>\n",
       "      <td>2.0</td>\n",
       "      <td>1457.0</td>\n",
       "    </tr>\n",
       "    <tr>\n",
       "      <th>1</th>\n",
       "      <td>AA-10315</td>\n",
       "      <td>2014-09-15</td>\n",
       "      <td>29.500</td>\n",
       "      <td>5</td>\n",
       "      <td>2</td>\n",
       "      <td>1</td>\n",
       "      <td>29.500</td>\n",
       "      <td>5.0</td>\n",
       "      <td>2.0</td>\n",
       "      <td>168.0</td>\n",
       "    </tr>\n",
       "    <tr>\n",
       "      <th>2</th>\n",
       "      <td>AA-10315</td>\n",
       "      <td>2015-10-04</td>\n",
       "      <td>26.960</td>\n",
       "      <td>2</td>\n",
       "      <td>1</td>\n",
       "      <td>1</td>\n",
       "      <td>26.960</td>\n",
       "      <td>2.0</td>\n",
       "      <td>1.0</td>\n",
       "      <td>384.0</td>\n",
       "    </tr>\n",
       "    <tr>\n",
       "      <th>3</th>\n",
       "      <td>AA-10315</td>\n",
       "      <td>2016-03-03</td>\n",
       "      <td>4406.072</td>\n",
       "      <td>14</td>\n",
       "      <td>4</td>\n",
       "      <td>1</td>\n",
       "      <td>4406.072</td>\n",
       "      <td>14.0</td>\n",
       "      <td>4.0</td>\n",
       "      <td>151.0</td>\n",
       "    </tr>\n",
       "    <tr>\n",
       "      <th>4</th>\n",
       "      <td>AA-10315</td>\n",
       "      <td>2017-06-29</td>\n",
       "      <td>374.480</td>\n",
       "      <td>5</td>\n",
       "      <td>2</td>\n",
       "      <td>1</td>\n",
       "      <td>374.480</td>\n",
       "      <td>5.0</td>\n",
       "      <td>2.0</td>\n",
       "      <td>483.0</td>\n",
       "    </tr>\n",
       "  </tbody>\n",
       "</table>\n",
       "</div>"
      ],
      "text/plain": [
       "  customer_id order_date     sales  quantity  product_id  order_id  \\\n",
       "0    AA-10315 2014-03-31   726.548         4           2         1   \n",
       "1    AA-10315 2014-09-15    29.500         5           2         1   \n",
       "2    AA-10315 2015-10-04    26.960         2           1         1   \n",
       "3    AA-10315 2016-03-03  4406.072        14           4         1   \n",
       "4    AA-10315 2017-06-29   374.480         5           2         1   \n",
       "\n",
       "   dollar_roll_sum_90d  product_roll_sum_90d  distinct_product_roll_sum_90d  \\\n",
       "0              726.548                   4.0                            2.0   \n",
       "1               29.500                   5.0                            2.0   \n",
       "2               26.960                   2.0                            1.0   \n",
       "3             4406.072                  14.0                            4.0   \n",
       "4              374.480                   5.0                            2.0   \n",
       "\n",
       "   last_visit_ndays  \n",
       "0            1457.0  \n",
       "1             168.0  \n",
       "2             384.0  \n",
       "3             151.0  \n",
       "4             483.0  "
      ]
     },
     "execution_count": 31,
     "metadata": {},
     "output_type": "execute_result"
    }
   ],
   "source": [
    "# inner merge agg & roll (on customer_id, order_date)\n",
    "ss_txn_rfm = ss_txn_agg.merge(\n",
    "    ss_txn_roll, \n",
    "    how = \"inner\", \n",
    "    on = ['customer_id', 'order_date'], \n",
    "    validate = 'one_to_one'\n",
    "    )\n",
    "\n",
    "# preview rfm data\n",
    "ss_txn_rfm.head()"
   ]
  },
  {
   "cell_type": "markdown",
   "metadata": {},
   "source": [
    "Previewing the data structure, we see no null values and the same record count (4,992 unique customer order days) as earlier - but now with RFM metrics included."
   ]
  },
  {
   "cell_type": "code",
   "execution_count": 32,
   "metadata": {
    "scrolled": true
   },
   "outputs": [
    {
     "name": "stdout",
     "output_type": "stream",
     "text": [
      "<class 'pandas.core.frame.DataFrame'>\n",
      "Int64Index: 4992 entries, 0 to 4991\n",
      "Data columns (total 10 columns):\n",
      " #   Column                         Non-Null Count  Dtype         \n",
      "---  ------                         --------------  -----         \n",
      " 0   customer_id                    4992 non-null   object        \n",
      " 1   order_date                     4992 non-null   datetime64[ns]\n",
      " 2   sales                          4992 non-null   float64       \n",
      " 3   quantity                       4992 non-null   int64         \n",
      " 4   product_id                     4992 non-null   int64         \n",
      " 5   order_id                       4992 non-null   int64         \n",
      " 6   dollar_roll_sum_90d            4992 non-null   float64       \n",
      " 7   product_roll_sum_90d           4992 non-null   float64       \n",
      " 8   distinct_product_roll_sum_90d  4992 non-null   float64       \n",
      " 9   last_visit_ndays               4992 non-null   float64       \n",
      "dtypes: datetime64[ns](1), float64(5), int64(3), object(1)\n",
      "memory usage: 429.0+ KB\n"
     ]
    }
   ],
   "source": [
    "ss_txn_rfm.info() # data structure of rfm"
   ]
  },
  {
   "cell_type": "markdown",
   "metadata": {},
   "source": [
    "## Segment using kmeans"
   ]
  },
  {
   "cell_type": "markdown",
   "metadata": {},
   "source": [
    "Before normalizing our data and fitting a kmeans model, we'll start by making a copy of the dataset.  This will allow us to (in the end) join our kmeans data back to the original, unscaled data for easier interpretability."
   ]
  },
  {
   "cell_type": "code",
   "execution_count": 33,
   "metadata": {},
   "outputs": [],
   "source": [
    "# make a copy of the dataset (no pointer)\n",
    "ss_txn_rfm_scaled = ss_txn_rfm.copy()"
   ]
  },
  {
   "cell_type": "markdown",
   "metadata": {},
   "source": [
    "#### Normalize the data\n",
    "\n",
    "Normalizing the data is important for kmeans as it is a distance-based algorithm; if data are not scaled, then distances will not be appropriately weighted.\n",
    "\n",
    "We will select relevant numeric columns and z-scale them for use in kmeans (convert units into \"standard deviations away from the mean\")."
   ]
  },
  {
   "cell_type": "code",
   "execution_count": 34,
   "metadata": {},
   "outputs": [],
   "source": [
    "# normalize the data\n",
    "scale_cols = ss_txn_rfm_scaled.columns.difference(['customer_id', 'order_date'], sort = False)\n",
    "ss_txn_rfm_scaled[scale_cols] = StandardScaler().fit_transform(ss_txn_rfm_scaled[scale_cols]) "
   ]
  },
  {
   "cell_type": "markdown",
   "metadata": {},
   "source": [
    "#### Initialize & fit kmeans\n",
    "\n",
    "In this case, we fit kmeans on a 2-cluster solution."
   ]
  },
  {
   "cell_type": "code",
   "execution_count": 35,
   "metadata": {},
   "outputs": [
    {
     "data": {
      "text/plain": [
       "KMeans(n_clusters=2, random_state=0)"
      ]
     },
     "execution_count": 35,
     "metadata": {},
     "output_type": "execute_result"
    }
   ],
   "source": [
    "n_clusters = 2 # set number of clusters\n",
    "\n",
    "X = ss_txn_rfm_scaled[scale_cols]\n",
    "kmeans = KMeans(n_clusters = n_clusters, random_state = 0) # initialize kmeans\n",
    "kmeans.fit(X) # train the model"
   ]
  },
  {
   "cell_type": "markdown",
   "metadata": {},
   "source": [
    "Now that our model is fit, we make cluster assignments for each customer order day in our original data."
   ]
  },
  {
   "cell_type": "code",
   "execution_count": 36,
   "metadata": {},
   "outputs": [],
   "source": [
    "# assign cluster to each row of the original RFM data\n",
    "ss_txn_rfm['cluster'] = kmeans.predict(X) "
   ]
  },
  {
   "cell_type": "markdown",
   "metadata": {},
   "source": [
    "Previewing the data shows the output looks as expected."
   ]
  },
  {
   "cell_type": "code",
   "execution_count": 37,
   "metadata": {
    "scrolled": true
   },
   "outputs": [
    {
     "data": {
      "text/html": [
       "<div>\n",
       "<style scoped>\n",
       "    .dataframe tbody tr th:only-of-type {\n",
       "        vertical-align: middle;\n",
       "    }\n",
       "\n",
       "    .dataframe tbody tr th {\n",
       "        vertical-align: top;\n",
       "    }\n",
       "\n",
       "    .dataframe thead th {\n",
       "        text-align: right;\n",
       "    }\n",
       "</style>\n",
       "<table border=\"1\" class=\"dataframe\">\n",
       "  <thead>\n",
       "    <tr style=\"text-align: right;\">\n",
       "      <th></th>\n",
       "      <th>customer_id</th>\n",
       "      <th>order_date</th>\n",
       "      <th>sales</th>\n",
       "      <th>quantity</th>\n",
       "      <th>product_id</th>\n",
       "      <th>order_id</th>\n",
       "      <th>dollar_roll_sum_90d</th>\n",
       "      <th>product_roll_sum_90d</th>\n",
       "      <th>distinct_product_roll_sum_90d</th>\n",
       "      <th>last_visit_ndays</th>\n",
       "      <th>cluster</th>\n",
       "    </tr>\n",
       "  </thead>\n",
       "  <tbody>\n",
       "    <tr>\n",
       "      <th>0</th>\n",
       "      <td>AA-10315</td>\n",
       "      <td>2014-03-31</td>\n",
       "      <td>726.548</td>\n",
       "      <td>4</td>\n",
       "      <td>2</td>\n",
       "      <td>1</td>\n",
       "      <td>726.548</td>\n",
       "      <td>4.0</td>\n",
       "      <td>2.0</td>\n",
       "      <td>1457.0</td>\n",
       "      <td>0</td>\n",
       "    </tr>\n",
       "    <tr>\n",
       "      <th>1</th>\n",
       "      <td>AA-10315</td>\n",
       "      <td>2014-09-15</td>\n",
       "      <td>29.500</td>\n",
       "      <td>5</td>\n",
       "      <td>2</td>\n",
       "      <td>1</td>\n",
       "      <td>29.500</td>\n",
       "      <td>5.0</td>\n",
       "      <td>2.0</td>\n",
       "      <td>168.0</td>\n",
       "      <td>0</td>\n",
       "    </tr>\n",
       "    <tr>\n",
       "      <th>2</th>\n",
       "      <td>AA-10315</td>\n",
       "      <td>2015-10-04</td>\n",
       "      <td>26.960</td>\n",
       "      <td>2</td>\n",
       "      <td>1</td>\n",
       "      <td>1</td>\n",
       "      <td>26.960</td>\n",
       "      <td>2.0</td>\n",
       "      <td>1.0</td>\n",
       "      <td>384.0</td>\n",
       "      <td>0</td>\n",
       "    </tr>\n",
       "    <tr>\n",
       "      <th>3</th>\n",
       "      <td>AA-10315</td>\n",
       "      <td>2016-03-03</td>\n",
       "      <td>4406.072</td>\n",
       "      <td>14</td>\n",
       "      <td>4</td>\n",
       "      <td>1</td>\n",
       "      <td>4406.072</td>\n",
       "      <td>14.0</td>\n",
       "      <td>4.0</td>\n",
       "      <td>151.0</td>\n",
       "      <td>1</td>\n",
       "    </tr>\n",
       "    <tr>\n",
       "      <th>4</th>\n",
       "      <td>AA-10315</td>\n",
       "      <td>2017-06-29</td>\n",
       "      <td>374.480</td>\n",
       "      <td>5</td>\n",
       "      <td>2</td>\n",
       "      <td>1</td>\n",
       "      <td>374.480</td>\n",
       "      <td>5.0</td>\n",
       "      <td>2.0</td>\n",
       "      <td>483.0</td>\n",
       "      <td>0</td>\n",
       "    </tr>\n",
       "  </tbody>\n",
       "</table>\n",
       "</div>"
      ],
      "text/plain": [
       "  customer_id order_date     sales  quantity  product_id  order_id  \\\n",
       "0    AA-10315 2014-03-31   726.548         4           2         1   \n",
       "1    AA-10315 2014-09-15    29.500         5           2         1   \n",
       "2    AA-10315 2015-10-04    26.960         2           1         1   \n",
       "3    AA-10315 2016-03-03  4406.072        14           4         1   \n",
       "4    AA-10315 2017-06-29   374.480         5           2         1   \n",
       "\n",
       "   dollar_roll_sum_90d  product_roll_sum_90d  distinct_product_roll_sum_90d  \\\n",
       "0              726.548                   4.0                            2.0   \n",
       "1               29.500                   5.0                            2.0   \n",
       "2               26.960                   2.0                            1.0   \n",
       "3             4406.072                  14.0                            4.0   \n",
       "4              374.480                   5.0                            2.0   \n",
       "\n",
       "   last_visit_ndays  cluster  \n",
       "0            1457.0        0  \n",
       "1             168.0        0  \n",
       "2             384.0        0  \n",
       "3             151.0        1  \n",
       "4             483.0        0  "
      ]
     },
     "execution_count": 37,
     "metadata": {},
     "output_type": "execute_result"
    }
   ],
   "source": [
    "ss_txn_rfm.head() # preview the data"
   ]
  },
  {
   "cell_type": "markdown",
   "metadata": {},
   "source": [
    "### Examine cluster centers\n",
    "\n",
    "- **cluster**: <ins>*Large, follow-up Transaction Days*</ins>\n",
    "  - The smaller cluster (23% of customer order days).  Defining characteristic: Larger transaction days with more product types.\n",
    "  - Transactions consist of more products and items.\n",
    "    - However, the item::product ratio is similar to the other cluster, indicating that larger transaction size is primarily driven by the # of distinct products purchased (not a higher # of each product)\n",
    "  - Prior transactions are more recent, although not overwhelmingly so.\n",
    "  - Larger rolling window spend, but mostly (not entirely) driven by the transaction itself.\n",
    "- **cluster**: <ins>*Small, stand-alone Transaction Days*</ins>\n",
    "  - The larger cluster (77% of observations).  Defining characteristic: Smaller transaction days with fewer product types.\n",
    "  - As opposed to the other cluster, these transactions tend to be smaller (due to fewer products purchased), and a bit further removed from prior transactions."
   ]
  },
  {
   "cell_type": "markdown",
   "metadata": {},
   "source": [
    "Cluster centers, based on the normalized attributes.  Units are in standard deviations, with negative values indicating a below average score and positive values indicating above average."
   ]
  },
  {
   "cell_type": "code",
   "execution_count": 38,
   "metadata": {},
   "outputs": [
    {
     "data": {
      "text/html": [
       "<div>\n",
       "<style scoped>\n",
       "    .dataframe tbody tr th:only-of-type {\n",
       "        vertical-align: middle;\n",
       "    }\n",
       "\n",
       "    .dataframe tbody tr th {\n",
       "        vertical-align: top;\n",
       "    }\n",
       "\n",
       "    .dataframe thead th {\n",
       "        text-align: right;\n",
       "    }\n",
       "</style>\n",
       "<table border=\"1\" class=\"dataframe\">\n",
       "  <thead>\n",
       "    <tr style=\"text-align: right;\">\n",
       "      <th></th>\n",
       "      <th>sales</th>\n",
       "      <th>quantity</th>\n",
       "      <th>product_id</th>\n",
       "      <th>order_id</th>\n",
       "      <th>dollar_roll_sum_90d</th>\n",
       "      <th>product_roll_sum_90d</th>\n",
       "      <th>distinct_product_roll_sum_90d</th>\n",
       "      <th>last_visit_ndays</th>\n",
       "    </tr>\n",
       "  </thead>\n",
       "  <tbody>\n",
       "    <tr>\n",
       "      <th>0</th>\n",
       "      <td>-0.226494</td>\n",
       "      <td>-0.373551</td>\n",
       "      <td>-0.376214</td>\n",
       "      <td>-0.022648</td>\n",
       "      <td>-0.260411</td>\n",
       "      <td>-0.402840</td>\n",
       "      <td>-0.393806</td>\n",
       "      <td>0.046687</td>\n",
       "    </tr>\n",
       "    <tr>\n",
       "      <th>1</th>\n",
       "      <td>0.750739</td>\n",
       "      <td>1.238176</td>\n",
       "      <td>1.247001</td>\n",
       "      <td>0.075069</td>\n",
       "      <td>0.863160</td>\n",
       "      <td>1.335256</td>\n",
       "      <td>1.305312</td>\n",
       "      <td>-0.154748</td>\n",
       "    </tr>\n",
       "  </tbody>\n",
       "</table>\n",
       "</div>"
      ],
      "text/plain": [
       "      sales  quantity  product_id  order_id  dollar_roll_sum_90d  \\\n",
       "0 -0.226494 -0.373551   -0.376214 -0.022648            -0.260411   \n",
       "1  0.750739  1.238176    1.247001  0.075069             0.863160   \n",
       "\n",
       "   product_roll_sum_90d  distinct_product_roll_sum_90d  last_visit_ndays  \n",
       "0             -0.402840                      -0.393806          0.046687  \n",
       "1              1.335256                       1.305312         -0.154748  "
      ]
     },
     "execution_count": 38,
     "metadata": {},
     "output_type": "execute_result"
    }
   ],
   "source": [
    "# examine cluster centers\n",
    "pd.DataFrame(kmeans.cluster_centers_, columns=scale_cols)"
   ]
  },
  {
   "cell_type": "markdown",
   "metadata": {},
   "source": [
    "The relative size of each cluster (*percent of customer order days*).  Small, stand-alone transaction days are much more common."
   ]
  },
  {
   "cell_type": "code",
   "execution_count": 39,
   "metadata": {},
   "outputs": [
    {
     "data": {
      "text/plain": [
       "0    0.77\n",
       "1    0.23\n",
       "Name: cluster, dtype: float64"
      ]
     },
     "execution_count": 39,
     "metadata": {},
     "output_type": "execute_result"
    }
   ],
   "source": [
    "# relative size of each cluster\n",
    "round(ss_txn_rfm['cluster'].value_counts(normalize = True).sort_index(), 2)"
   ]
  },
  {
   "cell_type": "markdown",
   "metadata": {},
   "source": [
    "The cluster centers, based on the original data values."
   ]
  },
  {
   "cell_type": "code",
   "execution_count": 40,
   "metadata": {},
   "outputs": [
    {
     "data": {
      "text/html": [
       "<div>\n",
       "<style scoped>\n",
       "    .dataframe tbody tr th:only-of-type {\n",
       "        vertical-align: middle;\n",
       "    }\n",
       "\n",
       "    .dataframe tbody tr th {\n",
       "        vertical-align: top;\n",
       "    }\n",
       "\n",
       "    .dataframe thead th {\n",
       "        text-align: right;\n",
       "    }\n",
       "</style>\n",
       "<table border=\"1\" class=\"dataframe\">\n",
       "  <thead>\n",
       "    <tr style=\"text-align: right;\">\n",
       "      <th></th>\n",
       "      <th>sales</th>\n",
       "      <th>quantity</th>\n",
       "      <th>product_id</th>\n",
       "      <th>order_id</th>\n",
       "      <th>dollar_roll_sum_90d</th>\n",
       "      <th>product_roll_sum_90d</th>\n",
       "      <th>distinct_product_roll_sum_90d</th>\n",
       "      <th>last_visit_ndays</th>\n",
       "    </tr>\n",
       "    <tr>\n",
       "      <th>cluster</th>\n",
       "      <th></th>\n",
       "      <th></th>\n",
       "      <th></th>\n",
       "      <th></th>\n",
       "      <th></th>\n",
       "      <th></th>\n",
       "      <th></th>\n",
       "      <th></th>\n",
       "    </tr>\n",
       "  </thead>\n",
       "  <tbody>\n",
       "    <tr>\n",
       "      <th>0</th>\n",
       "      <td>243.171932</td>\n",
       "      <td>5.256524</td>\n",
       "      <td>1.467380</td>\n",
       "      <td>1.002088</td>\n",
       "      <td>334.811032</td>\n",
       "      <td>7.081681</td>\n",
       "      <td>1.966075</td>\n",
       "      <td>413.542797</td>\n",
       "    </tr>\n",
       "    <tr>\n",
       "      <th>1</th>\n",
       "      <td>1177.039670</td>\n",
       "      <td>15.284483</td>\n",
       "      <td>3.761207</td>\n",
       "      <td>1.007759</td>\n",
       "      <td>1642.979568</td>\n",
       "      <td>21.880172</td>\n",
       "      <td>5.461207</td>\n",
       "      <td>313.300000</td>\n",
       "    </tr>\n",
       "  </tbody>\n",
       "</table>\n",
       "</div>"
      ],
      "text/plain": [
       "               sales   quantity  product_id  order_id  dollar_roll_sum_90d  \\\n",
       "cluster                                                                      \n",
       "0         243.171932   5.256524    1.467380  1.002088           334.811032   \n",
       "1        1177.039670  15.284483    3.761207  1.007759          1642.979568   \n",
       "\n",
       "         product_roll_sum_90d  distinct_product_roll_sum_90d  last_visit_ndays  \n",
       "cluster                                                                         \n",
       "0                    7.081681                       1.966075        413.542797  \n",
       "1                   21.880172                       5.461207        313.300000  "
      ]
     },
     "metadata": {},
     "output_type": "display_data"
    }
   ],
   "source": [
    "# columns to examine means by cluster\n",
    "display(ss_txn_rfm.groupby(['cluster']).mean())"
   ]
  },
  {
   "cell_type": "markdown",
   "metadata": {},
   "source": [
    "### Aggregate the data: *Customers*\n",
    "\n",
    "Above we've segmented by customer order days.  Now let's do the same for ***customers***.\n",
    "\n",
    "We'll start by grouping on `customer_id`, and aggregating on the customer order day RFM segmentation data.\n",
    "\n",
    "*Note: In aggregating `cluster`, we want to count the cases (per customer) where `cluster = 1`.  Since the only values that `cluster` takes are `{0, 1}`, using `sum()` works just fine.*"
   ]
  },
  {
   "cell_type": "code",
   "execution_count": 41,
   "metadata": {},
   "outputs": [
    {
     "data": {
      "text/html": [
       "<div>\n",
       "<style scoped>\n",
       "    .dataframe tbody tr th:only-of-type {\n",
       "        vertical-align: middle;\n",
       "    }\n",
       "\n",
       "    .dataframe tbody tr th {\n",
       "        vertical-align: top;\n",
       "    }\n",
       "\n",
       "    .dataframe thead th {\n",
       "        text-align: right;\n",
       "    }\n",
       "</style>\n",
       "<table border=\"1\" class=\"dataframe\">\n",
       "  <thead>\n",
       "    <tr style=\"text-align: right;\">\n",
       "      <th></th>\n",
       "      <th>order_days_cnt</th>\n",
       "      <th>high_rfm_order_days</th>\n",
       "      <th>high_rfm_order_day_pct</th>\n",
       "    </tr>\n",
       "    <tr>\n",
       "      <th>customer_id</th>\n",
       "      <th></th>\n",
       "      <th></th>\n",
       "      <th></th>\n",
       "    </tr>\n",
       "  </thead>\n",
       "  <tbody>\n",
       "    <tr>\n",
       "      <th>AA-10315</th>\n",
       "      <td>5</td>\n",
       "      <td>1</td>\n",
       "      <td>0.2</td>\n",
       "    </tr>\n",
       "    <tr>\n",
       "      <th>AA-10375</th>\n",
       "      <td>9</td>\n",
       "      <td>0</td>\n",
       "      <td>0.0</td>\n",
       "    </tr>\n",
       "    <tr>\n",
       "      <th>AA-10480</th>\n",
       "      <td>4</td>\n",
       "      <td>2</td>\n",
       "      <td>0.5</td>\n",
       "    </tr>\n",
       "    <tr>\n",
       "      <th>AA-10645</th>\n",
       "      <td>6</td>\n",
       "      <td>3</td>\n",
       "      <td>0.5</td>\n",
       "    </tr>\n",
       "    <tr>\n",
       "      <th>AB-10015</th>\n",
       "      <td>3</td>\n",
       "      <td>0</td>\n",
       "      <td>0.0</td>\n",
       "    </tr>\n",
       "  </tbody>\n",
       "</table>\n",
       "</div>"
      ],
      "text/plain": [
       "             order_days_cnt  high_rfm_order_days  high_rfm_order_day_pct\n",
       "customer_id                                                             \n",
       "AA-10315                  5                    1                     0.2\n",
       "AA-10375                  9                    0                     0.0\n",
       "AA-10480                  4                    2                     0.5\n",
       "AA-10645                  6                    3                     0.5\n",
       "AB-10015                  3                    0                     0.0"
      ]
     },
     "execution_count": 41,
     "metadata": {},
     "output_type": "execute_result"
    }
   ],
   "source": [
    "# aggregate order day, RFM to customer level.\n",
    "# nb: cluster: {0, 1} >> {small, large}\n",
    "ss_cust_rfm = ss_txn_rfm.groupby(['customer_id']).agg({\n",
    "    'order_date': 'count',\n",
    "    'cluster': 'sum'\n",
    "})\n",
    "\n",
    "# rename attributes\n",
    "ss_cust_rfm = ss_cust_rfm.rename(columns={\n",
    "    'order_date': 'order_days_cnt', \n",
    "    'cluster': 'high_rfm_order_days'\n",
    "    })\n",
    "\n",
    "# calculate % of order days in high RFM cluster\n",
    "ss_cust_rfm['high_rfm_order_day_pct'] = ss_cust_rfm['high_rfm_order_days'] / ss_cust_rfm['order_days_cnt']\n",
    "\n",
    "# preview data\n",
    "ss_cust_rfm.head()"
   ]
  },
  {
   "cell_type": "markdown",
   "metadata": {},
   "source": [
    "### Additional feature engineering\n",
    "\n",
    "Now that we've aggregated the order day RFM data to the customer level, we'll also want to aggregate some attributes from the original product transaction grain up to the customer level.\n",
    "\n",
    "Before we make those aggregations, we'll engineer a few new features.  First, how recently each product transaction was made (assuming today is the day after our data ends, 2017-12-31)."
   ]
  },
  {
   "cell_type": "code",
   "execution_count": 42,
   "metadata": {},
   "outputs": [],
   "source": [
    "# calculate txn recency\n",
    "ss_txn['days_since_order'] = (ss_txn['order_date'].max() - ss_txn['order_date']).dt.days + 1"
   ]
  },
  {
   "cell_type": "markdown",
   "metadata": {},
   "source": [
    "Next, we'll onehot encode columns that we want to aggregate to the customer level.  From our data exploration earlier, we found that - aside from `ship_mode` - the information captured by `segment` overlapped quite heavily.\n",
    "\n",
    "We decide not to include the `region` and `category` features in our customer aggregation for this reason."
   ]
  },
  {
   "cell_type": "code",
   "execution_count": 43,
   "metadata": {},
   "outputs": [],
   "source": [
    "onehot_cols = ['segment', 'ship_mode']\n",
    "\n",
    "# initialize class and fit our data\n",
    "onehot = OneHotEncoder(sparse = False, drop = None) # initialize one-hot-encoder\n",
    "onehot.fit(ss_txn[onehot_cols])\n",
    "\n",
    "# properly name columns\n",
    "onehot_names = onehot.get_feature_names(onehot_cols).astype(str)\n",
    "onehot_names = np.char.replace(onehot_names, \".\", \"_\") # replace '.'\n",
    "onehot_names = np.char.replace(onehot_names, \" \", \"_\") # replace \" \"\n",
    "onehot_names = np.char.lower(onehot_names) # lowercase\n",
    "\n",
    "# onehot.transform to create encoded variables\n",
    "# note: wrap in pd.dataframe (default returns np array)\n",
    "ss_txn[onehot_names] = pd.DataFrame(onehot.transform(ss_txn[onehot_cols]), columns = onehot_names)"
   ]
  },
  {
   "cell_type": "markdown",
   "metadata": {},
   "source": [
    "### Customer-level Aggregation\n",
    "\n",
    "And now we'll aggregate our various transaction-level metrics up to the customer level.\n",
    "\n",
    "In particular, we'll be aggregating data on sales volume (including discounts and profit), sales recency, shipping method, and customer business segment."
   ]
  },
  {
   "cell_type": "code",
   "execution_count": 44,
   "metadata": {},
   "outputs": [],
   "source": [
    "# aggregate product txn to customer\n",
    "ss_cust_txn = ss_txn.groupby(['customer_id']).agg({\n",
    "    'order_id': 'count',\n",
    "    'profit': 'sum',\n",
    "    'discount_amt': 'sum',\n",
    "    'sales': 'sum',\n",
    "    'sales_before_discount': 'sum',\n",
    "    'segment_corporate': 'sum',\n",
    "    'segment_home_office': 'sum',\n",
    "    'ship_mode_same_day': 'sum',\n",
    "    'days_since_order': 'min'\n",
    "})\n",
    "\n",
    "# rename columns\n",
    "ss_cust_txn = ss_cust_txn.rename(columns={\n",
    "    'order_id': 'product_order_cnt', \n",
    "    'profit': 'profit_amt',\n",
    "    'discount_amt': 'discount_amt',\n",
    "    'sales': 'sales_amt_after_discount',\n",
    "    'sales_before_discount': 'sales_amt_before_discount',\n",
    "    'segment_corporate': 'order_cnt_seg_corp',\n",
    "    'segment_home_office': 'order_cnt_seg_home',\n",
    "    'ship_mode_same_day': 'order_cnt_ship_same_day',\n",
    "    'days_since_order': 'days_since_recent_order'\n",
    "    })"
   ]
  },
  {
   "cell_type": "markdown",
   "metadata": {},
   "source": [
    "Our product transaction data is now aggregated to the customer-level.  Let's normalize a few of our metrics based on total sales and order volume.  That way the magnitude of profits and discounts won't conflate with overall sales magnitude."
   ]
  },
  {
   "cell_type": "code",
   "execution_count": 45,
   "metadata": {},
   "outputs": [],
   "source": [
    "ss_cust_txn['profit_rate'] = ss_cust_txn['profit_amt'] / ss_cust_txn['sales_amt_after_discount']\n",
    "ss_cust_txn['discount_rate'] = ss_cust_txn['discount_amt'] / ss_cust_txn['sales_amt_before_discount']\n",
    "\n",
    "ss_cust_txn['seg_rate_corp'] = ss_cust_txn['order_cnt_seg_corp'] / ss_cust_txn['product_order_cnt']\n",
    "ss_cust_txn['seg_rate_home'] = ss_cust_txn['order_cnt_seg_home'] / ss_cust_txn['product_order_cnt']\n",
    "\n",
    "ss_cust_txn['ship_rate_same_day'] = ss_cust_txn['order_cnt_ship_same_day'] / ss_cust_txn['product_order_cnt']"
   ]
  },
  {
   "cell_type": "markdown",
   "metadata": {},
   "source": [
    "Now let's join the customer-level RFM segment data with the aggregated transaction data."
   ]
  },
  {
   "cell_type": "code",
   "execution_count": 46,
   "metadata": {},
   "outputs": [
    {
     "name": "stdout",
     "output_type": "stream",
     "text": [
      "shape: (793, 17)\n"
     ]
    },
    {
     "data": {
      "text/html": [
       "<div>\n",
       "<style scoped>\n",
       "    .dataframe tbody tr th:only-of-type {\n",
       "        vertical-align: middle;\n",
       "    }\n",
       "\n",
       "    .dataframe tbody tr th {\n",
       "        vertical-align: top;\n",
       "    }\n",
       "\n",
       "    .dataframe thead th {\n",
       "        text-align: right;\n",
       "    }\n",
       "</style>\n",
       "<table border=\"1\" class=\"dataframe\">\n",
       "  <thead>\n",
       "    <tr style=\"text-align: right;\">\n",
       "      <th></th>\n",
       "      <th>order_days_cnt</th>\n",
       "      <th>high_rfm_order_days</th>\n",
       "      <th>high_rfm_order_day_pct</th>\n",
       "      <th>product_order_cnt</th>\n",
       "      <th>profit_amt</th>\n",
       "      <th>discount_amt</th>\n",
       "      <th>sales_amt_after_discount</th>\n",
       "      <th>sales_amt_before_discount</th>\n",
       "      <th>order_cnt_seg_corp</th>\n",
       "      <th>order_cnt_seg_home</th>\n",
       "      <th>order_cnt_ship_same_day</th>\n",
       "      <th>days_since_recent_order</th>\n",
       "      <th>profit_rate</th>\n",
       "      <th>discount_rate</th>\n",
       "      <th>seg_rate_corp</th>\n",
       "      <th>seg_rate_home</th>\n",
       "      <th>ship_rate_same_day</th>\n",
       "    </tr>\n",
       "    <tr>\n",
       "      <th>customer_id</th>\n",
       "      <th></th>\n",
       "      <th></th>\n",
       "      <th></th>\n",
       "      <th></th>\n",
       "      <th></th>\n",
       "      <th></th>\n",
       "      <th></th>\n",
       "      <th></th>\n",
       "      <th></th>\n",
       "      <th></th>\n",
       "      <th></th>\n",
       "      <th></th>\n",
       "      <th></th>\n",
       "      <th></th>\n",
       "      <th></th>\n",
       "      <th></th>\n",
       "      <th></th>\n",
       "    </tr>\n",
       "  </thead>\n",
       "  <tbody>\n",
       "    <tr>\n",
       "      <th>AA-10315</th>\n",
       "      <td>5</td>\n",
       "      <td>1</td>\n",
       "      <td>0.2</td>\n",
       "      <td>11</td>\n",
       "      <td>-362.8825</td>\n",
       "      <td>1269.910</td>\n",
       "      <td>5563.560</td>\n",
       "      <td>6833.47</td>\n",
       "      <td>0.0</td>\n",
       "      <td>0.0</td>\n",
       "      <td>0.0</td>\n",
       "      <td>185</td>\n",
       "      <td>-0.065225</td>\n",
       "      <td>0.185837</td>\n",
       "      <td>0.0</td>\n",
       "      <td>0.0</td>\n",
       "      <td>0.000000</td>\n",
       "    </tr>\n",
       "    <tr>\n",
       "      <th>AA-10375</th>\n",
       "      <td>9</td>\n",
       "      <td>0</td>\n",
       "      <td>0.0</td>\n",
       "      <td>15</td>\n",
       "      <td>277.3824</td>\n",
       "      <td>43.180</td>\n",
       "      <td>1056.390</td>\n",
       "      <td>1099.57</td>\n",
       "      <td>0.0</td>\n",
       "      <td>0.0</td>\n",
       "      <td>0.0</td>\n",
       "      <td>20</td>\n",
       "      <td>0.262576</td>\n",
       "      <td>0.039270</td>\n",
       "      <td>0.0</td>\n",
       "      <td>0.0</td>\n",
       "      <td>0.000000</td>\n",
       "    </tr>\n",
       "    <tr>\n",
       "      <th>AA-10480</th>\n",
       "      <td>4</td>\n",
       "      <td>2</td>\n",
       "      <td>0.5</td>\n",
       "      <td>12</td>\n",
       "      <td>435.8274</td>\n",
       "      <td>3.888</td>\n",
       "      <td>1790.512</td>\n",
       "      <td>1794.40</td>\n",
       "      <td>0.0</td>\n",
       "      <td>0.0</td>\n",
       "      <td>1.0</td>\n",
       "      <td>260</td>\n",
       "      <td>0.243409</td>\n",
       "      <td>0.002167</td>\n",
       "      <td>0.0</td>\n",
       "      <td>0.0</td>\n",
       "      <td>0.083333</td>\n",
       "    </tr>\n",
       "    <tr>\n",
       "      <th>AA-10645</th>\n",
       "      <td>6</td>\n",
       "      <td>3</td>\n",
       "      <td>0.5</td>\n",
       "      <td>18</td>\n",
       "      <td>857.8033</td>\n",
       "      <td>719.775</td>\n",
       "      <td>5086.935</td>\n",
       "      <td>5806.71</td>\n",
       "      <td>0.0</td>\n",
       "      <td>0.0</td>\n",
       "      <td>0.0</td>\n",
       "      <td>56</td>\n",
       "      <td>0.168629</td>\n",
       "      <td>0.123956</td>\n",
       "      <td>0.0</td>\n",
       "      <td>0.0</td>\n",
       "      <td>0.000000</td>\n",
       "    </tr>\n",
       "    <tr>\n",
       "      <th>AB-10015</th>\n",
       "      <td>3</td>\n",
       "      <td>0</td>\n",
       "      <td>0.0</td>\n",
       "      <td>6</td>\n",
       "      <td>129.3465</td>\n",
       "      <td>15.334</td>\n",
       "      <td>886.156</td>\n",
       "      <td>901.49</td>\n",
       "      <td>0.0</td>\n",
       "      <td>0.0</td>\n",
       "      <td>0.0</td>\n",
       "      <td>416</td>\n",
       "      <td>0.145964</td>\n",
       "      <td>0.017010</td>\n",
       "      <td>0.0</td>\n",
       "      <td>0.0</td>\n",
       "      <td>0.000000</td>\n",
       "    </tr>\n",
       "  </tbody>\n",
       "</table>\n",
       "</div>"
      ],
      "text/plain": [
       "             order_days_cnt  high_rfm_order_days  high_rfm_order_day_pct  \\\n",
       "customer_id                                                                \n",
       "AA-10315                  5                    1                     0.2   \n",
       "AA-10375                  9                    0                     0.0   \n",
       "AA-10480                  4                    2                     0.5   \n",
       "AA-10645                  6                    3                     0.5   \n",
       "AB-10015                  3                    0                     0.0   \n",
       "\n",
       "             product_order_cnt  profit_amt  discount_amt  \\\n",
       "customer_id                                                \n",
       "AA-10315                    11   -362.8825      1269.910   \n",
       "AA-10375                    15    277.3824        43.180   \n",
       "AA-10480                    12    435.8274         3.888   \n",
       "AA-10645                    18    857.8033       719.775   \n",
       "AB-10015                     6    129.3465        15.334   \n",
       "\n",
       "             sales_amt_after_discount  sales_amt_before_discount  \\\n",
       "customer_id                                                        \n",
       "AA-10315                     5563.560                    6833.47   \n",
       "AA-10375                     1056.390                    1099.57   \n",
       "AA-10480                     1790.512                    1794.40   \n",
       "AA-10645                     5086.935                    5806.71   \n",
       "AB-10015                      886.156                     901.49   \n",
       "\n",
       "             order_cnt_seg_corp  order_cnt_seg_home  order_cnt_ship_same_day  \\\n",
       "customer_id                                                                    \n",
       "AA-10315                    0.0                 0.0                      0.0   \n",
       "AA-10375                    0.0                 0.0                      0.0   \n",
       "AA-10480                    0.0                 0.0                      1.0   \n",
       "AA-10645                    0.0                 0.0                      0.0   \n",
       "AB-10015                    0.0                 0.0                      0.0   \n",
       "\n",
       "             days_since_recent_order  profit_rate  discount_rate  \\\n",
       "customer_id                                                        \n",
       "AA-10315                         185    -0.065225       0.185837   \n",
       "AA-10375                          20     0.262576       0.039270   \n",
       "AA-10480                         260     0.243409       0.002167   \n",
       "AA-10645                          56     0.168629       0.123956   \n",
       "AB-10015                         416     0.145964       0.017010   \n",
       "\n",
       "             seg_rate_corp  seg_rate_home  ship_rate_same_day  \n",
       "customer_id                                                    \n",
       "AA-10315               0.0            0.0            0.000000  \n",
       "AA-10375               0.0            0.0            0.000000  \n",
       "AA-10480               0.0            0.0            0.083333  \n",
       "AA-10645               0.0            0.0            0.000000  \n",
       "AB-10015               0.0            0.0            0.000000  "
      ]
     },
     "execution_count": 46,
     "metadata": {},
     "output_type": "execute_result"
    }
   ],
   "source": [
    "ss_cust = ss_cust_rfm.merge(ss_cust_txn, on='customer_id', how='left')\n",
    "\n",
    "# preview data\n",
    "print('shape:', ss_cust.shape)\n",
    "ss_cust.head()"
   ]
  },
  {
   "cell_type": "markdown",
   "metadata": {},
   "source": [
    "Examining the data structure, we see all 793 customers, with no null values."
   ]
  },
  {
   "cell_type": "code",
   "execution_count": 47,
   "metadata": {},
   "outputs": [
    {
     "name": "stdout",
     "output_type": "stream",
     "text": [
      "<class 'pandas.core.frame.DataFrame'>\n",
      "Index: 793 entries, AA-10315 to ZD-21925\n",
      "Data columns (total 17 columns):\n",
      " #   Column                     Non-Null Count  Dtype  \n",
      "---  ------                     --------------  -----  \n",
      " 0   order_days_cnt             793 non-null    int64  \n",
      " 1   high_rfm_order_days        793 non-null    int32  \n",
      " 2   high_rfm_order_day_pct     793 non-null    float64\n",
      " 3   product_order_cnt          793 non-null    int64  \n",
      " 4   profit_amt                 793 non-null    float64\n",
      " 5   discount_amt               793 non-null    float64\n",
      " 6   sales_amt_after_discount   793 non-null    float64\n",
      " 7   sales_amt_before_discount  793 non-null    float64\n",
      " 8   order_cnt_seg_corp         793 non-null    float64\n",
      " 9   order_cnt_seg_home         793 non-null    float64\n",
      " 10  order_cnt_ship_same_day    793 non-null    float64\n",
      " 11  days_since_recent_order    793 non-null    int64  \n",
      " 12  profit_rate                793 non-null    float64\n",
      " 13  discount_rate              793 non-null    float64\n",
      " 14  seg_rate_corp              793 non-null    float64\n",
      " 15  seg_rate_home              793 non-null    float64\n",
      " 16  ship_rate_same_day         793 non-null    float64\n",
      "dtypes: float64(13), int32(1), int64(3)\n",
      "memory usage: 108.4+ KB\n"
     ]
    }
   ],
   "source": [
    "# data structure\n",
    "ss_cust.info()"
   ]
  },
  {
   "cell_type": "markdown",
   "metadata": {},
   "source": [
    "Now let's specify the subset of columns to include in cluster analysis.  We'll store them in a separate dataframe."
   ]
  },
  {
   "cell_type": "code",
   "execution_count": 48,
   "metadata": {},
   "outputs": [],
   "source": [
    "kmean_cols = [\n",
    "    'order_days_cnt', \n",
    "    'high_rfm_order_day_pct',\n",
    "    'sales_amt_after_discount', \n",
    "    'profit_rate',\n",
    "    'discount_rate',\n",
    "    'seg_rate_corp',\n",
    "    'seg_rate_home',\n",
    "    'ship_rate_same_day',\n",
    "    'days_since_recent_order'\n",
    "    ]\n",
    "\n",
    "# hard copy (no link)\n",
    "ss_cust_kmeans = ss_cust[kmean_cols].copy()"
   ]
  },
  {
   "cell_type": "markdown",
   "metadata": {},
   "source": [
    "Standardize the data before clustering.  As we did for our RFM transaction clustering, we must take this step to ensure that attributes with larger magnitude values are not overweighted (kmeans is a distance-based algorithm)."
   ]
  },
  {
   "cell_type": "code",
   "execution_count": 49,
   "metadata": {},
   "outputs": [],
   "source": [
    "# normalize the data\n",
    "scale_cols = ss_cust_kmeans.columns.difference(['customer_id'], sort = False)\n",
    "ss_cust_kmeans[scale_cols] = StandardScaler().fit_transform(ss_cust_kmeans[scale_cols]) "
   ]
  },
  {
   "cell_type": "markdown",
   "metadata": {},
   "source": [
    "Previewing data that kmeans will be fit on, and verifying our data looks as expected.  We can proceed next to fitting the model."
   ]
  },
  {
   "cell_type": "code",
   "execution_count": 50,
   "metadata": {},
   "outputs": [
    {
     "data": {
      "text/html": [
       "<div>\n",
       "<style scoped>\n",
       "    .dataframe tbody tr th:only-of-type {\n",
       "        vertical-align: middle;\n",
       "    }\n",
       "\n",
       "    .dataframe tbody tr th {\n",
       "        vertical-align: top;\n",
       "    }\n",
       "\n",
       "    .dataframe thead th {\n",
       "        text-align: right;\n",
       "    }\n",
       "</style>\n",
       "<table border=\"1\" class=\"dataframe\">\n",
       "  <thead>\n",
       "    <tr style=\"text-align: right;\">\n",
       "      <th></th>\n",
       "      <th>order_days_cnt</th>\n",
       "      <th>high_rfm_order_day_pct</th>\n",
       "      <th>sales_amt_after_discount</th>\n",
       "      <th>profit_rate</th>\n",
       "      <th>discount_rate</th>\n",
       "      <th>seg_rate_corp</th>\n",
       "      <th>seg_rate_home</th>\n",
       "      <th>ship_rate_same_day</th>\n",
       "      <th>days_since_recent_order</th>\n",
       "    </tr>\n",
       "    <tr>\n",
       "      <th>customer_id</th>\n",
       "      <th></th>\n",
       "      <th></th>\n",
       "      <th></th>\n",
       "      <th></th>\n",
       "      <th></th>\n",
       "      <th></th>\n",
       "      <th></th>\n",
       "      <th></th>\n",
       "      <th></th>\n",
       "    </tr>\n",
       "  </thead>\n",
       "  <tbody>\n",
       "    <tr>\n",
       "      <th>AA-10315</th>\n",
       "      <td>-0.511536</td>\n",
       "      <td>-0.105648</td>\n",
       "      <td>1.015112</td>\n",
       "      <td>-0.915329</td>\n",
       "      <td>0.064502</td>\n",
       "      <td>-0.650921</td>\n",
       "      <td>-0.479017</td>\n",
       "      <td>-0.468613</td>\n",
       "      <td>0.199889</td>\n",
       "    </tr>\n",
       "    <tr>\n",
       "      <th>AA-10375</th>\n",
       "      <td>1.068397</td>\n",
       "      <td>-1.078003</td>\n",
       "      <td>-0.700590</td>\n",
       "      <td>0.794657</td>\n",
       "      <td>-1.091936</td>\n",
       "      <td>-0.650921</td>\n",
       "      <td>-0.479017</td>\n",
       "      <td>-0.468613</td>\n",
       "      <td>-0.686762</td>\n",
       "    </tr>\n",
       "    <tr>\n",
       "      <th>AA-10480</th>\n",
       "      <td>-0.906519</td>\n",
       "      <td>1.352883</td>\n",
       "      <td>-0.421139</td>\n",
       "      <td>0.694675</td>\n",
       "      <td>-1.384686</td>\n",
       "      <td>-0.650921</td>\n",
       "      <td>-0.479017</td>\n",
       "      <td>0.263042</td>\n",
       "      <td>0.602912</td>\n",
       "    </tr>\n",
       "    <tr>\n",
       "      <th>AA-10645</th>\n",
       "      <td>-0.116552</td>\n",
       "      <td>1.352883</td>\n",
       "      <td>0.833680</td>\n",
       "      <td>0.304578</td>\n",
       "      <td>-0.423750</td>\n",
       "      <td>-0.650921</td>\n",
       "      <td>-0.479017</td>\n",
       "      <td>-0.468613</td>\n",
       "      <td>-0.493311</td>\n",
       "    </tr>\n",
       "    <tr>\n",
       "      <th>AB-10015</th>\n",
       "      <td>-1.301502</td>\n",
       "      <td>-1.078003</td>\n",
       "      <td>-0.765391</td>\n",
       "      <td>0.186344</td>\n",
       "      <td>-1.267573</td>\n",
       "      <td>-0.650921</td>\n",
       "      <td>-0.479017</td>\n",
       "      <td>-0.468613</td>\n",
       "      <td>1.441199</td>\n",
       "    </tr>\n",
       "  </tbody>\n",
       "</table>\n",
       "</div>"
      ],
      "text/plain": [
       "             order_days_cnt  high_rfm_order_day_pct  sales_amt_after_discount  \\\n",
       "customer_id                                                                     \n",
       "AA-10315          -0.511536               -0.105648                  1.015112   \n",
       "AA-10375           1.068397               -1.078003                 -0.700590   \n",
       "AA-10480          -0.906519                1.352883                 -0.421139   \n",
       "AA-10645          -0.116552                1.352883                  0.833680   \n",
       "AB-10015          -1.301502               -1.078003                 -0.765391   \n",
       "\n",
       "             profit_rate  discount_rate  seg_rate_corp  seg_rate_home  \\\n",
       "customer_id                                                             \n",
       "AA-10315       -0.915329       0.064502      -0.650921      -0.479017   \n",
       "AA-10375        0.794657      -1.091936      -0.650921      -0.479017   \n",
       "AA-10480        0.694675      -1.384686      -0.650921      -0.479017   \n",
       "AA-10645        0.304578      -0.423750      -0.650921      -0.479017   \n",
       "AB-10015        0.186344      -1.267573      -0.650921      -0.479017   \n",
       "\n",
       "             ship_rate_same_day  days_since_recent_order  \n",
       "customer_id                                               \n",
       "AA-10315              -0.468613                 0.199889  \n",
       "AA-10375              -0.468613                -0.686762  \n",
       "AA-10480               0.263042                 0.602912  \n",
       "AA-10645              -0.468613                -0.493311  \n",
       "AB-10015              -0.468613                 1.441199  "
      ]
     },
     "execution_count": 50,
     "metadata": {},
     "output_type": "execute_result"
    }
   ],
   "source": [
    "ss_cust_kmeans.head()"
   ]
  },
  {
   "cell_type": "markdown",
   "metadata": {},
   "source": [
    "### kmeans clustering\n",
    "\n",
    "Now we initialize and fit kmeans on scaled data using 4-cluster solution.  \n",
    "\n",
    "After fitting the model, we make our predictions on the original, unscaled data (for easier interpretability)."
   ]
  },
  {
   "cell_type": "code",
   "execution_count": 51,
   "metadata": {},
   "outputs": [],
   "source": [
    "n_clusters = 4 # set number of clusters\n",
    "\n",
    "X = ss_cust_kmeans[scale_cols]\n",
    "kmeans = KMeans(n_clusters = n_clusters, random_state = 0) # initialize kmeans\n",
    "kmeans.fit(X) # train the model\n",
    "\n",
    "# assign cluster to each row of the original RFM data\n",
    "ss_cust['cluster'] = kmeans.predict(X) "
   ]
  },
  {
   "cell_type": "markdown",
   "metadata": {},
   "source": [
    "Preview of customer-level data, including cluster assignments.  The data looks as expected and so we'll next proceed to cluster profiling."
   ]
  },
  {
   "cell_type": "code",
   "execution_count": 52,
   "metadata": {},
   "outputs": [
    {
     "data": {
      "text/html": [
       "<div>\n",
       "<style scoped>\n",
       "    .dataframe tbody tr th:only-of-type {\n",
       "        vertical-align: middle;\n",
       "    }\n",
       "\n",
       "    .dataframe tbody tr th {\n",
       "        vertical-align: top;\n",
       "    }\n",
       "\n",
       "    .dataframe thead th {\n",
       "        text-align: right;\n",
       "    }\n",
       "</style>\n",
       "<table border=\"1\" class=\"dataframe\">\n",
       "  <thead>\n",
       "    <tr style=\"text-align: right;\">\n",
       "      <th></th>\n",
       "      <th>order_days_cnt</th>\n",
       "      <th>high_rfm_order_days</th>\n",
       "      <th>high_rfm_order_day_pct</th>\n",
       "      <th>product_order_cnt</th>\n",
       "      <th>profit_amt</th>\n",
       "      <th>discount_amt</th>\n",
       "      <th>sales_amt_after_discount</th>\n",
       "      <th>sales_amt_before_discount</th>\n",
       "      <th>order_cnt_seg_corp</th>\n",
       "      <th>order_cnt_seg_home</th>\n",
       "      <th>order_cnt_ship_same_day</th>\n",
       "      <th>days_since_recent_order</th>\n",
       "      <th>profit_rate</th>\n",
       "      <th>discount_rate</th>\n",
       "      <th>seg_rate_corp</th>\n",
       "      <th>seg_rate_home</th>\n",
       "      <th>ship_rate_same_day</th>\n",
       "      <th>cluster</th>\n",
       "    </tr>\n",
       "    <tr>\n",
       "      <th>customer_id</th>\n",
       "      <th></th>\n",
       "      <th></th>\n",
       "      <th></th>\n",
       "      <th></th>\n",
       "      <th></th>\n",
       "      <th></th>\n",
       "      <th></th>\n",
       "      <th></th>\n",
       "      <th></th>\n",
       "      <th></th>\n",
       "      <th></th>\n",
       "      <th></th>\n",
       "      <th></th>\n",
       "      <th></th>\n",
       "      <th></th>\n",
       "      <th></th>\n",
       "      <th></th>\n",
       "      <th></th>\n",
       "    </tr>\n",
       "  </thead>\n",
       "  <tbody>\n",
       "    <tr>\n",
       "      <th>AA-10315</th>\n",
       "      <td>5</td>\n",
       "      <td>1</td>\n",
       "      <td>0.2</td>\n",
       "      <td>11</td>\n",
       "      <td>-362.8825</td>\n",
       "      <td>1269.910</td>\n",
       "      <td>5563.560</td>\n",
       "      <td>6833.47</td>\n",
       "      <td>0.0</td>\n",
       "      <td>0.0</td>\n",
       "      <td>0.0</td>\n",
       "      <td>185</td>\n",
       "      <td>-0.065225</td>\n",
       "      <td>0.185837</td>\n",
       "      <td>0.0</td>\n",
       "      <td>0.0</td>\n",
       "      <td>0.000000</td>\n",
       "      <td>3</td>\n",
       "    </tr>\n",
       "    <tr>\n",
       "      <th>AA-10375</th>\n",
       "      <td>9</td>\n",
       "      <td>0</td>\n",
       "      <td>0.0</td>\n",
       "      <td>15</td>\n",
       "      <td>277.3824</td>\n",
       "      <td>43.180</td>\n",
       "      <td>1056.390</td>\n",
       "      <td>1099.57</td>\n",
       "      <td>0.0</td>\n",
       "      <td>0.0</td>\n",
       "      <td>0.0</td>\n",
       "      <td>20</td>\n",
       "      <td>0.262576</td>\n",
       "      <td>0.039270</td>\n",
       "      <td>0.0</td>\n",
       "      <td>0.0</td>\n",
       "      <td>0.000000</td>\n",
       "      <td>3</td>\n",
       "    </tr>\n",
       "    <tr>\n",
       "      <th>AA-10480</th>\n",
       "      <td>4</td>\n",
       "      <td>2</td>\n",
       "      <td>0.5</td>\n",
       "      <td>12</td>\n",
       "      <td>435.8274</td>\n",
       "      <td>3.888</td>\n",
       "      <td>1790.512</td>\n",
       "      <td>1794.40</td>\n",
       "      <td>0.0</td>\n",
       "      <td>0.0</td>\n",
       "      <td>1.0</td>\n",
       "      <td>260</td>\n",
       "      <td>0.243409</td>\n",
       "      <td>0.002167</td>\n",
       "      <td>0.0</td>\n",
       "      <td>0.0</td>\n",
       "      <td>0.083333</td>\n",
       "      <td>3</td>\n",
       "    </tr>\n",
       "    <tr>\n",
       "      <th>AA-10645</th>\n",
       "      <td>6</td>\n",
       "      <td>3</td>\n",
       "      <td>0.5</td>\n",
       "      <td>18</td>\n",
       "      <td>857.8033</td>\n",
       "      <td>719.775</td>\n",
       "      <td>5086.935</td>\n",
       "      <td>5806.71</td>\n",
       "      <td>0.0</td>\n",
       "      <td>0.0</td>\n",
       "      <td>0.0</td>\n",
       "      <td>56</td>\n",
       "      <td>0.168629</td>\n",
       "      <td>0.123956</td>\n",
       "      <td>0.0</td>\n",
       "      <td>0.0</td>\n",
       "      <td>0.000000</td>\n",
       "      <td>2</td>\n",
       "    </tr>\n",
       "    <tr>\n",
       "      <th>AB-10015</th>\n",
       "      <td>3</td>\n",
       "      <td>0</td>\n",
       "      <td>0.0</td>\n",
       "      <td>6</td>\n",
       "      <td>129.3465</td>\n",
       "      <td>15.334</td>\n",
       "      <td>886.156</td>\n",
       "      <td>901.49</td>\n",
       "      <td>0.0</td>\n",
       "      <td>0.0</td>\n",
       "      <td>0.0</td>\n",
       "      <td>416</td>\n",
       "      <td>0.145964</td>\n",
       "      <td>0.017010</td>\n",
       "      <td>0.0</td>\n",
       "      <td>0.0</td>\n",
       "      <td>0.000000</td>\n",
       "      <td>3</td>\n",
       "    </tr>\n",
       "  </tbody>\n",
       "</table>\n",
       "</div>"
      ],
      "text/plain": [
       "             order_days_cnt  high_rfm_order_days  high_rfm_order_day_pct  \\\n",
       "customer_id                                                                \n",
       "AA-10315                  5                    1                     0.2   \n",
       "AA-10375                  9                    0                     0.0   \n",
       "AA-10480                  4                    2                     0.5   \n",
       "AA-10645                  6                    3                     0.5   \n",
       "AB-10015                  3                    0                     0.0   \n",
       "\n",
       "             product_order_cnt  profit_amt  discount_amt  \\\n",
       "customer_id                                                \n",
       "AA-10315                    11   -362.8825      1269.910   \n",
       "AA-10375                    15    277.3824        43.180   \n",
       "AA-10480                    12    435.8274         3.888   \n",
       "AA-10645                    18    857.8033       719.775   \n",
       "AB-10015                     6    129.3465        15.334   \n",
       "\n",
       "             sales_amt_after_discount  sales_amt_before_discount  \\\n",
       "customer_id                                                        \n",
       "AA-10315                     5563.560                    6833.47   \n",
       "AA-10375                     1056.390                    1099.57   \n",
       "AA-10480                     1790.512                    1794.40   \n",
       "AA-10645                     5086.935                    5806.71   \n",
       "AB-10015                      886.156                     901.49   \n",
       "\n",
       "             order_cnt_seg_corp  order_cnt_seg_home  order_cnt_ship_same_day  \\\n",
       "customer_id                                                                    \n",
       "AA-10315                    0.0                 0.0                      0.0   \n",
       "AA-10375                    0.0                 0.0                      0.0   \n",
       "AA-10480                    0.0                 0.0                      1.0   \n",
       "AA-10645                    0.0                 0.0                      0.0   \n",
       "AB-10015                    0.0                 0.0                      0.0   \n",
       "\n",
       "             days_since_recent_order  profit_rate  discount_rate  \\\n",
       "customer_id                                                        \n",
       "AA-10315                         185    -0.065225       0.185837   \n",
       "AA-10375                          20     0.262576       0.039270   \n",
       "AA-10480                         260     0.243409       0.002167   \n",
       "AA-10645                          56     0.168629       0.123956   \n",
       "AB-10015                         416     0.145964       0.017010   \n",
       "\n",
       "             seg_rate_corp  seg_rate_home  ship_rate_same_day  cluster  \n",
       "customer_id                                                             \n",
       "AA-10315               0.0            0.0            0.000000        3  \n",
       "AA-10375               0.0            0.0            0.000000        3  \n",
       "AA-10480               0.0            0.0            0.083333        3  \n",
       "AA-10645               0.0            0.0            0.000000        2  \n",
       "AB-10015               0.0            0.0            0.000000        3  "
      ]
     },
     "execution_count": 52,
     "metadata": {},
     "output_type": "execute_result"
    }
   ],
   "source": [
    "ss_cust.head()"
   ]
  },
  {
   "cell_type": "markdown",
   "metadata": {},
   "source": [
    "### Cluster profiling\n",
    "\n",
    "Our goal is to create a clear summary of each cluster, both visually and in table form.  We'll start by taking cluster averages across each of our KPIs, and joining the info together into a dataframe."
   ]
  },
  {
   "cell_type": "code",
   "execution_count": 53,
   "metadata": {},
   "outputs": [],
   "source": [
    "# calculate cluster size & means\n",
    "clus_size = pd.DataFrame(round(ss_cust['cluster'].value_counts(normalize = True).sort_index(), 2)).T\n",
    "clus_means = ss_cust.groupby(['cluster']).mean().apply(lambda s: s.apply(lambda x: format(x, 'g'))).T\n",
    "\n",
    "# concat into single df\n",
    "clus_summ = pd.concat([clus_size, clus_means], ignore_index = False)"
   ]
  },
  {
   "cell_type": "markdown",
   "metadata": {},
   "source": [
    "Next, we'll create functions to format our table summary output.  These will make it easier to identify which cluster scored the highest and lowest on each metric.\n",
    "\n",
    "Specifically, we'll highlight the cluster with the max value for each KPI in **<font color='lightsteelblue'>blue</font>** and the min value **<font color='salmon'>red</font>**."
   ]
  },
  {
   "cell_type": "code",
   "execution_count": 54,
   "metadata": {},
   "outputs": [],
   "source": [
    "# highlight max val in series (light-blue)\n",
    "def highlight_max(s):\n",
    "\n",
    "    # handle cases when max value is positive OR negative\n",
    "    is_max = \\\n",
    "        ((s >= s.max() * 0.9) & (s.max() >= 0)) |\\\n",
    "        ((s >= s.max() * 1.1) & (s.max() < 0))\n",
    "\n",
    "    return ['background-color: lightsteelblue' if v else '' for v in is_max]"
   ]
  },
  {
   "cell_type": "code",
   "execution_count": 55,
   "metadata": {},
   "outputs": [],
   "source": [
    "# highlight min val in series (light-red)\n",
    "def highlight_min(s):\n",
    "\n",
    "    # handle cases when min value is positive OR negative\n",
    "    is_min = \\\n",
    "        ((s <= s.min() * 1.1) & (s.min() >= 0)) |\\\n",
    "        ((s <= s.min() * 0.9) & (s.min() < 0))\n",
    "\n",
    "    return ['background-color: mistyrose' if v else '' for v in is_min]"
   ]
  },
  {
   "cell_type": "markdown",
   "metadata": {},
   "source": [
    "## Examine customer clusters\n",
    "\n",
    "And now we examine each of our segments to better understand our customer base and how we might approach each.\n",
    "\n",
    "**<ins>*Unprofitable Discount hunters*</ins>**\n",
    "- The smallest cluster (11% of customers).  Defining characteristics: These customers buy products on massive discount (42% off, on average) and are extremely unprofitable as a result (-26% profit margin). They purchase relatively infrequently, but spend big (and save big) when they do.\n",
    "\n",
    "**<ins>*Home-office shoppers*</ins>**\n",
    "- A relatively small cluster (17% of customers).  Defining characteristics: These customers shop exclusively in the home-office segment; beyond that they are fairly typical.\n",
    "\n",
    "**<ins>*High value customers*</ins>**\n",
    "- A mid-sized cluster (25% of customers).  Defining characteristics: These customers shop often and spend the most.  They represent 63% of company profit, while only 25% of customers.\n",
    "\n",
    "**<ins>*Core customers*</ins>**\n",
    "- The biggest cluster (47% of customers).  Defining characteristics: Nearly half of customers, this group represents  typical shopping behavior.  They shop less often and tend to make smaller purchases when they do. While not the biggest spenders, they still turn a healthy profit (34% of total)."
   ]
  },
  {
   "cell_type": "code",
   "execution_count": 56,
   "metadata": {},
   "outputs": [
    {
     "data": {
      "text/html": [
       "<style  type=\"text/css\" >\n",
       "    #T_3804cd48_74d3_11eb_a53f_8c85900ff746row0_col0 {\n",
       "            : ;\n",
       "            background-color:  mistyrose;\n",
       "        }    #T_3804cd48_74d3_11eb_a53f_8c85900ff746row0_col3 {\n",
       "            background-color:  lightsteelblue;\n",
       "            : ;\n",
       "        }    #T_3804cd48_74d3_11eb_a53f_8c85900ff746row1_col0 {\n",
       "            : ;\n",
       "            background-color:  mistyrose;\n",
       "        }    #T_3804cd48_74d3_11eb_a53f_8c85900ff746row1_col2 {\n",
       "            background-color:  lightsteelblue;\n",
       "            : ;\n",
       "        }    #T_3804cd48_74d3_11eb_a53f_8c85900ff746row2_col2 {\n",
       "            background-color:  lightsteelblue;\n",
       "            : ;\n",
       "        }    #T_3804cd48_74d3_11eb_a53f_8c85900ff746row2_col3 {\n",
       "            : ;\n",
       "            background-color:  mistyrose;\n",
       "        }    #T_3804cd48_74d3_11eb_a53f_8c85900ff746row3_col2 {\n",
       "            background-color:  lightsteelblue;\n",
       "            : ;\n",
       "        }    #T_3804cd48_74d3_11eb_a53f_8c85900ff746row3_col3 {\n",
       "            : ;\n",
       "            background-color:  mistyrose;\n",
       "        }    #T_3804cd48_74d3_11eb_a53f_8c85900ff746row4_col0 {\n",
       "            : ;\n",
       "            background-color:  mistyrose;\n",
       "        }    #T_3804cd48_74d3_11eb_a53f_8c85900ff746row4_col2 {\n",
       "            background-color:  lightsteelblue;\n",
       "            : ;\n",
       "        }    #T_3804cd48_74d3_11eb_a53f_8c85900ff746row4_col3 {\n",
       "            : ;\n",
       "            background-color:  mistyrose;\n",
       "        }    #T_3804cd48_74d3_11eb_a53f_8c85900ff746row5_col0 {\n",
       "            : ;\n",
       "            background-color:  mistyrose;\n",
       "        }    #T_3804cd48_74d3_11eb_a53f_8c85900ff746row5_col2 {\n",
       "            background-color:  lightsteelblue;\n",
       "            : ;\n",
       "        }    #T_3804cd48_74d3_11eb_a53f_8c85900ff746row6_col0 {\n",
       "            background-color:  lightsteelblue;\n",
       "            : ;\n",
       "        }    #T_3804cd48_74d3_11eb_a53f_8c85900ff746row6_col3 {\n",
       "            : ;\n",
       "            background-color:  mistyrose;\n",
       "        }    #T_3804cd48_74d3_11eb_a53f_8c85900ff746row7_col2 {\n",
       "            background-color:  lightsteelblue;\n",
       "            : ;\n",
       "        }    #T_3804cd48_74d3_11eb_a53f_8c85900ff746row7_col3 {\n",
       "            : ;\n",
       "            background-color:  mistyrose;\n",
       "        }    #T_3804cd48_74d3_11eb_a53f_8c85900ff746row8_col2 {\n",
       "            background-color:  lightsteelblue;\n",
       "            : ;\n",
       "        }    #T_3804cd48_74d3_11eb_a53f_8c85900ff746row8_col3 {\n",
       "            : ;\n",
       "            background-color:  mistyrose;\n",
       "        }    #T_3804cd48_74d3_11eb_a53f_8c85900ff746row9_col1 {\n",
       "            : ;\n",
       "            background-color:  mistyrose;\n",
       "        }    #T_3804cd48_74d3_11eb_a53f_8c85900ff746row9_col2 {\n",
       "            background-color:  lightsteelblue;\n",
       "            : ;\n",
       "        }    #T_3804cd48_74d3_11eb_a53f_8c85900ff746row10_col1 {\n",
       "            background-color:  lightsteelblue;\n",
       "            : ;\n",
       "        }    #T_3804cd48_74d3_11eb_a53f_8c85900ff746row10_col3 {\n",
       "            : ;\n",
       "            background-color:  mistyrose;\n",
       "        }    #T_3804cd48_74d3_11eb_a53f_8c85900ff746row11_col0 {\n",
       "            : ;\n",
       "            background-color:  mistyrose;\n",
       "        }    #T_3804cd48_74d3_11eb_a53f_8c85900ff746row11_col1 {\n",
       "            background-color:  lightsteelblue;\n",
       "            : ;\n",
       "        }    #T_3804cd48_74d3_11eb_a53f_8c85900ff746row11_col2 {\n",
       "            background-color:  lightsteelblue;\n",
       "            : ;\n",
       "        }    #T_3804cd48_74d3_11eb_a53f_8c85900ff746row11_col3 {\n",
       "            background-color:  lightsteelblue;\n",
       "            : ;\n",
       "        }    #T_3804cd48_74d3_11eb_a53f_8c85900ff746row12_col0 {\n",
       "            background-color:  lightsteelblue;\n",
       "            : ;\n",
       "        }    #T_3804cd48_74d3_11eb_a53f_8c85900ff746row12_col2 {\n",
       "            : ;\n",
       "            background-color:  mistyrose;\n",
       "        }    #T_3804cd48_74d3_11eb_a53f_8c85900ff746row13_col0 {\n",
       "            : ;\n",
       "            background-color:  mistyrose;\n",
       "        }    #T_3804cd48_74d3_11eb_a53f_8c85900ff746row13_col1 {\n",
       "            background-color:  lightsteelblue;\n",
       "            : ;\n",
       "        }    #T_3804cd48_74d3_11eb_a53f_8c85900ff746row14_col0 {\n",
       "            background-color:  lightsteelblue;\n",
       "            : ;\n",
       "        }    #T_3804cd48_74d3_11eb_a53f_8c85900ff746row14_col1 {\n",
       "            : ;\n",
       "            background-color:  mistyrose;\n",
       "        }    #T_3804cd48_74d3_11eb_a53f_8c85900ff746row14_col2 {\n",
       "            : ;\n",
       "            background-color:  mistyrose;\n",
       "        }    #T_3804cd48_74d3_11eb_a53f_8c85900ff746row14_col3 {\n",
       "            : ;\n",
       "            background-color:  mistyrose;\n",
       "        }    #T_3804cd48_74d3_11eb_a53f_8c85900ff746row15_col0 {\n",
       "            background-color:  lightsteelblue;\n",
       "            : ;\n",
       "        }    #T_3804cd48_74d3_11eb_a53f_8c85900ff746row15_col1 {\n",
       "            : ;\n",
       "            background-color:  mistyrose;\n",
       "        }    #T_3804cd48_74d3_11eb_a53f_8c85900ff746row15_col2 {\n",
       "            background-color:  lightsteelblue;\n",
       "            : ;\n",
       "        }    #T_3804cd48_74d3_11eb_a53f_8c85900ff746row16_col1 {\n",
       "            background-color:  lightsteelblue;\n",
       "            : ;\n",
       "        }    #T_3804cd48_74d3_11eb_a53f_8c85900ff746row16_col3 {\n",
       "            : ;\n",
       "            background-color:  mistyrose;\n",
       "        }    #T_3804cd48_74d3_11eb_a53f_8c85900ff746row17_col0 {\n",
       "            : ;\n",
       "            background-color:  mistyrose;\n",
       "        }    #T_3804cd48_74d3_11eb_a53f_8c85900ff746row17_col3 {\n",
       "            background-color:  lightsteelblue;\n",
       "            : ;\n",
       "        }</style><table id=\"T_3804cd48_74d3_11eb_a53f_8c85900ff746\" ><thead>    <tr>        <th class=\"blank level0\" ></th>        <th class=\"col_heading level0 col0\" >discount_hunters</th>        <th class=\"col_heading level0 col1\" >home_office shoppers</th>        <th class=\"col_heading level0 col2\" >high_value_customers</th>        <th class=\"col_heading level0 col3\" >core_customers</th>    </tr></thead><tbody>\n",
       "                <tr>\n",
       "                        <th id=\"T_3804cd48_74d3_11eb_a53f_8c85900ff746level0_row0\" class=\"row_heading level0 row0\" >cluster_size</th>\n",
       "                        <td id=\"T_3804cd48_74d3_11eb_a53f_8c85900ff746row0_col0\" class=\"data row0 col0\" >0.11</td>\n",
       "                        <td id=\"T_3804cd48_74d3_11eb_a53f_8c85900ff746row0_col1\" class=\"data row0 col1\" >0.17</td>\n",
       "                        <td id=\"T_3804cd48_74d3_11eb_a53f_8c85900ff746row0_col2\" class=\"data row0 col2\" >0.25</td>\n",
       "                        <td id=\"T_3804cd48_74d3_11eb_a53f_8c85900ff746row0_col3\" class=\"data row0 col3\" >0.47</td>\n",
       "            </tr>\n",
       "            <tr>\n",
       "                        <th id=\"T_3804cd48_74d3_11eb_a53f_8c85900ff746level0_row1\" class=\"row_heading level0 row1\" >order_days_cnt</th>\n",
       "                        <td id=\"T_3804cd48_74d3_11eb_a53f_8c85900ff746row1_col0\" class=\"data row1 col0\" >4.96</td>\n",
       "                        <td id=\"T_3804cd48_74d3_11eb_a53f_8c85900ff746row1_col1\" class=\"data row1 col1\" >6.21</td>\n",
       "                        <td id=\"T_3804cd48_74d3_11eb_a53f_8c85900ff746row1_col2\" class=\"data row1 col2\" >8.18</td>\n",
       "                        <td id=\"T_3804cd48_74d3_11eb_a53f_8c85900ff746row1_col3\" class=\"data row1 col3\" >5.65</td>\n",
       "            </tr>\n",
       "            <tr>\n",
       "                        <th id=\"T_3804cd48_74d3_11eb_a53f_8c85900ff746level0_row2\" class=\"row_heading level0 row2\" >high_rfm_order_days</th>\n",
       "                        <td id=\"T_3804cd48_74d3_11eb_a53f_8c85900ff746row2_col0\" class=\"data row2 col0\" >1.08</td>\n",
       "                        <td id=\"T_3804cd48_74d3_11eb_a53f_8c85900ff746row2_col1\" class=\"data row2 col1\" >1.28</td>\n",
       "                        <td id=\"T_3804cd48_74d3_11eb_a53f_8c85900ff746row2_col2\" class=\"data row2 col2\" >3.15</td>\n",
       "                        <td id=\"T_3804cd48_74d3_11eb_a53f_8c85900ff746row2_col3\" class=\"data row2 col3\" >0.72</td>\n",
       "            </tr>\n",
       "            <tr>\n",
       "                        <th id=\"T_3804cd48_74d3_11eb_a53f_8c85900ff746level0_row3\" class=\"row_heading level0 row3\" >high_rfm_order_day_pct</th>\n",
       "                        <td id=\"T_3804cd48_74d3_11eb_a53f_8c85900ff746row3_col0\" class=\"data row3 col0\" >0.22</td>\n",
       "                        <td id=\"T_3804cd48_74d3_11eb_a53f_8c85900ff746row3_col1\" class=\"data row3 col1\" >0.19</td>\n",
       "                        <td id=\"T_3804cd48_74d3_11eb_a53f_8c85900ff746row3_col2\" class=\"data row3 col2\" >0.41</td>\n",
       "                        <td id=\"T_3804cd48_74d3_11eb_a53f_8c85900ff746row3_col3\" class=\"data row3 col3\" >0.13</td>\n",
       "            </tr>\n",
       "            <tr>\n",
       "                        <th id=\"T_3804cd48_74d3_11eb_a53f_8c85900ff746level0_row4\" class=\"row_heading level0 row4\" >product_order_cnt</th>\n",
       "                        <td id=\"T_3804cd48_74d3_11eb_a53f_8c85900ff746row4_col0\" class=\"data row4 col0\" >10.11</td>\n",
       "                        <td id=\"T_3804cd48_74d3_11eb_a53f_8c85900ff746row4_col1\" class=\"data row4 col1\" >11.98</td>\n",
       "                        <td id=\"T_3804cd48_74d3_11eb_a53f_8c85900ff746row4_col2\" class=\"data row4 col2\" >18.96</td>\n",
       "                        <td id=\"T_3804cd48_74d3_11eb_a53f_8c85900ff746row4_col3\" class=\"data row4 col3\" >10.05</td>\n",
       "            </tr>\n",
       "            <tr>\n",
       "                        <th id=\"T_3804cd48_74d3_11eb_a53f_8c85900ff746level0_row5\" class=\"row_heading level0 row5\" >profit_amt</th>\n",
       "                        <td id=\"T_3804cd48_74d3_11eb_a53f_8c85900ff746row5_col0\" class=\"data row5 col0\" >-625.18</td>\n",
       "                        <td id=\"T_3804cd48_74d3_11eb_a53f_8c85900ff746row5_col1\" class=\"data row5 col1\" >468.66</td>\n",
       "                        <td id=\"T_3804cd48_74d3_11eb_a53f_8c85900ff746row5_col2\" class=\"data row5 col2\" >925.23</td>\n",
       "                        <td id=\"T_3804cd48_74d3_11eb_a53f_8c85900ff746row5_col3\" class=\"data row5 col3\" >264.61</td>\n",
       "            </tr>\n",
       "            <tr>\n",
       "                        <th id=\"T_3804cd48_74d3_11eb_a53f_8c85900ff746level0_row6\" class=\"row_heading level0 row6\" >discount_amt</th>\n",
       "                        <td id=\"T_3804cd48_74d3_11eb_a53f_8c85900ff746row6_col0\" class=\"data row6 col0\" >1869.78</td>\n",
       "                        <td id=\"T_3804cd48_74d3_11eb_a53f_8c85900ff746row6_col1\" class=\"data row6 col1\" >445.19</td>\n",
       "                        <td id=\"T_3804cd48_74d3_11eb_a53f_8c85900ff746row6_col2\" class=\"data row6 col2\" >1138.54</td>\n",
       "                        <td id=\"T_3804cd48_74d3_11eb_a53f_8c85900ff746row6_col3\" class=\"data row6 col3\" >302.50</td>\n",
       "            </tr>\n",
       "            <tr>\n",
       "                        <th id=\"T_3804cd48_74d3_11eb_a53f_8c85900ff746level0_row7\" class=\"row_heading level0 row7\" >sales_amt_after_discount</th>\n",
       "                        <td id=\"T_3804cd48_74d3_11eb_a53f_8c85900ff746row7_col0\" class=\"data row7 col0\" >2211.44</td>\n",
       "                        <td id=\"T_3804cd48_74d3_11eb_a53f_8c85900ff746row7_col1\" class=\"data row7 col1\" >2591.33</td>\n",
       "                        <td id=\"T_3804cd48_74d3_11eb_a53f_8c85900ff746row7_col2\" class=\"data row7 col2\" >5590.25</td>\n",
       "                        <td id=\"T_3804cd48_74d3_11eb_a53f_8c85900ff746row7_col3\" class=\"data row7 col3\" >1741.62</td>\n",
       "            </tr>\n",
       "            <tr>\n",
       "                        <th id=\"T_3804cd48_74d3_11eb_a53f_8c85900ff746level0_row8\" class=\"row_heading level0 row8\" >sales_amt_before_discount</th>\n",
       "                        <td id=\"T_3804cd48_74d3_11eb_a53f_8c85900ff746row8_col0\" class=\"data row8 col0\" >4081.22</td>\n",
       "                        <td id=\"T_3804cd48_74d3_11eb_a53f_8c85900ff746row8_col1\" class=\"data row8 col1\" >3036.52</td>\n",
       "                        <td id=\"T_3804cd48_74d3_11eb_a53f_8c85900ff746row8_col2\" class=\"data row8 col2\" >6728.80</td>\n",
       "                        <td id=\"T_3804cd48_74d3_11eb_a53f_8c85900ff746row8_col3\" class=\"data row8 col3\" >2044.12</td>\n",
       "            </tr>\n",
       "            <tr>\n",
       "                        <th id=\"T_3804cd48_74d3_11eb_a53f_8c85900ff746level0_row9\" class=\"row_heading level0 row9\" >order_cnt_seg_corp</th>\n",
       "                        <td id=\"T_3804cd48_74d3_11eb_a53f_8c85900ff746row9_col0\" class=\"data row9 col0\" >3.69</td>\n",
       "                        <td id=\"T_3804cd48_74d3_11eb_a53f_8c85900ff746row9_col1\" class=\"data row9 col1\" >0.00</td>\n",
       "                        <td id=\"T_3804cd48_74d3_11eb_a53f_8c85900ff746row9_col2\" class=\"data row9 col2\" >7.53</td>\n",
       "                        <td id=\"T_3804cd48_74d3_11eb_a53f_8c85900ff746row9_col3\" class=\"data row9 col3\" >3.20</td>\n",
       "            </tr>\n",
       "            <tr>\n",
       "                        <th id=\"T_3804cd48_74d3_11eb_a53f_8c85900ff746level0_row10\" class=\"row_heading level0 row10\" >order_cnt_seg_home</th>\n",
       "                        <td id=\"T_3804cd48_74d3_11eb_a53f_8c85900ff746row10_col0\" class=\"data row10 col0\" >1.13</td>\n",
       "                        <td id=\"T_3804cd48_74d3_11eb_a53f_8c85900ff746row10_col1\" class=\"data row10 col1\" >11.98</td>\n",
       "                        <td id=\"T_3804cd48_74d3_11eb_a53f_8c85900ff746row10_col2\" class=\"data row10 col2\" >0.56</td>\n",
       "                        <td id=\"T_3804cd48_74d3_11eb_a53f_8c85900ff746row10_col3\" class=\"data row10 col3\" >0.00</td>\n",
       "            </tr>\n",
       "            <tr>\n",
       "                        <th id=\"T_3804cd48_74d3_11eb_a53f_8c85900ff746level0_row11\" class=\"row_heading level0 row11\" >order_cnt_ship_same_day</th>\n",
       "                        <td id=\"T_3804cd48_74d3_11eb_a53f_8c85900ff746row11_col0\" class=\"data row11 col0\" >0.35</td>\n",
       "                        <td id=\"T_3804cd48_74d3_11eb_a53f_8c85900ff746row11_col1\" class=\"data row11 col1\" >0.76</td>\n",
       "                        <td id=\"T_3804cd48_74d3_11eb_a53f_8c85900ff746row11_col2\" class=\"data row11 col2\" >0.72</td>\n",
       "                        <td id=\"T_3804cd48_74d3_11eb_a53f_8c85900ff746row11_col3\" class=\"data row11 col3\" >0.72</td>\n",
       "            </tr>\n",
       "            <tr>\n",
       "                        <th id=\"T_3804cd48_74d3_11eb_a53f_8c85900ff746level0_row12\" class=\"row_heading level0 row12\" >days_since_recent_order</th>\n",
       "                        <td id=\"T_3804cd48_74d3_11eb_a53f_8c85900ff746row12_col0\" class=\"data row12 col0\" >242.19</td>\n",
       "                        <td id=\"T_3804cd48_74d3_11eb_a53f_8c85900ff746row12_col1\" class=\"data row12 col1\" >150.61</td>\n",
       "                        <td id=\"T_3804cd48_74d3_11eb_a53f_8c85900ff746row12_col2\" class=\"data row12 col2\" >93.39</td>\n",
       "                        <td id=\"T_3804cd48_74d3_11eb_a53f_8c85900ff746row12_col3\" class=\"data row12 col3\" >152.67</td>\n",
       "            </tr>\n",
       "            <tr>\n",
       "                        <th id=\"T_3804cd48_74d3_11eb_a53f_8c85900ff746level0_row13\" class=\"row_heading level0 row13\" >profit_rate</th>\n",
       "                        <td id=\"T_3804cd48_74d3_11eb_a53f_8c85900ff746row13_col0\" class=\"data row13 col0\" >-0.26</td>\n",
       "                        <td id=\"T_3804cd48_74d3_11eb_a53f_8c85900ff746row13_col1\" class=\"data row13 col1\" >0.17</td>\n",
       "                        <td id=\"T_3804cd48_74d3_11eb_a53f_8c85900ff746row13_col2\" class=\"data row13 col2\" >0.15</td>\n",
       "                        <td id=\"T_3804cd48_74d3_11eb_a53f_8c85900ff746row13_col3\" class=\"data row13 col3\" >0.15</td>\n",
       "            </tr>\n",
       "            <tr>\n",
       "                        <th id=\"T_3804cd48_74d3_11eb_a53f_8c85900ff746level0_row14\" class=\"row_heading level0 row14\" >discount_rate</th>\n",
       "                        <td id=\"T_3804cd48_74d3_11eb_a53f_8c85900ff746row14_col0\" class=\"data row14 col0\" >0.42</td>\n",
       "                        <td id=\"T_3804cd48_74d3_11eb_a53f_8c85900ff746row14_col1\" class=\"data row14 col1\" >0.14</td>\n",
       "                        <td id=\"T_3804cd48_74d3_11eb_a53f_8c85900ff746row14_col2\" class=\"data row14 col2\" >0.15</td>\n",
       "                        <td id=\"T_3804cd48_74d3_11eb_a53f_8c85900ff746row14_col3\" class=\"data row14 col3\" >0.14</td>\n",
       "            </tr>\n",
       "            <tr>\n",
       "                        <th id=\"T_3804cd48_74d3_11eb_a53f_8c85900ff746level0_row15\" class=\"row_heading level0 row15\" >seg_rate_corp</th>\n",
       "                        <td id=\"T_3804cd48_74d3_11eb_a53f_8c85900ff746row15_col0\" class=\"data row15 col0\" >0.37</td>\n",
       "                        <td id=\"T_3804cd48_74d3_11eb_a53f_8c85900ff746row15_col1\" class=\"data row15 col1\" >0.00</td>\n",
       "                        <td id=\"T_3804cd48_74d3_11eb_a53f_8c85900ff746row15_col2\" class=\"data row15 col2\" >0.40</td>\n",
       "                        <td id=\"T_3804cd48_74d3_11eb_a53f_8c85900ff746row15_col3\" class=\"data row15 col3\" >0.33</td>\n",
       "            </tr>\n",
       "            <tr>\n",
       "                        <th id=\"T_3804cd48_74d3_11eb_a53f_8c85900ff746level0_row16\" class=\"row_heading level0 row16\" >seg_rate_home</th>\n",
       "                        <td id=\"T_3804cd48_74d3_11eb_a53f_8c85900ff746row16_col0\" class=\"data row16 col0\" >0.12</td>\n",
       "                        <td id=\"T_3804cd48_74d3_11eb_a53f_8c85900ff746row16_col1\" class=\"data row16 col1\" >1.00</td>\n",
       "                        <td id=\"T_3804cd48_74d3_11eb_a53f_8c85900ff746row16_col2\" class=\"data row16 col2\" >0.03</td>\n",
       "                        <td id=\"T_3804cd48_74d3_11eb_a53f_8c85900ff746row16_col3\" class=\"data row16 col3\" >0.00</td>\n",
       "            </tr>\n",
       "            <tr>\n",
       "                        <th id=\"T_3804cd48_74d3_11eb_a53f_8c85900ff746level0_row17\" class=\"row_heading level0 row17\" >ship_rate_same_day</th>\n",
       "                        <td id=\"T_3804cd48_74d3_11eb_a53f_8c85900ff746row17_col0\" class=\"data row17 col0\" >0.03</td>\n",
       "                        <td id=\"T_3804cd48_74d3_11eb_a53f_8c85900ff746row17_col1\" class=\"data row17 col1\" >0.05</td>\n",
       "                        <td id=\"T_3804cd48_74d3_11eb_a53f_8c85900ff746row17_col2\" class=\"data row17 col2\" >0.03</td>\n",
       "                        <td id=\"T_3804cd48_74d3_11eb_a53f_8c85900ff746row17_col3\" class=\"data row17 col3\" >0.07</td>\n",
       "            </tr>\n",
       "    </tbody></table>"
      ],
      "text/plain": [
       "<pandas.io.formats.style.Styler at 0x7ff750b3f3c8>"
      ]
     },
     "execution_count": 56,
     "metadata": {},
     "output_type": "execute_result"
    }
   ],
   "source": [
    "# rename cluster centers to segment names\n",
    "clus_summ = clus_summ.rename(\n",
    "    columns = {0: 'discount_hunters', \n",
    "               1: 'home_office shoppers', \n",
    "               2: 'high_value_customers', \n",
    "               3: 'core_customers'},\n",
    "    index = {'cluster': 'cluster_size'})\n",
    "\n",
    "# summarize output by cluster\n",
    "clus_summ.apply(pd.to_numeric).style\\\n",
    "    .apply(highlight_max, axis = 1)\\\n",
    "    .apply(highlight_min, axis = 1)\\\n",
    "    .set_precision(2)"
   ]
  },
  {
   "cell_type": "markdown",
   "metadata": {},
   "source": [
    "### Cluster Data Visualization\n",
    "\n",
    "The table above shows us the detailed information on each segment, but let's also plot the data to easily digest the key traits.\n",
    "\n",
    "The function below creates bar plot crosstabs, provided a dataframe and columns to plot.  We'll use it to split by our customer data by segment."
   ]
  },
  {
   "cell_type": "code",
   "execution_count": 57,
   "metadata": {},
   "outputs": [],
   "source": [
    "def bar_plots(df, x, col_list, n_cols):\n",
    "\n",
    "    # deduce nbr of rows needed for plot\n",
    "    n_rows = math.ceil(len(col_list) / n_cols)\n",
    "\n",
    "    # set figure, axis properties\n",
    "    fig, ax = plt.subplots(ncols = n_cols, nrows = n_rows)\n",
    "    fig.set_size_inches(16, 2 * n_rows)\n",
    "    fig.tight_layout(h_pad = 6, w_pad = 12)\n",
    "\n",
    "    for i, col in enumerate(col_list):\n",
    "        i_row = math.floor(i / n_cols)\n",
    "        i_col = i % n_cols\n",
    "        sns.barplot(data = df, x = x, y = col, \n",
    "                    orient = 'v', ci = None, ax = ax[i_row][i_col])\n",
    "        ax[i_row][i_col].title.set_text(col + ', by Customer segment')"
   ]
  },
  {
   "cell_type": "markdown",
   "metadata": {},
   "source": [
    "### Plot cluster summary output\n",
    "\n",
    "Data visualization across the subset of attributes that were used to find cluster centers clearly shows how the segments differ.\n",
    "\n",
    "We can easily see the defining characteristics of each segment (with \"core customers\" as the notable exception; they represent the core, standard customer after all)."
   ]
  },
  {
   "cell_type": "code",
   "execution_count": 58,
   "metadata": {},
   "outputs": [
    {
     "data": {
      "image/png": "[encoded data removed]",
      "text/plain": [
       "<Figure size 1152x720 with 10 Axes>"
      ]
     },
     "metadata": {
      "needs_background": "light"
     },
     "output_type": "display_data"
    }
   ],
   "source": [
    "# re-map cluster values\n",
    "ss_cust['cluster'] = ss_cust['cluster'].map({\n",
    "    0: 'discount_hunters', \n",
    "    1: 'home_office shoppers', \n",
    "    2: 'high_value_customers', \n",
    "    3: 'core_customers'})\n",
    "\n",
    "# plot attributes used for clustering\n",
    "bar_plots(ss_cust, 'cluster', kmean_cols, 2)"
   ]
  },
  {
   "cell_type": "markdown",
   "metadata": {},
   "source": [
    "## Conclusion\n",
    "\n",
    "Through customer transaction analysis we were able to understand trends in overall sales, identify different types of transactions (through RFM), and segment customers into groups with distinct needs.\n",
    "\n",
    "\n",
    "\n",
    "\n",
    "**<ins>*High value customers*</ins>**<br>\n",
    "We found that 25% of our customers are extremely engaged and generating most of our profits.  Our main goal with these customers is retention.  Increased personalization and loyalty rewards will be key to keeping this group engaged.  Next steps for this group are to evaluate trends in engagements. We can use our wealth of transaction data with these customers to send personalized communications and promotional offers at the right time to stay top of mind and show that we value of them.  In the long-term, we should look to build a loyalty program around the needs and preferences of these customers.\n",
    "\n",
    "**<ins>*Core customers*</ins>**<br>\n",
    "Core customers make up half of our customer base.  They generate healthy profit, but don't purchase too frequently.  With this segment, we should be looking to foster growth and build stronger customer relationships. Our goal is to migrate these customers up the value chain into the *high value customers* segment.  Next steps for these customers are to understand purchase patterns and offer NPTB (next-product-to-buy) suggestions to encourage repeat visits and purchases.\n",
    "\n",
    "**<ins>*Home-office shoppers*</ins>**<br>\n",
    "While slightly more engaged than our core customer base, these customers are primarily unique in that they are specific to the home office segment.  Understanding trends in home office product sales can help inform how we communicate with these customers going forward.  Next steps may include further sub-segmentation of this closer to focus our efforts. \n",
    "\n",
    "**<ins>*Unprofitable Discount hunters*</ins>**<br>\n",
    "This segment is relatively small - about 10% of our customers - but put a heavy tax on our bottom line.  Our goal with these customers is to either migrate them to profitability or disincent loss-leading purchases.  Placing tighter controls around which promotions are advertised to which customer segments, should be a quick win in boosting profitability with this group."
   ]
  }
 ],
 "metadata": {
  "kernelspec": {
   "display_name": "Python 3",
   "language": "python",
   "name": "python3"
  },
  "language_info": {
   "codemirror_mode": {
    "name": "ipython",
    "version": 3
   },
   "file_extension": ".py",
   "mimetype": "text/x-python",
   "name": "python",
   "nbconvert_exporter": "python",
   "pygments_lexer": "ipython3",
   "version": "3.6.10"
  }
 },
 "nbformat": 4,
 "nbformat_minor": 4
}
